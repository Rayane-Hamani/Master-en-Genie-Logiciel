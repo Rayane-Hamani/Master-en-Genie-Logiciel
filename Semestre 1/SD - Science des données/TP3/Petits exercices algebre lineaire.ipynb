{
 "cells": [
  {
   "cell_type": "code",
   "execution_count": 5,
   "metadata": {},
   "outputs": [],
   "source": [
    "import numpy as np"
   ]
  },
  {
   "cell_type": "markdown",
   "metadata": {},
   "source": [
    "# Quelques opérations matricielles"
   ]
  },
  {
   "cell_type": "markdown",
   "metadata": {},
   "source": [
    "**Question** Créer une matrice la matrice `A` suivante avec `arange` et `reshape`\n",
    "\n",
    "    array([[0, 1],\n",
    "           [2, 3],\n",
    "           [4, 5],\n",
    "           [6, 7],\n",
    "           [8, 9]])"
   ]
  },
  {
   "cell_type": "code",
   "execution_count": 6,
   "metadata": {},
   "outputs": [
    {
     "output_type": "execute_result",
     "data": {
      "text/plain": [
       "array([[0, 1],\n",
       "       [2, 3],\n",
       "       [4, 5],\n",
       "       [6, 7],\n",
       "       [8, 9]])"
      ]
     },
     "metadata": {},
     "execution_count": 6
    }
   ],
   "source": [
    "A = np.arange(0, 9+1).reshape(5, 2)\n",
    "A"
   ]
  },
  {
   "cell_type": "markdown",
   "metadata": {},
   "source": [
    "**Question** Calculer `A + A` , `A*2`, `A**2`. "
   ]
  },
  {
   "cell_type": "code",
   "execution_count": 7,
   "metadata": {},
   "outputs": [
    {
     "output_type": "execute_result",
     "data": {
      "text/plain": [
       "array([[ 0,  2],\n",
       "       [ 4,  6],\n",
       "       [ 8, 10],\n",
       "       [12, 14],\n",
       "       [16, 18]])"
      ]
     },
     "metadata": {},
     "execution_count": 7
    }
   ],
   "source": [
    "A + A"
   ]
  },
  {
   "cell_type": "code",
   "execution_count": 8,
   "metadata": {},
   "outputs": [
    {
     "output_type": "execute_result",
     "data": {
      "text/plain": [
       "array([[ 0,  2],\n",
       "       [ 4,  6],\n",
       "       [ 8, 10],\n",
       "       [12, 14],\n",
       "       [16, 18]])"
      ]
     },
     "metadata": {},
     "execution_count": 8
    }
   ],
   "source": [
    "A * 2"
   ]
  },
  {
   "cell_type": "code",
   "execution_count": 9,
   "metadata": {},
   "outputs": [
    {
     "output_type": "execute_result",
     "data": {
      "text/plain": [
       "array([[ 0,  1],\n",
       "       [ 4,  9],\n",
       "       [16, 25],\n",
       "       [36, 49],\n",
       "       [64, 81]])"
      ]
     },
     "metadata": {},
     "execution_count": 9
    }
   ],
   "source": [
    "A ** 2"
   ]
  },
  {
   "cell_type": "markdown",
   "metadata": {},
   "source": [
    "**Question** Décrivez les opérations réalisées. "
   ]
  },
  {
   "cell_type": "markdown",
   "metadata": {},
   "source": [
    "Réponse : Ce sont des opérations qui réalisent l'addition, la multiplication ou la puissance, composante par composante."
   ]
  },
  {
   "cell_type": "markdown",
   "metadata": {},
   "source": [
    "## Premiers exemples de broadcast"
   ]
  },
  {
   "cell_type": "markdown",
   "metadata": {},
   "source": [
    "**Question** Créer un array numpy `v1t` d'une ligne contenant 1 et 2. "
   ]
  },
  {
   "cell_type": "code",
   "execution_count": 10,
   "metadata": {},
   "outputs": [
    {
     "output_type": "execute_result",
     "data": {
      "text/plain": [
       "array([1, 2])"
      ]
     },
     "metadata": {},
     "execution_count": 10
    }
   ],
   "source": [
    "v1t = np.arange(1, 2+1)\n",
    "v1t"
   ]
  },
  {
   "cell_type": "markdown",
   "metadata": {},
   "source": [
    "**Question** Calculer `A+v1t`, que constatez-vous ? "
   ]
  },
  {
   "cell_type": "code",
   "execution_count": 11,
   "metadata": {},
   "outputs": [
    {
     "output_type": "execute_result",
     "data": {
      "text/plain": [
       "array([[ 1,  3],\n",
       "       [ 3,  5],\n",
       "       [ 5,  7],\n",
       "       [ 7,  9],\n",
       "       [ 9, 11]])"
      ]
     },
     "metadata": {},
     "execution_count": 11
    }
   ],
   "source": [
    "A + v1t"
   ]
  },
  {
   "cell_type": "markdown",
   "metadata": {},
   "source": [
    "Réponse: L'addition s'est propagée sur toutes les lignes."
   ]
  },
  {
   "cell_type": "markdown",
   "metadata": {},
   "source": [
    "**Question** Créer une matrice `v2` de 5 lignes 1 colonne contenant les nombres de 0 à 4."
   ]
  },
  {
   "cell_type": "code",
   "execution_count": 12,
   "metadata": {},
   "outputs": [
    {
     "output_type": "execute_result",
     "data": {
      "text/plain": [
       "array([[0],\n",
       "       [1],\n",
       "       [2],\n",
       "       [3],\n",
       "       [4]])"
      ]
     },
     "metadata": {},
     "execution_count": 12
    }
   ],
   "source": [
    "v2 = np.arange(0, 4+1).reshape(5, 1)\n",
    "v2"
   ]
  },
  {
   "cell_type": "markdown",
   "metadata": {},
   "source": [
    "**Question** Calculer `A+v2`. Que constatez-vous ? "
   ]
  },
  {
   "cell_type": "code",
   "execution_count": 13,
   "metadata": {},
   "outputs": [
    {
     "output_type": "execute_result",
     "data": {
      "text/plain": [
       "array([[ 0,  1],\n",
       "       [ 3,  4],\n",
       "       [ 6,  7],\n",
       "       [ 9, 10],\n",
       "       [12, 13]])"
      ]
     },
     "metadata": {},
     "execution_count": 13
    }
   ],
   "source": [
    "A + v2"
   ]
  },
  {
   "cell_type": "markdown",
   "metadata": {},
   "source": [
    "Réponse: L'addition s'est propagée sur toutes les colonnes."
   ]
  },
  {
   "cell_type": "markdown",
   "metadata": {},
   "source": [
    "## 1d-arrays, nd-arrays et transposée"
   ]
  },
  {
   "cell_type": "markdown",
   "metadata": {},
   "source": [
    "**Question** Nommer `v3t` et `v4t` les deux premières colonnes de `A`. "
   ]
  },
  {
   "cell_type": "code",
   "execution_count": 14,
   "metadata": {},
   "outputs": [
    {
     "output_type": "execute_result",
     "data": {
      "text/plain": [
       "(array([0, 2, 4, 6, 8]), array([1, 3, 5, 7, 9]))"
      ]
     },
     "metadata": {},
     "execution_count": 14
    }
   ],
   "source": [
    "v3t = A[:, 0]\n",
    "v4t = A[:, 1]\n",
    "v3t, v4t"
   ]
  },
  {
   "cell_type": "markdown",
   "metadata": {},
   "source": [
    "**Question** Que constatez-vous ? Est-ce une matrice colonne ?"
   ]
  },
  {
   "cell_type": "markdown",
   "metadata": {},
   "source": [
    "Réponse : Les colonnes ont été reprises sous forme de lignes."
   ]
  },
  {
   "cell_type": "markdown",
   "metadata": {},
   "source": [
    "**Note** L'attribut `T` donne la transposée de la matrice. **Attention** il existe une distinction entre des arrays numpy à n dimension avec n > 1 et les arrays à 1 dimension (nd-arrays et 1d-arrays)"
   ]
  },
  {
   "cell_type": "markdown",
   "metadata": {},
   "source": [
    "**Question** afficher la transposée de `A` et celle de `v1t` puis celle de `v2`."
   ]
  },
  {
   "cell_type": "code",
   "execution_count": 15,
   "metadata": {},
   "outputs": [
    {
     "output_type": "execute_result",
     "data": {
      "text/plain": [
       "array([[0, 2, 4, 6, 8],\n",
       "       [1, 3, 5, 7, 9]])"
      ]
     },
     "metadata": {},
     "execution_count": 15
    }
   ],
   "source": [
    "A.T"
   ]
  },
  {
   "cell_type": "code",
   "execution_count": 16,
   "metadata": {},
   "outputs": [
    {
     "output_type": "execute_result",
     "data": {
      "text/plain": [
       "array([1, 2])"
      ]
     },
     "metadata": {},
     "execution_count": 16
    }
   ],
   "source": [
    "v1t.T"
   ]
  },
  {
   "cell_type": "code",
   "execution_count": 17,
   "metadata": {},
   "outputs": [
    {
     "output_type": "execute_result",
     "data": {
      "text/plain": [
       "array([[0, 1, 2, 3, 4]])"
      ]
     },
     "metadata": {},
     "execution_count": 17
    }
   ],
   "source": [
    "v2.T"
   ]
  },
  {
   "cell_type": "markdown",
   "metadata": {},
   "source": [
    "**Question** Que constatez-vous ? "
   ]
  },
  {
   "cell_type": "markdown",
   "metadata": {},
   "source": [
    "Réponse : Les arrays à 1 dimension ne possède pas de transposée car ils ne sont composés que d'un seul tableau. La transposée est réalisable dès lors que la dimension d'un array dépasse 1, c'est à dire qu'il est composé lui-même de plusieurs autres tableaux."
   ]
  },
  {
   "cell_type": "markdown",
   "metadata": {},
   "source": [
    "# Multiplications de matrice"
   ]
  },
  {
   "cell_type": "markdown",
   "metadata": {},
   "source": [
    "On rappelle que le produit de deux matrices $A$ et $B$ est possible si le nombre de colonnes de $A$ est égal au nombre de lignes de $B$. Si $A$ est de taille $(n,m)$ et $B$ de taille $(m,p)$ alors $C=AB$ est de taille $(n,p)$ et $$C_{i,j} = \\sum_{k=1}^m A_{i,k}\\times B_{k,j}$$"
   ]
  },
  {
   "cell_type": "markdown",
   "metadata": {},
   "source": [
    "**Note** le produit de matrice se fait de différentes façons en numpy:"
   ]
  },
  {
   "cell_type": "code",
   "execution_count": 18,
   "metadata": {},
   "outputs": [
    {
     "output_type": "execute_result",
     "data": {
      "text/plain": [
       "array([[1, 2],\n",
       "       [3, 4]])"
      ]
     },
     "metadata": {},
     "execution_count": 18
    }
   ],
   "source": [
    "A2 = np.array([[1, 2],[3, 4]])\n",
    "A2"
   ]
  },
  {
   "cell_type": "code",
   "execution_count": 19,
   "metadata": {},
   "outputs": [
    {
     "output_type": "execute_result",
     "data": {
      "text/plain": [
       "(array([[ 3,  4],\n",
       "        [11, 16],\n",
       "        [19, 28],\n",
       "        [27, 40],\n",
       "        [35, 52]]),\n",
       " array([[ 3,  4],\n",
       "        [11, 16],\n",
       "        [19, 28],\n",
       "        [27, 40],\n",
       "        [35, 52]]),\n",
       " array([[ 3,  4],\n",
       "        [11, 16],\n",
       "        [19, 28],\n",
       "        [27, 40],\n",
       "        [35, 52]]))"
      ]
     },
     "metadata": {},
     "execution_count": 19
    }
   ],
   "source": [
    "A@A2, np.dot(A, A2), A.dot(A2)"
   ]
  },
  {
   "cell_type": "markdown",
   "metadata": {},
   "source": [
    "**Question** Calculer $v_2^\\top A$ et $A^\\top v_2$"
   ]
  },
  {
   "cell_type": "code",
   "execution_count": 20,
   "metadata": {},
   "outputs": [
    {
     "output_type": "execute_result",
     "data": {
      "text/plain": [
       "array([[60, 70]])"
      ]
     },
     "metadata": {},
     "execution_count": 20
    }
   ],
   "source": [
    "v2.T@A"
   ]
  },
  {
   "cell_type": "code",
   "execution_count": 21,
   "metadata": {},
   "outputs": [
    {
     "output_type": "execute_result",
     "data": {
      "text/plain": [
       "array([[60],\n",
       "       [70]])"
      ]
     },
     "metadata": {},
     "execution_count": 21
    }
   ],
   "source": [
    "A.T@v2"
   ]
  },
  {
   "cell_type": "markdown",
   "metadata": {},
   "source": [
    "**Note** On peut créer un objet `rs` qui est une instance de `np.random.RandomState` pour initialiser le générateur de nombres aléatoires de numpy avec une graine spécifique. On utilisera `rs` ensuite pour les tirages."
   ]
  },
  {
   "cell_type": "code",
   "execution_count": 22,
   "metadata": {},
   "outputs": [],
   "source": [
    "rs = np.random.RandomState(42)"
   ]
  },
  {
   "cell_type": "markdown",
   "metadata": {},
   "source": [
    "**Question** Faire trois matrices `A`, `B` et `C` de nombres aléatoires entiers entre 0 et 9 de taille 3 par 3.\n"
   ]
  },
  {
   "cell_type": "code",
   "execution_count": 23,
   "metadata": {},
   "outputs": [],
   "source": [
    "A = rs.randint(0, 9+1, (3, 3))\n",
    "B = rs.randint(0, 9+1, (3, 3))\n",
    "C = rs.randint(0, 9+1, (3, 3))"
   ]
  },
  {
   "cell_type": "markdown",
   "metadata": {},
   "source": [
    "**Question** Calculer $AB$, $BA$, $A^\\top B^\\top$, $(BA)^\\top$"
   ]
  },
  {
   "cell_type": "code",
   "execution_count": 24,
   "metadata": {},
   "outputs": [
    {
     "output_type": "execute_result",
     "data": {
      "text/plain": [
       "array([[ 73,  31, 106],\n",
       "       [ 94,  33, 121],\n",
       "       [ 78,  25,  93]])"
      ]
     },
     "metadata": {},
     "execution_count": 24
    }
   ],
   "source": [
    "A@B"
   ]
  },
  {
   "cell_type": "code",
   "execution_count": 25,
   "metadata": {},
   "outputs": [
    {
     "output_type": "execute_result",
     "data": {
      "text/plain": [
       "array([[ 50,  72, 104],\n",
       "       [ 60,  63, 102],\n",
       "       [ 42,  60,  86]])"
      ]
     },
     "metadata": {},
     "execution_count": 25
    }
   ],
   "source": [
    "B@A"
   ]
  },
  {
   "cell_type": "code",
   "execution_count": 26,
   "metadata": {},
   "outputs": [
    {
     "output_type": "execute_result",
     "data": {
      "text/plain": [
       "array([[ 50,  60,  42],\n",
       "       [ 72,  63,  60],\n",
       "       [104, 102,  86]])"
      ]
     },
     "metadata": {},
     "execution_count": 26
    }
   ],
   "source": [
    "A.T@B.T"
   ]
  },
  {
   "cell_type": "code",
   "execution_count": 27,
   "metadata": {},
   "outputs": [
    {
     "output_type": "execute_result",
     "data": {
      "text/plain": [
       "array([[ 50,  60,  42],\n",
       "       [ 72,  63,  60],\n",
       "       [104, 102,  86]])"
      ]
     },
     "metadata": {},
     "execution_count": 27
    }
   ],
   "source": [
    "(B@A).T"
   ]
  },
  {
   "cell_type": "markdown",
   "metadata": {},
   "source": [
    "**Question** reportez les identités et les différences."
   ]
  },
  {
   "cell_type": "markdown",
   "metadata": {},
   "source": [
    "Réponse : A.T@B.T est équivalent à (B@A).T."
   ]
  },
  {
   "cell_type": "markdown",
   "metadata": {},
   "source": [
    "**Question** Calculer $(AB)C$, $A(BC)$, $A(B+C)$, $AB+AC$"
   ]
  },
  {
   "cell_type": "code",
   "execution_count": 28,
   "metadata": {},
   "outputs": [
    {
     "output_type": "execute_result",
     "data": {
      "text/plain": [
       "array([[1213,  352, 1401],\n",
       "       [1438,  391, 1630],\n",
       "       [1134,  303, 1274]])"
      ]
     },
     "metadata": {},
     "execution_count": 28
    }
   ],
   "source": [
    "(A@B)@C"
   ]
  },
  {
   "cell_type": "code",
   "execution_count": 29,
   "metadata": {},
   "outputs": [
    {
     "output_type": "execute_result",
     "data": {
      "text/plain": [
       "array([[1213,  352, 1401],\n",
       "       [1438,  391, 1630],\n",
       "       [1134,  303, 1274]])"
      ]
     },
     "metadata": {},
     "execution_count": 29
    }
   ],
   "source": [
    "A@(B@C)"
   ]
  },
  {
   "cell_type": "code",
   "execution_count": 30,
   "metadata": {},
   "outputs": [
    {
     "output_type": "execute_result",
     "data": {
      "text/plain": [
       "array([[159,  64, 208],\n",
       "       [186,  91, 248],\n",
       "       [144,  81, 194]])"
      ]
     },
     "metadata": {},
     "execution_count": 30
    }
   ],
   "source": [
    "A@(C+B)"
   ]
  },
  {
   "cell_type": "code",
   "execution_count": 31,
   "metadata": {},
   "outputs": [
    {
     "output_type": "execute_result",
     "data": {
      "text/plain": [
       "array([[159,  64, 208],\n",
       "       [186,  91, 248],\n",
       "       [144,  81, 194]])"
      ]
     },
     "metadata": {},
     "execution_count": 31
    }
   ],
   "source": [
    "A@B + A@C"
   ]
  },
  {
   "cell_type": "markdown",
   "metadata": {},
   "source": [
    "**Question** Reportez les identités remarquées."
   ]
  },
  {
   "cell_type": "markdown",
   "metadata": {},
   "source": [
    "Réponse : (A@B)@C est équivalent à A@(B@C). A@(C+B) est équivalent à A@B + A@C."
   ]
  },
  {
   "cell_type": "markdown",
   "metadata": {},
   "source": [
    "## Produit scalaire"
   ]
  },
  {
   "cell_type": "markdown",
   "metadata": {},
   "source": [
    "On rappelle que le produit scalaire de deux vecteurs de dimension $n$ est $$\\langle u,v \\rangle= \\sum_{i=1}^n u_i*v_i=u^\\top v$$\n"
   ]
  },
  {
   "cell_type": "markdown",
   "metadata": {},
   "source": [
    "**Question** Créer deux 1d-array `v1t` et `v2t` de taille 4 d'entiers entre -9 et 10 (exclus)"
   ]
  },
  {
   "cell_type": "code",
   "execution_count": 32,
   "metadata": {},
   "outputs": [
    {
     "output_type": "execute_result",
     "data": {
      "text/plain": [
       "array([6, 5, 5, 9])"
      ]
     },
     "metadata": {},
     "execution_count": 32
    }
   ],
   "source": [
    "v1t = rs.randint(-9, 10, 4)\n",
    "v1t"
   ]
  },
  {
   "cell_type": "code",
   "execution_count": 33,
   "metadata": {},
   "outputs": [
    {
     "output_type": "execute_result",
     "data": {
      "text/plain": [
       "array([ 2, -7, -5,  9])"
      ]
     },
     "metadata": {},
     "execution_count": 33
    }
   ],
   "source": [
    "v2t = rs.randint(-9, 10, 4)\n",
    "v2t"
   ]
  },
  {
   "cell_type": "markdown",
   "metadata": {},
   "source": [
    "**Question** Calculer les produits `v1t@v2t`, `v2t@v1t`. Que constatez-vous ? "
   ]
  },
  {
   "cell_type": "code",
   "execution_count": 34,
   "metadata": {},
   "outputs": [
    {
     "output_type": "execute_result",
     "data": {
      "text/plain": [
       "33"
      ]
     },
     "metadata": {},
     "execution_count": 34
    }
   ],
   "source": [
    "v1t@v2t"
   ]
  },
  {
   "cell_type": "markdown",
   "metadata": {},
   "source": [
    "Réponse : Le produit entre les éléments de même indice est effectué puis il nous est renvoyé la somme de tous ces produits."
   ]
  },
  {
   "cell_type": "markdown",
   "metadata": {},
   "source": [
    "**Question** Avec reshape, créez des vecteurs (4 lignes 1 colonne) `v1` et `v2` à partir de `v1t` et `v2t`."
   ]
  },
  {
   "cell_type": "code",
   "execution_count": 35,
   "metadata": {},
   "outputs": [
    {
     "output_type": "execute_result",
     "data": {
      "text/plain": [
       "array([[6],\n",
       "       [5],\n",
       "       [5],\n",
       "       [9]])"
      ]
     },
     "metadata": {},
     "execution_count": 35
    }
   ],
   "source": [
    "v1 = v1t.reshape(4, 1)\n",
    "v1"
   ]
  },
  {
   "cell_type": "code",
   "execution_count": 36,
   "metadata": {},
   "outputs": [
    {
     "output_type": "execute_result",
     "data": {
      "text/plain": [
       "array([[ 2],\n",
       "       [-7],\n",
       "       [-5],\n",
       "       [ 9]])"
      ]
     },
     "metadata": {},
     "execution_count": 36
    }
   ],
   "source": [
    "v2 = v2t.reshape(4, 1)\n",
    "v2"
   ]
  },
  {
   "cell_type": "markdown",
   "metadata": {},
   "source": [
    "**Question** Calculez `v1@v2` et `v2@v1` que constatez-vous et pourquoi ? "
   ]
  },
  {
   "cell_type": "code",
   "execution_count": 37,
   "metadata": {},
   "outputs": [
    {
     "output_type": "error",
     "ename": "ValueError",
     "evalue": "matmul: Input operand 1 has a mismatch in its core dimension 0, with gufunc signature (n?,k),(k,m?)->(n?,m?) (size 4 is different from 1)",
     "traceback": [
      "\u001b[0;31m---------------------------------------------------------------------------\u001b[0m",
      "\u001b[0;31mValueError\u001b[0m                                Traceback (most recent call last)",
      "\u001b[0;32m<ipython-input-37-0ccfdf0ed413>\u001b[0m in \u001b[0;36m<module>\u001b[0;34m\u001b[0m\n\u001b[0;32m----> 1\u001b[0;31m \u001b[0mv1\u001b[0m\u001b[0;34m@\u001b[0m\u001b[0mv2\u001b[0m\u001b[0;34m\u001b[0m\u001b[0;34m\u001b[0m\u001b[0m\n\u001b[0m",
      "\u001b[0;31mValueError\u001b[0m: matmul: Input operand 1 has a mismatch in its core dimension 0, with gufunc signature (n?,k),(k,m?)->(n?,m?) (size 4 is different from 1)"
     ]
    }
   ],
   "source": [
    "v1@v2"
   ]
  },
  {
   "cell_type": "code",
   "execution_count": 24,
   "metadata": {},
   "outputs": [
    {
     "ename": "ValueError",
     "evalue": "matmul: Input operand 1 has a mismatch in its core dimension 0, with gufunc signature (n?,k),(k,m?)->(n?,m?) (size 4 is different from 1)",
     "output_type": "error",
     "traceback": [
      "\u001b[0;31m---------------------------------------------------------------------------\u001b[0m",
      "\u001b[0;31mValueError\u001b[0m                                Traceback (most recent call last)",
      "\u001b[0;32m<ipython-input-24-e1913c4924c4>\u001b[0m in \u001b[0;36m<module>\u001b[0;34m\u001b[0m\n\u001b[0;32m----> 1\u001b[0;31m \u001b[0mv2\u001b[0m\u001b[0;34m@\u001b[0m\u001b[0mv1\u001b[0m\u001b[0;34m\u001b[0m\u001b[0;34m\u001b[0m\u001b[0m\n\u001b[0m",
      "\u001b[0;31mValueError\u001b[0m: matmul: Input operand 1 has a mismatch in its core dimension 0, with gufunc signature (n?,k),(k,m?)->(n?,m?) (size 4 is different from 1)"
     ]
    }
   ],
   "source": [
    "v2@v1"
   ]
  },
  {
   "cell_type": "markdown",
   "metadata": {},
   "source": [
    "Réponse : Cela nous renvoie une erreur car on fait un produit matriciel de deux matrices de forme (4, 1) et c'est mathématiquement impossible."
   ]
  },
  {
   "cell_type": "markdown",
   "metadata": {},
   "source": [
    "**Question** Calculez maintenant le produit scalaire de `v1` par `v2` en utilisant la transposée comme indiqué ci-dessus. Le résultat est-il un scalaire ? "
   ]
  },
  {
   "cell_type": "code",
   "execution_count": 27,
   "metadata": {},
   "outputs": [
    {
     "ename": "ValueError",
     "evalue": "matmul: Input operand 1 has a mismatch in its core dimension 0, with gufunc signature (n?,k),(k,m?)->(n?,m?) (size 1 is different from 4)",
     "output_type": "error",
     "traceback": [
      "\u001b[0;31m---------------------------------------------------------------------------\u001b[0m",
      "\u001b[0;31mValueError\u001b[0m                                Traceback (most recent call last)",
      "\u001b[0;32m<ipython-input-27-f5aac8c47bed>\u001b[0m in \u001b[0;36m<module>\u001b[0;34m\u001b[0m\n\u001b[0;32m----> 1\u001b[0;31m \u001b[0mv1\u001b[0m\u001b[0;34m.\u001b[0m\u001b[0mT\u001b[0m\u001b[0;34m@\u001b[0m\u001b[0mv2\u001b[0m\u001b[0;34m.\u001b[0m\u001b[0mT\u001b[0m\u001b[0;34m\u001b[0m\u001b[0;34m\u001b[0m\u001b[0m\n\u001b[0m",
      "\u001b[0;31mValueError\u001b[0m: matmul: Input operand 1 has a mismatch in its core dimension 0, with gufunc signature (n?,k),(k,m?)->(n?,m?) (size 1 is different from 4)"
     ]
    }
   ],
   "source": [
    "v1.T@v2.T"
   ]
  },
  {
   "cell_type": "markdown",
   "metadata": {},
   "source": [
    "Réponse : Non car on obtient alors une ligne de tableaux."
   ]
  },
  {
   "cell_type": "markdown",
   "metadata": {},
   "source": [
    "## Normes"
   ]
  },
  {
   "cell_type": "markdown",
   "metadata": {},
   "source": [
    "La norme $p$ d'un vecteur $v$ est définie par $$\\Vert v \\Vert_p=\\big(\\sum_{i=1}^n |x_i|^p\\big)^{\\frac{1}{p}}$$\n",
    "Très souvent on considère la norme 2 par défaut quand $p$ n'est pas précisé et \n",
    "$$\\Vert v \\Vert=\\sqrt{\\big(\\sum_{i=1}^n |x_i|^2\\big)}$$\n",
    "La norme se calcule en numpy par `np.linalg.norm`.  "
   ]
  },
  {
   "cell_type": "markdown",
   "metadata": {},
   "source": [
    "**Question** Calculer la norme de `v1`."
   ]
  },
  {
   "cell_type": "code",
   "execution_count": 68,
   "metadata": {},
   "outputs": [
    {
     "data": {
      "text/plain": [
       "12.806248474865697"
      ]
     },
     "execution_count": 68,
     "metadata": {},
     "output_type": "execute_result"
    }
   ],
   "source": [
    "np.linalg.norm(v1)"
   ]
  },
  {
   "cell_type": "markdown",
   "metadata": {},
   "source": [
    "**Question** Il apparaît clairement en regardant les définitions que $\\langle v,v\\rangle = \\Vert v\\Vert^2$. Vérifier cela avec `v1`"
   ]
  },
  {
   "cell_type": "code",
   "execution_count": 38,
   "metadata": {},
   "outputs": [
    {
     "output_type": "execute_result",
     "data": {
      "text/plain": [
       "array([[ True]])"
      ]
     },
     "metadata": {},
     "execution_count": 38
    }
   ],
   "source": [
    "v1.T@v1 == np.linalg.norm(v1)**2 # utiliser v1t à la place de v1 fonctionne mieux maaaiiis autant respecter l'énoncé"
   ]
  },
  {
   "cell_type": "markdown",
   "metadata": {},
   "source": [
    "**Question** La norme, c'est une peu comme une distance entre deux points extremités des vecteurs et donc vérifie l'inégalité triangulaire : $\\Vert u+v\\Vert \\leq \\Vert u\\Vert + \\Vert v \\Vert$. Vérifiez cela avec `v1`et `v2`."
   ]
  },
  {
   "cell_type": "code",
   "execution_count": 70,
   "metadata": {},
   "outputs": [
    {
     "data": {
      "text/plain": [
       "True"
      ]
     },
     "execution_count": 70,
     "metadata": {},
     "output_type": "execute_result"
    }
   ],
   "source": [
    "np.linalg.norm(v1 + v2) <= np.linalg.norm(v1) + np.linalg.norm(v2)"
   ]
  },
  {
   "cell_type": "markdown",
   "metadata": {},
   "source": [
    "**Question** Regardez la documentation de `np.linalg.norm`et calculer les $p$-normes pour $p=1$ et $p=\\infty$ de `v1t` avec `np.linalg.norm` et avec numpy mais sans cette fonction. (`np.Inf` représente $+\\infty$)"
   ]
  },
  {
   "cell_type": "code",
   "execution_count": 47,
   "metadata": {},
   "outputs": [
    {
     "output_type": "execute_result",
     "data": {
      "text/plain": [
       "(25.0, 9.0)"
      ]
     },
     "metadata": {},
     "execution_count": 47
    }
   ],
   "source": [
    "np.linalg.norm(v1t, 1), np.linalg.norm(v1t, np.inf)"
   ]
  },
  {
   "cell_type": "code",
   "execution_count": 83,
   "metadata": {},
   "outputs": [
    {
     "output_type": "execute_result",
     "data": {
      "text/plain": [
       "(25, 9)"
      ]
     },
     "metadata": {},
     "execution_count": 83
    }
   ],
   "source": [
    "np.max(sum(abs(v1t))), np.max(abs(v1t))"
   ]
  },
  {
   "cell_type": "markdown",
   "metadata": {},
   "source": [
    "**Question** Calculer les normes 1, $\\infty$ et norme de Froebenius pour la matrice $A$"
   ]
  },
  {
   "cell_type": "code",
   "execution_count": 84,
   "metadata": {},
   "outputs": [
    {
     "output_type": "execute_result",
     "data": {
      "text/plain": [
       "(23.0, 19.0)"
      ]
     },
     "metadata": {},
     "execution_count": 84
    }
   ],
   "source": [
    "np.linalg.norm(A, 1), np.linalg.norm(A, np.inf)"
   ]
  },
  {
   "cell_type": "code",
   "execution_count": 85,
   "metadata": {},
   "outputs": [
    {
     "output_type": "execute_result",
     "data": {
      "text/plain": [
       "17.776388834631177"
      ]
     },
     "metadata": {},
     "execution_count": 85
    }
   ],
   "source": [
    "np.linalg.norm(A, 'fro')"
   ]
  },
  {
   "cell_type": "markdown",
   "metadata": {},
   "source": [
    "# Résoudre un système\n",
    "\n",
    "Ces opérations d'algèbre linéaire sont très utiles pour résoudre des systèmes d'équation linéaires que l'on rencontre un peu partout dans beaucoup de sciences... On peut illustrer cela sur un cas simple avant de voir les utilisations en sciences des données. "
   ]
  },
  {
   "cell_type": "markdown",
   "metadata": {},
   "source": [
    "On veut résoudre $$\\left \\{ \\begin{array}{ll}x_1 = 3 x_2\\\\x_1 = -x_2 +3\\end{array} \\right .$$\n",
    "Ce sont deux ensembles de points $(x_1,x_2)$ définis par une relation linéaire entre $x_1$ et $x_2$. La conjonction des deux équations est donc l'ensemble des points à l'intersection de ces deux définitions. \n",
    "Graphiquement ce sont deux droites dans le plan et la solution est leur intersection. "
   ]
  },
  {
   "cell_type": "markdown",
   "metadata": {},
   "source": [
    "**Question** Tracer les deux droites définies par les deux équations \n",
    "$$\\left \\{ \\begin{array}{ll}x_1 = 3 x_2\\\\x_1 = -x_2 +3\\end{array} \\right .$$ pour $x_2$ entre 0 et 3. Cela doit ressembler à \n",
    "\n",
    "![droites](./droites.png)\n",
    "\n",
    "On peut utiliser `plot` pour tracer les droites et `scatter` pour mettre le point dont on peut essayer de calculer les coordonnées dans un premier temps à la main..."
   ]
  },
  {
   "cell_type": "code",
   "execution_count": 155,
   "metadata": {},
   "outputs": [],
   "source": [
    "import matplotlib.pyplot as plt\n",
    "import seaborn; seaborn.set() # Plot styling\n",
    "%matplotlib inline"
   ]
  },
  {
   "cell_type": "code",
   "execution_count": 165,
   "metadata": {},
   "outputs": [
    {
     "output_type": "execute_result",
     "data": {
      "text/plain": [
       "array([0.        , 0.06122449, 0.12244898, 0.18367347, 0.24489796,\n",
       "       0.30612245, 0.36734694, 0.42857143, 0.48979592, 0.55102041,\n",
       "       0.6122449 , 0.67346939, 0.73469388, 0.79591837, 0.85714286,\n",
       "       0.91836735, 0.97959184, 1.04081633, 1.10204082, 1.16326531,\n",
       "       1.2244898 , 1.28571429, 1.34693878, 1.40816327, 1.46938776,\n",
       "       1.53061224, 1.59183673, 1.65306122, 1.71428571, 1.7755102 ,\n",
       "       1.83673469, 1.89795918, 1.95918367, 2.02040816, 2.08163265,\n",
       "       2.14285714, 2.20408163, 2.26530612, 2.32653061, 2.3877551 ,\n",
       "       2.44897959, 2.51020408, 2.57142857, 2.63265306, 2.69387755,\n",
       "       2.75510204, 2.81632653, 2.87755102, 2.93877551, 3.        ])"
      ]
     },
     "metadata": {},
     "execution_count": 165
    }
   ],
   "source": [
    "x = np.linspace(0, 3)\n",
    "x"
   ]
  },
  {
   "cell_type": "code",
   "execution_count": 167,
   "metadata": {},
   "outputs": [
    {
     "output_type": "execute_result",
     "data": {
      "text/plain": [
       "array([0.        , 0.18367347, 0.36734694, 0.55102041, 0.73469388,\n",
       "       0.91836735, 1.10204082, 1.28571429, 1.46938776, 1.65306122,\n",
       "       1.83673469, 2.02040816, 2.20408163, 2.3877551 , 2.57142857,\n",
       "       2.75510204, 2.93877551, 3.12244898, 3.30612245, 3.48979592,\n",
       "       3.67346939, 3.85714286, 4.04081633, 4.2244898 , 4.40816327,\n",
       "       4.59183673, 4.7755102 , 4.95918367, 5.14285714, 5.32653061,\n",
       "       5.51020408, 5.69387755, 5.87755102, 6.06122449, 6.24489796,\n",
       "       6.42857143, 6.6122449 , 6.79591837, 6.97959184, 7.16326531,\n",
       "       7.34693878, 7.53061224, 7.71428571, 7.89795918, 8.08163265,\n",
       "       8.26530612, 8.44897959, 8.63265306, 8.81632653, 9.        ])"
      ]
     },
     "metadata": {},
     "execution_count": 167
    }
   ],
   "source": [
    "y1 = 3 * x\n",
    "y1"
   ]
  },
  {
   "cell_type": "code",
   "execution_count": 169,
   "metadata": {},
   "outputs": [
    {
     "output_type": "execute_result",
     "data": {
      "text/plain": [
       "array([3.        , 2.93877551, 2.87755102, 2.81632653, 2.75510204,\n",
       "       2.69387755, 2.63265306, 2.57142857, 2.51020408, 2.44897959,\n",
       "       2.3877551 , 2.32653061, 2.26530612, 2.20408163, 2.14285714,\n",
       "       2.08163265, 2.02040816, 1.95918367, 1.89795918, 1.83673469,\n",
       "       1.7755102 , 1.71428571, 1.65306122, 1.59183673, 1.53061224,\n",
       "       1.46938776, 1.40816327, 1.34693878, 1.28571429, 1.2244898 ,\n",
       "       1.16326531, 1.10204082, 1.04081633, 0.97959184, 0.91836735,\n",
       "       0.85714286, 0.79591837, 0.73469388, 0.67346939, 0.6122449 ,\n",
       "       0.55102041, 0.48979592, 0.42857143, 0.36734694, 0.30612245,\n",
       "       0.24489796, 0.18367347, 0.12244898, 0.06122449, 0.        ])"
      ]
     },
     "metadata": {},
     "execution_count": 169
    }
   ],
   "source": [
    "y2 = -x + 3\n",
    "y2"
   ]
  },
  {
   "cell_type": "code",
   "execution_count": 178,
   "metadata": {},
   "outputs": [
    {
     "output_type": "display_data",
     "data": {
      "text/plain": "<Figure size 432x288 with 1 Axes>",
      "image/svg+xml": "<?xml version=\"1.0\" encoding=\"utf-8\" standalone=\"no\"?>\n<!DOCTYPE svg PUBLIC \"-//W3C//DTD SVG 1.1//EN\"\n  \"http://www.w3.org/Graphics/SVG/1.1/DTD/svg11.dtd\">\n<!-- Created with matplotlib (https://matplotlib.org/) -->\n<svg height=\"251.985937pt\" version=\"1.1\" viewBox=\"0 0 376.193437 251.985937\" width=\"376.193437pt\" xmlns=\"http://www.w3.org/2000/svg\" xmlns:xlink=\"http://www.w3.org/1999/xlink\">\n <metadata>\n  <rdf:RDF xmlns:cc=\"http://creativecommons.org/ns#\" xmlns:dc=\"http://purl.org/dc/elements/1.1/\" xmlns:rdf=\"http://www.w3.org/1999/02/22-rdf-syntax-ns#\">\n   <cc:Work>\n    <dc:type rdf:resource=\"http://purl.org/dc/dcmitype/StillImage\"/>\n    <dc:date>2020-10-09T23:20:21.938795</dc:date>\n    <dc:format>image/svg+xml</dc:format>\n    <dc:creator>\n     <cc:Agent>\n      <dc:title>Matplotlib v3.3.2, https://matplotlib.org/</dc:title>\n     </cc:Agent>\n    </dc:creator>\n   </cc:Work>\n  </rdf:RDF>\n </metadata>\n <defs>\n  <style type=\"text/css\">*{stroke-linecap:butt;stroke-linejoin:round;}</style>\n </defs>\n <g id=\"figure_1\">\n  <g id=\"patch_1\">\n   <path d=\"M 0 251.985937 \nL 376.193437 251.985937 \nL 376.193437 0 \nL 0 0 \nz\n\" style=\"fill:none;\"/>\n  </g>\n  <g id=\"axes_1\">\n   <g id=\"patch_2\">\n    <path d=\"M 34.193438 224.64 \nL 368.993438 224.64 \nL 368.993438 7.2 \nL 34.193438 7.2 \nz\n\" style=\"fill:#eaeaf2;\"/>\n   </g>\n   <g id=\"matplotlib.axis_1\">\n    <g id=\"xtick_1\">\n     <g id=\"line2d_1\">\n      <path clip-path=\"url(#pa50a064fe5)\" d=\"M 49.411619 224.64 \nL 49.411619 7.2 \n\" style=\"fill:none;stroke:#ffffff;stroke-linecap:round;\"/>\n     </g>\n     <g id=\"text_1\">\n      <!-- 0 -->\n      <g style=\"fill:#262626;\" transform=\"translate(45.912244 242.498281)scale(0.11 -0.11)\">\n       <defs>\n        <path d=\"M 31.78125 66.40625 \nQ 24.171875 66.40625 20.328125 58.90625 \nQ 16.5 51.421875 16.5 36.375 \nQ 16.5 21.390625 20.328125 13.890625 \nQ 24.171875 6.390625 31.78125 6.390625 \nQ 39.453125 6.390625 43.28125 13.890625 \nQ 47.125 21.390625 47.125 36.375 \nQ 47.125 51.421875 43.28125 58.90625 \nQ 39.453125 66.40625 31.78125 66.40625 \nz\nM 31.78125 74.21875 \nQ 44.046875 74.21875 50.515625 64.515625 \nQ 56.984375 54.828125 56.984375 36.375 \nQ 56.984375 17.96875 50.515625 8.265625 \nQ 44.046875 -1.421875 31.78125 -1.421875 \nQ 19.53125 -1.421875 13.0625 8.265625 \nQ 6.59375 17.96875 6.59375 36.375 \nQ 6.59375 54.828125 13.0625 64.515625 \nQ 19.53125 74.21875 31.78125 74.21875 \nz\n\" id=\"DejaVuSans-48\"/>\n       </defs>\n       <use xlink:href=\"#DejaVuSans-48\"/>\n      </g>\n     </g>\n    </g>\n    <g id=\"xtick_2\">\n     <g id=\"line2d_2\">\n      <path clip-path=\"url(#pa50a064fe5)\" d=\"M 117.047983 224.64 \nL 117.047983 7.2 \n\" style=\"fill:none;stroke:#ffffff;stroke-linecap:round;\"/>\n     </g>\n     <g id=\"text_2\">\n      <!-- 2 -->\n      <g style=\"fill:#262626;\" transform=\"translate(113.548608 242.498281)scale(0.11 -0.11)\">\n       <defs>\n        <path d=\"M 19.1875 8.296875 \nL 53.609375 8.296875 \nL 53.609375 0 \nL 7.328125 0 \nL 7.328125 8.296875 \nQ 12.9375 14.109375 22.625 23.890625 \nQ 32.328125 33.6875 34.8125 36.53125 \nQ 39.546875 41.84375 41.421875 45.53125 \nQ 43.3125 49.21875 43.3125 52.78125 \nQ 43.3125 58.59375 39.234375 62.25 \nQ 35.15625 65.921875 28.609375 65.921875 \nQ 23.96875 65.921875 18.8125 64.3125 \nQ 13.671875 62.703125 7.8125 59.421875 \nL 7.8125 69.390625 \nQ 13.765625 71.78125 18.9375 73 \nQ 24.125 74.21875 28.421875 74.21875 \nQ 39.75 74.21875 46.484375 68.546875 \nQ 53.21875 62.890625 53.21875 53.421875 \nQ 53.21875 48.921875 51.53125 44.890625 \nQ 49.859375 40.875 45.40625 35.40625 \nQ 44.1875 33.984375 37.640625 27.21875 \nQ 31.109375 20.453125 19.1875 8.296875 \nz\n\" id=\"DejaVuSans-50\"/>\n       </defs>\n       <use xlink:href=\"#DejaVuSans-50\"/>\n      </g>\n     </g>\n    </g>\n    <g id=\"xtick_3\">\n     <g id=\"line2d_3\">\n      <path clip-path=\"url(#pa50a064fe5)\" d=\"M 184.684347 224.64 \nL 184.684347 7.2 \n\" style=\"fill:none;stroke:#ffffff;stroke-linecap:round;\"/>\n     </g>\n     <g id=\"text_3\">\n      <!-- 4 -->\n      <g style=\"fill:#262626;\" transform=\"translate(181.184972 242.498281)scale(0.11 -0.11)\">\n       <defs>\n        <path d=\"M 37.796875 64.3125 \nL 12.890625 25.390625 \nL 37.796875 25.390625 \nz\nM 35.203125 72.90625 \nL 47.609375 72.90625 \nL 47.609375 25.390625 \nL 58.015625 25.390625 \nL 58.015625 17.1875 \nL 47.609375 17.1875 \nL 47.609375 0 \nL 37.796875 0 \nL 37.796875 17.1875 \nL 4.890625 17.1875 \nL 4.890625 26.703125 \nz\n\" id=\"DejaVuSans-52\"/>\n       </defs>\n       <use xlink:href=\"#DejaVuSans-52\"/>\n      </g>\n     </g>\n    </g>\n    <g id=\"xtick_4\">\n     <g id=\"line2d_4\">\n      <path clip-path=\"url(#pa50a064fe5)\" d=\"M 252.32071 224.64 \nL 252.32071 7.2 \n\" style=\"fill:none;stroke:#ffffff;stroke-linecap:round;\"/>\n     </g>\n     <g id=\"text_4\">\n      <!-- 6 -->\n      <g style=\"fill:#262626;\" transform=\"translate(248.821335 242.498281)scale(0.11 -0.11)\">\n       <defs>\n        <path d=\"M 33.015625 40.375 \nQ 26.375 40.375 22.484375 35.828125 \nQ 18.609375 31.296875 18.609375 23.390625 \nQ 18.609375 15.53125 22.484375 10.953125 \nQ 26.375 6.390625 33.015625 6.390625 \nQ 39.65625 6.390625 43.53125 10.953125 \nQ 47.40625 15.53125 47.40625 23.390625 \nQ 47.40625 31.296875 43.53125 35.828125 \nQ 39.65625 40.375 33.015625 40.375 \nz\nM 52.59375 71.296875 \nL 52.59375 62.3125 \nQ 48.875 64.0625 45.09375 64.984375 \nQ 41.3125 65.921875 37.59375 65.921875 \nQ 27.828125 65.921875 22.671875 59.328125 \nQ 17.53125 52.734375 16.796875 39.40625 \nQ 19.671875 43.65625 24.015625 45.921875 \nQ 28.375 48.1875 33.59375 48.1875 \nQ 44.578125 48.1875 50.953125 41.515625 \nQ 57.328125 34.859375 57.328125 23.390625 \nQ 57.328125 12.15625 50.6875 5.359375 \nQ 44.046875 -1.421875 33.015625 -1.421875 \nQ 20.359375 -1.421875 13.671875 8.265625 \nQ 6.984375 17.96875 6.984375 36.375 \nQ 6.984375 53.65625 15.1875 63.9375 \nQ 23.390625 74.21875 37.203125 74.21875 \nQ 40.921875 74.21875 44.703125 73.484375 \nQ 48.484375 72.75 52.59375 71.296875 \nz\n\" id=\"DejaVuSans-54\"/>\n       </defs>\n       <use xlink:href=\"#DejaVuSans-54\"/>\n      </g>\n     </g>\n    </g>\n    <g id=\"xtick_5\">\n     <g id=\"line2d_5\">\n      <path clip-path=\"url(#pa50a064fe5)\" d=\"M 319.957074 224.64 \nL 319.957074 7.2 \n\" style=\"fill:none;stroke:#ffffff;stroke-linecap:round;\"/>\n     </g>\n     <g id=\"text_5\">\n      <!-- 8 -->\n      <g style=\"fill:#262626;\" transform=\"translate(316.457699 242.498281)scale(0.11 -0.11)\">\n       <defs>\n        <path d=\"M 31.78125 34.625 \nQ 24.75 34.625 20.71875 30.859375 \nQ 16.703125 27.09375 16.703125 20.515625 \nQ 16.703125 13.921875 20.71875 10.15625 \nQ 24.75 6.390625 31.78125 6.390625 \nQ 38.8125 6.390625 42.859375 10.171875 \nQ 46.921875 13.96875 46.921875 20.515625 \nQ 46.921875 27.09375 42.890625 30.859375 \nQ 38.875 34.625 31.78125 34.625 \nz\nM 21.921875 38.8125 \nQ 15.578125 40.375 12.03125 44.71875 \nQ 8.5 49.078125 8.5 55.328125 \nQ 8.5 64.0625 14.71875 69.140625 \nQ 20.953125 74.21875 31.78125 74.21875 \nQ 42.671875 74.21875 48.875 69.140625 \nQ 55.078125 64.0625 55.078125 55.328125 \nQ 55.078125 49.078125 51.53125 44.71875 \nQ 48 40.375 41.703125 38.8125 \nQ 48.828125 37.15625 52.796875 32.3125 \nQ 56.78125 27.484375 56.78125 20.515625 \nQ 56.78125 9.90625 50.3125 4.234375 \nQ 43.84375 -1.421875 31.78125 -1.421875 \nQ 19.734375 -1.421875 13.25 4.234375 \nQ 6.78125 9.90625 6.78125 20.515625 \nQ 6.78125 27.484375 10.78125 32.3125 \nQ 14.796875 37.15625 21.921875 38.8125 \nz\nM 18.3125 54.390625 \nQ 18.3125 48.734375 21.84375 45.5625 \nQ 25.390625 42.390625 31.78125 42.390625 \nQ 38.140625 42.390625 41.71875 45.5625 \nQ 45.3125 48.734375 45.3125 54.390625 \nQ 45.3125 60.0625 41.71875 63.234375 \nQ 38.140625 66.40625 31.78125 66.40625 \nQ 25.390625 66.40625 21.84375 63.234375 \nQ 18.3125 60.0625 18.3125 54.390625 \nz\n\" id=\"DejaVuSans-56\"/>\n       </defs>\n       <use xlink:href=\"#DejaVuSans-56\"/>\n      </g>\n     </g>\n    </g>\n   </g>\n   <g id=\"matplotlib.axis_2\">\n    <g id=\"ytick_1\">\n     <g id=\"line2d_6\">\n      <path clip-path=\"url(#pa50a064fe5)\" d=\"M 34.193438 214.756364 \nL 368.993438 214.756364 \n\" style=\"fill:none;stroke:#ffffff;stroke-linecap:round;\"/>\n     </g>\n     <g id=\"text_6\">\n      <!-- 0.0 -->\n      <g style=\"fill:#262626;\" transform=\"translate(7.2 218.935504)scale(0.11 -0.11)\">\n       <defs>\n        <path d=\"M 10.6875 12.40625 \nL 21 12.40625 \nL 21 0 \nL 10.6875 0 \nz\n\" id=\"DejaVuSans-46\"/>\n       </defs>\n       <use xlink:href=\"#DejaVuSans-48\"/>\n       <use x=\"63.623047\" xlink:href=\"#DejaVuSans-46\"/>\n       <use x=\"95.410156\" xlink:href=\"#DejaVuSans-48\"/>\n      </g>\n     </g>\n    </g>\n    <g id=\"ytick_2\">\n     <g id=\"line2d_7\">\n      <path clip-path=\"url(#pa50a064fe5)\" d=\"M 34.193438 181.810909 \nL 368.993438 181.810909 \n\" style=\"fill:none;stroke:#ffffff;stroke-linecap:round;\"/>\n     </g>\n     <g id=\"text_7\">\n      <!-- 0.5 -->\n      <g style=\"fill:#262626;\" transform=\"translate(7.2 185.99005)scale(0.11 -0.11)\">\n       <defs>\n        <path d=\"M 10.796875 72.90625 \nL 49.515625 72.90625 \nL 49.515625 64.59375 \nL 19.828125 64.59375 \nL 19.828125 46.734375 \nQ 21.96875 47.46875 24.109375 47.828125 \nQ 26.265625 48.1875 28.421875 48.1875 \nQ 40.625 48.1875 47.75 41.5 \nQ 54.890625 34.8125 54.890625 23.390625 \nQ 54.890625 11.625 47.5625 5.09375 \nQ 40.234375 -1.421875 26.90625 -1.421875 \nQ 22.3125 -1.421875 17.546875 -0.640625 \nQ 12.796875 0.140625 7.71875 1.703125 \nL 7.71875 11.625 \nQ 12.109375 9.234375 16.796875 8.0625 \nQ 21.484375 6.890625 26.703125 6.890625 \nQ 35.15625 6.890625 40.078125 11.328125 \nQ 45.015625 15.765625 45.015625 23.390625 \nQ 45.015625 31 40.078125 35.4375 \nQ 35.15625 39.890625 26.703125 39.890625 \nQ 22.75 39.890625 18.8125 39.015625 \nQ 14.890625 38.140625 10.796875 36.28125 \nz\n\" id=\"DejaVuSans-53\"/>\n       </defs>\n       <use xlink:href=\"#DejaVuSans-48\"/>\n       <use x=\"63.623047\" xlink:href=\"#DejaVuSans-46\"/>\n       <use x=\"95.410156\" xlink:href=\"#DejaVuSans-53\"/>\n      </g>\n     </g>\n    </g>\n    <g id=\"ytick_3\">\n     <g id=\"line2d_8\">\n      <path clip-path=\"url(#pa50a064fe5)\" d=\"M 34.193438 148.865455 \nL 368.993438 148.865455 \n\" style=\"fill:none;stroke:#ffffff;stroke-linecap:round;\"/>\n     </g>\n     <g id=\"text_8\">\n      <!-- 1.0 -->\n      <g style=\"fill:#262626;\" transform=\"translate(7.2 153.044595)scale(0.11 -0.11)\">\n       <defs>\n        <path d=\"M 12.40625 8.296875 \nL 28.515625 8.296875 \nL 28.515625 63.921875 \nL 10.984375 60.40625 \nL 10.984375 69.390625 \nL 28.421875 72.90625 \nL 38.28125 72.90625 \nL 38.28125 8.296875 \nL 54.390625 8.296875 \nL 54.390625 0 \nL 12.40625 0 \nz\n\" id=\"DejaVuSans-49\"/>\n       </defs>\n       <use xlink:href=\"#DejaVuSans-49\"/>\n       <use x=\"63.623047\" xlink:href=\"#DejaVuSans-46\"/>\n       <use x=\"95.410156\" xlink:href=\"#DejaVuSans-48\"/>\n      </g>\n     </g>\n    </g>\n    <g id=\"ytick_4\">\n     <g id=\"line2d_9\">\n      <path clip-path=\"url(#pa50a064fe5)\" d=\"M 34.193438 115.92 \nL 368.993438 115.92 \n\" style=\"fill:none;stroke:#ffffff;stroke-linecap:round;\"/>\n     </g>\n     <g id=\"text_9\">\n      <!-- 1.5 -->\n      <g style=\"fill:#262626;\" transform=\"translate(7.2 120.099141)scale(0.11 -0.11)\">\n       <use xlink:href=\"#DejaVuSans-49\"/>\n       <use x=\"63.623047\" xlink:href=\"#DejaVuSans-46\"/>\n       <use x=\"95.410156\" xlink:href=\"#DejaVuSans-53\"/>\n      </g>\n     </g>\n    </g>\n    <g id=\"ytick_5\">\n     <g id=\"line2d_10\">\n      <path clip-path=\"url(#pa50a064fe5)\" d=\"M 34.193438 82.974545 \nL 368.993438 82.974545 \n\" style=\"fill:none;stroke:#ffffff;stroke-linecap:round;\"/>\n     </g>\n     <g id=\"text_10\">\n      <!-- 2.0 -->\n      <g style=\"fill:#262626;\" transform=\"translate(7.2 87.153686)scale(0.11 -0.11)\">\n       <use xlink:href=\"#DejaVuSans-50\"/>\n       <use x=\"63.623047\" xlink:href=\"#DejaVuSans-46\"/>\n       <use x=\"95.410156\" xlink:href=\"#DejaVuSans-48\"/>\n      </g>\n     </g>\n    </g>\n    <g id=\"ytick_6\">\n     <g id=\"line2d_11\">\n      <path clip-path=\"url(#pa50a064fe5)\" d=\"M 34.193438 50.029091 \nL 368.993438 50.029091 \n\" style=\"fill:none;stroke:#ffffff;stroke-linecap:round;\"/>\n     </g>\n     <g id=\"text_11\">\n      <!-- 2.5 -->\n      <g style=\"fill:#262626;\" transform=\"translate(7.2 54.208232)scale(0.11 -0.11)\">\n       <use xlink:href=\"#DejaVuSans-50\"/>\n       <use x=\"63.623047\" xlink:href=\"#DejaVuSans-46\"/>\n       <use x=\"95.410156\" xlink:href=\"#DejaVuSans-53\"/>\n      </g>\n     </g>\n    </g>\n    <g id=\"ytick_7\">\n     <g id=\"line2d_12\">\n      <path clip-path=\"url(#pa50a064fe5)\" d=\"M 34.193438 17.083636 \nL 368.993438 17.083636 \n\" style=\"fill:none;stroke:#ffffff;stroke-linecap:round;\"/>\n     </g>\n     <g id=\"text_12\">\n      <!-- 3.0 -->\n      <g style=\"fill:#262626;\" transform=\"translate(7.2 21.262777)scale(0.11 -0.11)\">\n       <defs>\n        <path d=\"M 40.578125 39.3125 \nQ 47.65625 37.796875 51.625 33 \nQ 55.609375 28.21875 55.609375 21.1875 \nQ 55.609375 10.40625 48.1875 4.484375 \nQ 40.765625 -1.421875 27.09375 -1.421875 \nQ 22.515625 -1.421875 17.65625 -0.515625 \nQ 12.796875 0.390625 7.625 2.203125 \nL 7.625 11.71875 \nQ 11.71875 9.328125 16.59375 8.109375 \nQ 21.484375 6.890625 26.8125 6.890625 \nQ 36.078125 6.890625 40.9375 10.546875 \nQ 45.796875 14.203125 45.796875 21.1875 \nQ 45.796875 27.640625 41.28125 31.265625 \nQ 36.765625 34.90625 28.71875 34.90625 \nL 20.21875 34.90625 \nL 20.21875 43.015625 \nL 29.109375 43.015625 \nQ 36.375 43.015625 40.234375 45.921875 \nQ 44.09375 48.828125 44.09375 54.296875 \nQ 44.09375 59.90625 40.109375 62.90625 \nQ 36.140625 65.921875 28.71875 65.921875 \nQ 24.65625 65.921875 20.015625 65.03125 \nQ 15.375 64.15625 9.8125 62.3125 \nL 9.8125 71.09375 \nQ 15.4375 72.65625 20.34375 73.4375 \nQ 25.25 74.21875 29.59375 74.21875 \nQ 40.828125 74.21875 47.359375 69.109375 \nQ 53.90625 64.015625 53.90625 55.328125 \nQ 53.90625 49.265625 50.4375 45.09375 \nQ 46.96875 40.921875 40.578125 39.3125 \nz\n\" id=\"DejaVuSans-51\"/>\n       </defs>\n       <use xlink:href=\"#DejaVuSans-51\"/>\n       <use x=\"63.623047\" xlink:href=\"#DejaVuSans-46\"/>\n       <use x=\"95.410156\" xlink:href=\"#DejaVuSans-48\"/>\n      </g>\n     </g>\n    </g>\n   </g>\n   <g id=\"PathCollection_1\">\n    <defs>\n     <path d=\"M 0 3 \nC 0.795609 3 1.55874 2.683901 2.12132 2.12132 \nC 2.683901 1.55874 3 0.795609 3 0 \nC 3 -0.795609 2.683901 -1.55874 2.12132 -2.12132 \nC 1.55874 -2.683901 0.795609 -3 0 -3 \nC -0.795609 -3 -1.55874 -2.683901 -2.12132 -2.12132 \nC -2.683901 -1.55874 -3 -0.795609 -3 0 \nC -3 0.795609 -2.683901 1.55874 -2.12132 2.12132 \nC -1.55874 2.683901 -0.795609 3 0 3 \nz\n\" id=\"mdde5bd243a\" style=\"stroke:#4c72b0;\"/>\n    </defs>\n    <g clip-path=\"url(#pa50a064fe5)\">\n     <use style=\"fill:#4c72b0;stroke:#4c72b0;\" x=\"125.502528\" xlink:href=\"#mdde5bd243a\" y=\"165.338182\"/>\n    </g>\n   </g>\n   <g id=\"line2d_13\">\n    <path clip-path=\"url(#pa50a064fe5)\" d=\"M 49.411619 214.756364 \nL 55.623122 210.722226 \nL 61.834625 206.688089 \nL 68.046128 202.653952 \nL 74.25763 198.619814 \nL 80.469133 194.585677 \nL 86.680636 190.55154 \nL 92.892139 186.517403 \nL 99.103642 182.483265 \nL 105.315144 178.449128 \nL 111.526647 174.414991 \nL 117.73815 170.380853 \nL 123.949653 166.346716 \nL 130.161155 162.312579 \nL 136.372658 158.278442 \nL 142.584161 154.244304 \nL 148.795664 150.210167 \nL 155.007167 146.17603 \nL 161.218669 142.141892 \nL 167.430172 138.107755 \nL 173.641675 134.073618 \nL 179.853178 130.039481 \nL 186.064681 126.005343 \nL 192.276183 121.971206 \nL 198.487686 117.937069 \nL 204.699189 113.902931 \nL 210.910692 109.868794 \nL 217.122194 105.834657 \nL 223.333697 101.800519 \nL 229.5452 97.766382 \nL 235.756703 93.732245 \nL 241.968206 89.698108 \nL 248.179708 85.66397 \nL 254.391211 81.629833 \nL 260.602714 77.595696 \nL 266.814217 73.561558 \nL 273.02572 69.527421 \nL 279.237222 65.493284 \nL 285.448725 61.459147 \nL 291.660228 57.425009 \nL 297.871731 53.390872 \nL 304.083233 49.356735 \nL 310.294736 45.322597 \nL 316.506239 41.28846 \nL 322.717742 37.254323 \nL 328.929245 33.220186 \nL 335.140747 29.186048 \nL 341.35225 25.151911 \nL 347.563753 21.117774 \nL 353.775256 17.083636 \n\" style=\"fill:none;stroke:#4c72b0;stroke-linecap:round;stroke-width:1.5;\"/>\n   </g>\n   <g id=\"line2d_14\">\n    <path clip-path=\"url(#pa50a064fe5)\" d=\"M 150.866165 214.756364 \nL 148.795664 210.722226 \nL 146.725163 206.688089 \nL 144.654662 202.653952 \nL 142.584161 198.619814 \nL 140.51366 194.585677 \nL 138.443159 190.55154 \nL 136.372658 186.517403 \nL 134.302157 182.483265 \nL 132.231656 178.449128 \nL 130.161155 174.414991 \nL 128.090655 170.380853 \nL 126.020154 166.346716 \nL 123.949653 162.312579 \nL 121.879152 158.278442 \nL 119.808651 154.244304 \nL 117.73815 150.210167 \nL 115.667649 146.17603 \nL 113.597148 142.141892 \nL 111.526647 138.107755 \nL 109.456146 134.073618 \nL 107.385645 130.039481 \nL 105.315144 126.005343 \nL 103.244643 121.971206 \nL 101.174143 117.937069 \nL 99.103642 113.902931 \nL 97.033141 109.868794 \nL 94.96264 105.834657 \nL 92.892139 101.800519 \nL 90.821638 97.766382 \nL 88.751137 93.732245 \nL 86.680636 89.698108 \nL 84.610135 85.66397 \nL 82.539634 81.629833 \nL 80.469133 77.595696 \nL 78.398632 73.561558 \nL 76.328131 69.527421 \nL 74.25763 65.493284 \nL 72.18713 61.459147 \nL 70.116629 57.425009 \nL 68.046128 53.390872 \nL 65.975627 49.356735 \nL 63.905126 45.322597 \nL 61.834625 41.28846 \nL 59.764124 37.254323 \nL 57.693623 33.220186 \nL 55.623122 29.186048 \nL 53.552621 25.151911 \nL 51.48212 21.117774 \nL 49.411619 17.083636 \n\" style=\"fill:none;stroke:#dd8452;stroke-linecap:round;stroke-width:1.5;\"/>\n   </g>\n   <g id=\"patch_3\">\n    <path d=\"M 34.193438 224.64 \nL 34.193438 7.2 \n\" style=\"fill:none;stroke:#ffffff;stroke-linecap:square;stroke-linejoin:miter;stroke-width:1.25;\"/>\n   </g>\n   <g id=\"patch_4\">\n    <path d=\"M 368.993438 224.64 \nL 368.993438 7.2 \n\" style=\"fill:none;stroke:#ffffff;stroke-linecap:square;stroke-linejoin:miter;stroke-width:1.25;\"/>\n   </g>\n   <g id=\"patch_5\">\n    <path d=\"M 34.193438 224.64 \nL 368.993437 224.64 \n\" style=\"fill:none;stroke:#ffffff;stroke-linecap:square;stroke-linejoin:miter;stroke-width:1.25;\"/>\n   </g>\n   <g id=\"patch_6\">\n    <path d=\"M 34.193438 7.2 \nL 368.993437 7.2 \n\" style=\"fill:none;stroke:#ffffff;stroke-linecap:square;stroke-linejoin:miter;stroke-width:1.25;\"/>\n   </g>\n  </g>\n </g>\n <defs>\n  <clipPath id=\"pa50a064fe5\">\n   <rect height=\"217.44\" width=\"334.8\" x=\"34.193438\" y=\"7.2\"/>\n  </clipPath>\n </defs>\n</svg>\n",
      "image/png": "[encoded data removed]"
     },
     "metadata": {
      "needs_background": "light"
     }
    }
   ],
   "source": [
    "plt.plot(y1, x)\n",
    "plt.plot(y2, x)\n",
    "plt.scatter(2.25, 0.75)\n",
    "\n",
    "plt.show()"
   ]
  },
  {
   "cell_type": "markdown",
   "metadata": {},
   "source": [
    "**Question** Écrire le système $$\\left \\{ \\begin{array}{ll}x_1 = 3 x_2\\\\x_1 = -x_2 +3\\end{array} \\right .$$ sous la forme $Ax = b$ où $x$ est un vecteur $(x_1,x_2)$ et créer les matrices $A$ et le vecteur $b$."
   ]
  },
  {
   "cell_type": "code",
   "execution_count": 141,
   "metadata": {},
   "outputs": [
    {
     "output_type": "execute_result",
     "data": {
      "text/plain": [
       "array([[<class 'int'>],\n",
       "       [<class 'int'>]], dtype=object)"
      ]
     },
     "metadata": {},
     "execution_count": 141
    }
   ],
   "source": [
    "x = np.array([[int], [int]])\n",
    "x"
   ]
  },
  {
   "cell_type": "code",
   "execution_count": 130,
   "metadata": {},
   "outputs": [
    {
     "output_type": "execute_result",
     "data": {
      "text/plain": [
       "array([[ 3, -1],\n",
       "       [ 1,  1]])"
      ]
     },
     "metadata": {},
     "execution_count": 130
    }
   ],
   "source": [
    "A = np.array([[3, -1], [1, 1]]) # 3(x2) - (x1) = 0     et     (x1) + (x2) = 3\n",
    "A"
   ]
  },
  {
   "cell_type": "code",
   "execution_count": 131,
   "metadata": {},
   "outputs": [
    {
     "output_type": "execute_result",
     "data": {
      "text/plain": [
       "array([[0],\n",
       "       [3]])"
      ]
     },
     "metadata": {},
     "execution_count": 131
    }
   ],
   "source": [
    "b = np.array([[0], [3]])\n",
    "b"
   ]
  },
  {
   "cell_type": "markdown",
   "metadata": {},
   "source": [
    "**Question** Calculer $Ax$ pour x qui est le vecteur $(1, 1)^T$"
   ]
  },
  {
   "cell_type": "code",
   "execution_count": 132,
   "metadata": {},
   "outputs": [
    {
     "output_type": "execute_result",
     "data": {
      "text/plain": [
       "array([2, 2])"
      ]
     },
     "metadata": {},
     "execution_count": 132
    }
   ],
   "source": [
    "A@np.array([1, 1]).T"
   ]
  },
  {
   "cell_type": "markdown",
   "metadata": {},
   "source": [
    "**Question** Calculer l'inverse de $A$ dans `Ainv`  (voir `np.linalg.inv`)"
   ]
  },
  {
   "cell_type": "code",
   "execution_count": 133,
   "metadata": {},
   "outputs": [
    {
     "output_type": "execute_result",
     "data": {
      "text/plain": [
       "array([[ 0.25,  0.25],\n",
       "       [-0.25,  0.75]])"
      ]
     },
     "metadata": {},
     "execution_count": 133
    }
   ],
   "source": [
    "Ainv = np.linalg.inv(A)\n",
    "Ainv"
   ]
  },
  {
   "cell_type": "markdown",
   "metadata": {},
   "source": [
    "**Question** Calculer `Ainv` multiplié par `A`. Quelle est la particularité de ce résultat? "
   ]
  },
  {
   "cell_type": "code",
   "execution_count": 134,
   "metadata": {},
   "outputs": [
    {
     "output_type": "execute_result",
     "data": {
      "text/plain": [
       "array([[1., 0.],\n",
       "       [0., 1.]])"
      ]
     },
     "metadata": {},
     "execution_count": 134
    }
   ],
   "source": [
    "Ainv@A"
   ]
  },
  {
   "cell_type": "markdown",
   "metadata": {},
   "source": [
    "Réponse : On obtient une matrice identité."
   ]
  },
  {
   "cell_type": "markdown",
   "metadata": {},
   "source": [
    "**Question** Calculer $x= A^{-1}b$ et comparer la valeur de $Ax$ et de $b$. "
   ]
  },
  {
   "cell_type": "code",
   "execution_count": 150,
   "metadata": {},
   "outputs": [
    {
     "output_type": "execute_result",
     "data": {
      "text/plain": [
       "array([[0.],\n",
       "       [3.]])"
      ]
     },
     "metadata": {},
     "execution_count": 150
    }
   ],
   "source": [
    "A@Ainv@b"
   ]
  },
  {
   "source": [
    "Réponse : On retrouve la matrice b"
   ],
   "cell_type": "markdown",
   "metadata": {}
  },
  {
   "cell_type": "markdown",
   "metadata": {},
   "source": [
    "**Questions** En pensant à comment peuvent être les deux droites, donner deux systèmes pour lesquels il n'y a pas d'intersection ou pour laquelle l'intersection n'est pas réduite à un seul point. Que peut on dire alors de $A^{-1}$ ? "
   ]
  },
  {
   "source": [
    "Système pour lequel il n'y a pas d'intersection : y=2 et y=4"
   ],
   "cell_type": "markdown",
   "metadata": {}
  },
  {
   "source": [
    "Système pour lequel l'intersection n'est pas réduite à un seul point : y=cos(x) et y=sin(x)"
   ],
   "cell_type": "markdown",
   "metadata": {}
  },
  {
   "cell_type": "markdown",
   "metadata": {},
   "source": [
    "Réponse : A2 et A3 sont singulières et ne peuvent pas être inversées"
   ]
  },
  {
   "cell_type": "markdown",
   "metadata": {},
   "source": [
    "**Note**, bien sûr ce qui a été fait ici en dimension 2, peut se faire en très grande dimensions. "
   ]
  },
  {
   "cell_type": "code",
   "execution_count": null,
   "metadata": {},
   "outputs": [],
   "source": []
  }
 ],
 "metadata": {
  "kernelspec": {
   "display_name": "Python 3",
   "language": "python",
   "name": "python3"
  },
  "language_info": {
   "codemirror_mode": {
    "name": "ipython",
    "version": 3
   },
   "file_extension": ".py",
   "mimetype": "text/x-python",
   "name": "python",
   "nbconvert_exporter": "python",
   "pygments_lexer": "ipython3",
   "version": "3.8.2-final"
  }
 },
 "nbformat": 4,
 "nbformat_minor": 2
}