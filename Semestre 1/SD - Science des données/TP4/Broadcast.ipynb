{
 "cells": [
  {
   "cell_type": "code",
   "execution_count": 2,
   "metadata": {},
   "outputs": [],
   "source": [
    "import numpy as np"
   ]
  },
  {
   "cell_type": "markdown",
   "metadata": {},
   "source": [
    "# Jouer avec des points"
   ]
  },
  {
   "cell_type": "markdown",
   "metadata": {},
   "source": [
    "On considère $Y$ les points sur la droite aux valeurs  1, 3, 7, 2 (c'est juste un vecteur)."
   ]
  },
  {
   "cell_type": "code",
   "execution_count": 586,
   "metadata": {},
   "outputs": [
    {
     "output_type": "execute_result",
     "data": {
      "text/plain": [
       "array([1, 3, 7, 2])"
      ]
     },
     "metadata": {},
     "execution_count": 586
    }
   ],
   "source": [
    "Y = np.array([1, 3, 7, 2])\n",
    "Y"
   ]
  },
  {
   "cell_type": "markdown",
   "metadata": {},
   "source": [
    "On va calculer toute les différences entre ces valeurs. On construit un matrice `M` telle que `M[i,j] = Y[i] - Y[j]` et `i` et `j` sont deux indices pour tous les identifiants de points possibles. Pour cela, on peut utiliser le broadcasting... \n",
    "\n",
    "On constuit `Y - Y.T`, mais il faut transformer le vecteurs 1d `Y` en matrices `a` et `b` de taille (4, 1) et (1, 4)"
   ]
  },
  {
   "cell_type": "code",
   "execution_count": 591,
   "metadata": {},
   "outputs": [
    {
     "output_type": "execute_result",
     "data": {
      "text/plain": [
       "array([[ 0, -2, -6, -1],\n",
       "       [ 2,  0, -4,  1],\n",
       "       [ 6,  4,  0,  5],\n",
       "       [ 1, -1, -5,  0]])"
      ]
     },
     "metadata": {},
     "execution_count": 591
    }
   ],
   "source": [
    "a = Y.reshape(4, 1)\n",
    "b = Y.reshape(1, 4)\n",
    "M = a - b\n",
    "M"
   ]
  },
  {
   "cell_type": "markdown",
   "metadata": {},
   "source": [
    "Une autre façon de procéder est d'ajouter un axe avec `np.newaxis`. Observer `Y[:, np.newaxis]`. En déduire comment construire `a` et `b` autrement."
   ]
  },
  {
   "cell_type": "code",
   "execution_count": 592,
   "metadata": {},
   "outputs": [
    {
     "output_type": "execute_result",
     "data": {
      "text/plain": [
       "array([[ 0, -2, -6, -1],\n",
       "       [ 2,  0, -4,  1],\n",
       "       [ 6,  4,  0,  5],\n",
       "       [ 1, -1, -5,  0]])"
      ]
     },
     "metadata": {},
     "execution_count": 592
    }
   ],
   "source": [
    "a = Y[:, np.newaxis]\n",
    "b = Y[np.newaxis, :]\n",
    "M"
   ]
  },
  {
   "cell_type": "markdown",
   "metadata": {},
   "source": [
    "On peut calculer les distances au carré de chaque point vers chaque autre point."
   ]
  },
  {
   "cell_type": "code",
   "execution_count": 593,
   "metadata": {},
   "outputs": [
    {
     "output_type": "execute_result",
     "data": {
      "text/plain": [
       "array([[ 0,  4, 36,  1],\n",
       "       [ 4,  0, 16,  1],\n",
       "       [36, 16,  0, 25],\n",
       "       [ 1,  1, 25,  0]])"
      ]
     },
     "metadata": {},
     "execution_count": 593
    }
   ],
   "source": [
    "np.power(M, 2)"
   ]
  },
  {
   "cell_type": "markdown",
   "metadata": {},
   "source": [
    "Quel est le point le plus proche de chaque point ? Regardez la documentation de `np.argsort`. Voyez par exemple \n",
    "\n",
    "    np.argsort(np.array([1, 0, 12, 2]))\n",
    "    \n",
    "Appliquez cela sur la matrice des distance en prenant le bon axe!"
   ]
  },
  {
   "cell_type": "code",
   "execution_count": 594,
   "metadata": {},
   "outputs": [
    {
     "output_type": "execute_result",
     "data": {
      "text/plain": [
       "array([[0, 0, 0, 0],\n",
       "       [3, 3, 3, 3],\n",
       "       [1, 1, 1, 1],\n",
       "       [2, 2, 2, 2]])"
      ]
     },
     "metadata": {},
     "execution_count": 594
    }
   ],
   "source": [
    "np.argsort(M, axis=0)"
   ]
  },
  {
   "cell_type": "markdown",
   "metadata": {},
   "source": [
    "On recommence avec maintenant des points en dimension 2. On va alors calculer toutes les distances au carré entre ces points.  "
   ]
  },
  {
   "cell_type": "markdown",
   "metadata": {},
   "source": [
    "Tirer aléatoirement $X$, un jeu de données de 10 points dans $[0, 1]^2$. On utilise `np.random.rand`."
   ]
  },
  {
   "cell_type": "code",
   "execution_count": 614,
   "metadata": {},
   "outputs": [
    {
     "output_type": "execute_result",
     "data": {
      "text/plain": [
       "array([[1, (0.0019286852002316284, 0.9394025440767068)],\n",
       "       [2, (0.011909983545580694, 0.24553810774561635)],\n",
       "       [3, (0.7704414070704332, 0.22035550797617687)],\n",
       "       [4, (6.914331323461507e-05, 0.35299625080717656)],\n",
       "       [5, (0.035704151304177374, 0.21801445862636387)],\n",
       "       [6, (0.052302007010697676, 0.2558101762190301)],\n",
       "       [7, (0.014938833484361324, 0.0007302308437902423)],\n",
       "       [8, (0.34685737633364244, 0.09208640470547859)],\n",
       "       [9, (0.05784591144902477, 0.16155325281001012)],\n",
       "       [10, (0.2537844258871078, 0.34495925075512784)]], dtype=object)"
      ]
     },
     "metadata": {},
     "execution_count": 614
    }
   ],
   "source": [
    "X = np.array([[i+1, (np.power(np.random.rand(), 2), np.power(np.random.rand(), 2))] for i in range(10)])\n",
    "# je n'ai pas réussi à reprendre les coordonnées, peut-être un mauvais typage de ma part"
   ]
  },
  {
   "cell_type": "markdown",
   "metadata": {},
   "source": [
    "On peut les tracer sur un petit diagramme."
   ]
  },
  {
   "cell_type": "code",
   "execution_count": 609,
   "metadata": {},
   "outputs": [
    {
     "output_type": "error",
     "ename": "IndexError",
     "evalue": "too many indices for array: array is 1-dimensional, but 2 were indexed",
     "traceback": [
      "\u001b[0;31m---------------------------------------------------------------------------\u001b[0m",
      "\u001b[0;31mIndexError\u001b[0m                                Traceback (most recent call last)",
      "\u001b[0;32m<ipython-input-609-9a54c223c276>\u001b[0m in \u001b[0;36m<module>\u001b[0;34m\u001b[0m\n\u001b[1;32m      1\u001b[0m \u001b[0;32mimport\u001b[0m \u001b[0mmatplotlib\u001b[0m\u001b[0;34m.\u001b[0m\u001b[0mpyplot\u001b[0m \u001b[0;32mas\u001b[0m \u001b[0mplt\u001b[0m\u001b[0;34m\u001b[0m\u001b[0;34m\u001b[0m\u001b[0m\n\u001b[0;32m----> 2\u001b[0;31m \u001b[0mplt\u001b[0m\u001b[0;34m.\u001b[0m\u001b[0mscatter\u001b[0m\u001b[0;34m(\u001b[0m\u001b[0mX\u001b[0m\u001b[0;34m[\u001b[0m\u001b[0;34m:\u001b[0m\u001b[0;34m,\u001b[0m \u001b[0;36m1\u001b[0m\u001b[0;34m]\u001b[0m\u001b[0;34m[\u001b[0m\u001b[0;34m:\u001b[0m\u001b[0;34m,\u001b[0m \u001b[0;36m0\u001b[0m\u001b[0;34m]\u001b[0m\u001b[0;34m,\u001b[0m \u001b[0mX\u001b[0m\u001b[0;34m[\u001b[0m\u001b[0;34m:\u001b[0m\u001b[0;34m,\u001b[0m \u001b[0;36m1\u001b[0m\u001b[0;34m]\u001b[0m\u001b[0;34m[\u001b[0m\u001b[0;34m:\u001b[0m\u001b[0;34m,\u001b[0m \u001b[0;36m1\u001b[0m\u001b[0;34m]\u001b[0m\u001b[0;34m)\u001b[0m\u001b[0;34m\u001b[0m\u001b[0;34m\u001b[0m\u001b[0m\n\u001b[0m",
      "\u001b[0;31mIndexError\u001b[0m: too many indices for array: array is 1-dimensional, but 2 were indexed"
     ]
    }
   ],
   "source": [
    "import matplotlib.pyplot as plt\n",
    "plt.scatter(X[:, 1][:, 0], X[:, 1][:, 1])"
   ]
  },
  {
   "cell_type": "markdown",
   "metadata": {},
   "source": [
    "Dans `X` la première dimension représente le numéro du point et la deuxième dimension les coordonnées de ce point ($x_1$, $x_2$). \n",
    "\n",
    "Maintenant on calcule les `a` et `b` comme tout à l'heure. On ajoute une dimension pour créer un objet en 3 dimensions ($n1=10$, $n2=10$, $x$) à partir de $X$ qui était en dimensions $n=10$ et $x=2$. \n",
    "\n",
    "Par la somme ou la différence, on aura dans a[i, j, k] - b[i, j, k] = X[i, k] - X[j, k] "
   ]
  },
  {
   "cell_type": "code",
   "execution_count": 570,
   "metadata": {},
   "outputs": [
    {
     "output_type": "execute_result",
     "data": {
      "text/plain": [
       "array([[[1, 1, (0.33080496230247025, 0.4811124861077231)],\n",
       "        [1, 2, (0.33080496230247025, 0.4811124861077231)],\n",
       "        [1, 3, (0.33080496230247025, 0.4811124861077231)],\n",
       "        [1, 4, (0.33080496230247025, 0.4811124861077231)],\n",
       "        [1, 5, (0.33080496230247025, 0.4811124861077231)],\n",
       "        [1, 6, (0.33080496230247025, 0.4811124861077231)],\n",
       "        [1, 7, (0.33080496230247025, 0.4811124861077231)],\n",
       "        [1, 8, (0.33080496230247025, 0.4811124861077231)],\n",
       "        [1, 9, (0.33080496230247025, 0.4811124861077231)],\n",
       "        [1, 10, (0.33080496230247025, 0.4811124861077231)]],\n",
       "\n",
       "       [[2, 1, (0.27185411744934534, 0.784694009805609)],\n",
       "        [2, 2, (0.27185411744934534, 0.784694009805609)],\n",
       "        [2, 3, (0.27185411744934534, 0.784694009805609)],\n",
       "        [2, 4, (0.27185411744934534, 0.784694009805609)],\n",
       "        [2, 5, (0.27185411744934534, 0.784694009805609)],\n",
       "        [2, 6, (0.27185411744934534, 0.784694009805609)],\n",
       "        [2, 7, (0.27185411744934534, 0.784694009805609)],\n",
       "        [2, 8, (0.27185411744934534, 0.784694009805609)],\n",
       "        [2, 9, (0.27185411744934534, 0.784694009805609)],\n",
       "        [2, 10, (0.27185411744934534, 0.784694009805609)]],\n",
       "\n",
       "       [[3, 1, (0.058402044293741774, 0.4908385069074582)],\n",
       "        [3, 2, (0.058402044293741774, 0.4908385069074582)],\n",
       "        [3, 3, (0.058402044293741774, 0.4908385069074582)],\n",
       "        [3, 4, (0.058402044293741774, 0.4908385069074582)],\n",
       "        [3, 5, (0.058402044293741774, 0.4908385069074582)],\n",
       "        [3, 6, (0.058402044293741774, 0.4908385069074582)],\n",
       "        [3, 7, (0.058402044293741774, 0.4908385069074582)],\n",
       "        [3, 8, (0.058402044293741774, 0.4908385069074582)],\n",
       "        [3, 9, (0.058402044293741774, 0.4908385069074582)],\n",
       "        [3, 10, (0.058402044293741774, 0.4908385069074582)]],\n",
       "\n",
       "       [[4, 1, (0.06974683645090764, 0.06189635997780238)],\n",
       "        [4, 2, (0.06974683645090764, 0.06189635997780238)],\n",
       "        [4, 3, (0.06974683645090764, 0.06189635997780238)],\n",
       "        [4, 4, (0.06974683645090764, 0.06189635997780238)],\n",
       "        [4, 5, (0.06974683645090764, 0.06189635997780238)],\n",
       "        [4, 6, (0.06974683645090764, 0.06189635997780238)],\n",
       "        [4, 7, (0.06974683645090764, 0.06189635997780238)],\n",
       "        [4, 8, (0.06974683645090764, 0.06189635997780238)],\n",
       "        [4, 9, (0.06974683645090764, 0.06189635997780238)],\n",
       "        [4, 10, (0.06974683645090764, 0.06189635997780238)]],\n",
       "\n",
       "       [[5, 1, (0.1487226146258876, 0.4490142008342202)],\n",
       "        [5, 2, (0.1487226146258876, 0.4490142008342202)],\n",
       "        [5, 3, (0.1487226146258876, 0.4490142008342202)],\n",
       "        [5, 4, (0.1487226146258876, 0.4490142008342202)],\n",
       "        [5, 5, (0.1487226146258876, 0.4490142008342202)],\n",
       "        [5, 6, (0.1487226146258876, 0.4490142008342202)],\n",
       "        [5, 7, (0.1487226146258876, 0.4490142008342202)],\n",
       "        [5, 8, (0.1487226146258876, 0.4490142008342202)],\n",
       "        [5, 9, (0.1487226146258876, 0.4490142008342202)],\n",
       "        [5, 10, (0.1487226146258876, 0.4490142008342202)]],\n",
       "\n",
       "       [[6, 1, (0.3042413031856164, 0.6515896437458646)],\n",
       "        [6, 2, (0.3042413031856164, 0.6515896437458646)],\n",
       "        [6, 3, (0.3042413031856164, 0.6515896437458646)],\n",
       "        [6, 4, (0.3042413031856164, 0.6515896437458646)],\n",
       "        [6, 5, (0.3042413031856164, 0.6515896437458646)],\n",
       "        [6, 6, (0.3042413031856164, 0.6515896437458646)],\n",
       "        [6, 7, (0.3042413031856164, 0.6515896437458646)],\n",
       "        [6, 8, (0.3042413031856164, 0.6515896437458646)],\n",
       "        [6, 9, (0.3042413031856164, 0.6515896437458646)],\n",
       "        [6, 10, (0.3042413031856164, 0.6515896437458646)]],\n",
       "\n",
       "       [[7, 1, (0.47299433973602034, 0.8286106347535169)],\n",
       "        [7, 2, (0.47299433973602034, 0.8286106347535169)],\n",
       "        [7, 3, (0.47299433973602034, 0.8286106347535169)],\n",
       "        [7, 4, (0.47299433973602034, 0.8286106347535169)],\n",
       "        [7, 5, (0.47299433973602034, 0.8286106347535169)],\n",
       "        [7, 6, (0.47299433973602034, 0.8286106347535169)],\n",
       "        [7, 7, (0.47299433973602034, 0.8286106347535169)],\n",
       "        [7, 8, (0.47299433973602034, 0.8286106347535169)],\n",
       "        [7, 9, (0.47299433973602034, 0.8286106347535169)],\n",
       "        [7, 10, (0.47299433973602034, 0.8286106347535169)]],\n",
       "\n",
       "       [[8, 1, (0.37585962571445564, 0.3519874545661876)],\n",
       "        [8, 2, (0.37585962571445564, 0.3519874545661876)],\n",
       "        [8, 3, (0.37585962571445564, 0.3519874545661876)],\n",
       "        [8, 4, (0.37585962571445564, 0.3519874545661876)],\n",
       "        [8, 5, (0.37585962571445564, 0.3519874545661876)],\n",
       "        [8, 6, (0.37585962571445564, 0.3519874545661876)],\n",
       "        [8, 7, (0.37585962571445564, 0.3519874545661876)],\n",
       "        [8, 8, (0.37585962571445564, 0.3519874545661876)],\n",
       "        [8, 9, (0.37585962571445564, 0.3519874545661876)],\n",
       "        [8, 10, (0.37585962571445564, 0.3519874545661876)]],\n",
       "\n",
       "       [[9, 1, (0.1608592389899729, 0.034127691099611654)],\n",
       "        [9, 2, (0.1608592389899729, 0.034127691099611654)],\n",
       "        [9, 3, (0.1608592389899729, 0.034127691099611654)],\n",
       "        [9, 4, (0.1608592389899729, 0.034127691099611654)],\n",
       "        [9, 5, (0.1608592389899729, 0.034127691099611654)],\n",
       "        [9, 6, (0.1608592389899729, 0.034127691099611654)],\n",
       "        [9, 7, (0.1608592389899729, 0.034127691099611654)],\n",
       "        [9, 8, (0.1608592389899729, 0.034127691099611654)],\n",
       "        [9, 9, (0.1608592389899729, 0.034127691099611654)],\n",
       "        [9, 10, (0.1608592389899729, 0.034127691099611654)]],\n",
       "\n",
       "       [[10, 1, (0.10736426421460347, 0.893046349455882)],\n",
       "        [10, 2, (0.10736426421460347, 0.893046349455882)],\n",
       "        [10, 3, (0.10736426421460347, 0.893046349455882)],\n",
       "        [10, 4, (0.10736426421460347, 0.893046349455882)],\n",
       "        [10, 5, (0.10736426421460347, 0.893046349455882)],\n",
       "        [10, 6, (0.10736426421460347, 0.893046349455882)],\n",
       "        [10, 7, (0.10736426421460347, 0.893046349455882)],\n",
       "        [10, 8, (0.10736426421460347, 0.893046349455882)],\n",
       "        [10, 9, (0.10736426421460347, 0.893046349455882)],\n",
       "        [10, 10, (0.10736426421460347, 0.893046349455882)]]], dtype=object)"
      ]
     },
     "metadata": {},
     "execution_count": 570
    }
   ],
   "source": [
    "a = np.array([[[i+1, j+1, X[i][1]] for j in range(10)] for i in range(10)])\n",
    "b = np.array([[[i+1, j+1, X[i][1]] for j in range(10)] for i in range(10)])\n",
    "a.shape\n",
    "a # pas réussi"
   ]
  },
  {
   "cell_type": "code",
   "execution_count": 615,
   "metadata": {},
   "outputs": [
    {
     "output_type": "execute_result",
     "data": {
      "text/plain": [
       "array([[1],\n",
       "       [3],\n",
       "       [7],\n",
       "       [2]])"
      ]
     },
     "metadata": {},
     "execution_count": 615
    }
   ],
   "source": [
    "a # pas réussi"
   ]
  },
  {
   "cell_type": "markdown",
   "metadata": {},
   "source": [
    "On peut calculer la différence au carré pour chaque coordonnée. "
   ]
  },
  {
   "cell_type": "code",
   "execution_count": null,
   "metadata": {},
   "outputs": [],
   "source": []
  },
  {
   "cell_type": "markdown",
   "metadata": {},
   "source": [
    "La distance au carré est la somme pour toutes ces coordonnées. Donc la somme sur la troisième composante. "
   ]
  },
  {
   "cell_type": "code",
   "execution_count": null,
   "metadata": {},
   "outputs": [],
   "source": []
  },
  {
   "cell_type": "code",
   "execution_count": null,
   "metadata": {},
   "outputs": [],
   "source": []
  },
  {
   "cell_type": "markdown",
   "metadata": {},
   "source": [
    "Quels 2 points les plus proches du point 0 ?  On peut utiliser `np.argsort` sur les distances au premier point... "
   ]
  },
  {
   "cell_type": "code",
   "execution_count": null,
   "metadata": {},
   "outputs": [],
   "source": []
  },
  {
   "cell_type": "code",
   "execution_count": null,
   "metadata": {},
   "outputs": [],
   "source": []
  },
  {
   "cell_type": "code",
   "execution_count": null,
   "metadata": {},
   "outputs": [],
   "source": []
  },
  {
   "cell_type": "code",
   "execution_count": null,
   "metadata": {},
   "outputs": [],
   "source": []
  },
  {
   "cell_type": "code",
   "execution_count": null,
   "metadata": {},
   "outputs": [],
   "source": []
  }
 ],
 "metadata": {
  "kernelspec": {
   "display_name": "Python 3",
   "language": "python",
   "name": "python3"
  },
  "language_info": {
   "codemirror_mode": {
    "name": "ipython",
    "version": 3
   },
   "file_extension": ".py",
   "mimetype": "text/x-python",
   "name": "python",
   "nbconvert_exporter": "python",
   "pygments_lexer": "ipython3",
   "version": "3.8.5-final"
  }
 },
 "nbformat": 4,
 "nbformat_minor": 2
}