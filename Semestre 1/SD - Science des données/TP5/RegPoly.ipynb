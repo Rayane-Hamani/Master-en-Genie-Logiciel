{
 "cells": [
  {
   "cell_type": "markdown",
   "metadata": {},
   "source": [
    "# Régression Polynomiale, courbes d'apprentissage"
   ]
  },
  {
   "cell_type": "code",
   "execution_count": 1,
   "metadata": {},
   "outputs": [],
   "source": [
    "import numpy as np\n",
    "import matplotlib.pyplot as plt\n",
    "%matplotlib inline\n",
    "import seaborn; seaborn.set()\n",
    "import pandas as pd\n",
    "np.random.seed(42)"
   ]
  },
  {
   "cell_type": "markdown",
   "metadata": {},
   "source": [
    "**Question** Vous avez un ensemble d'entraînement disponible dans dans `data.csv`. Le charger dans un dataframe `df_train`."
   ]
  },
  {
   "cell_type": "code",
   "execution_count": 2,
   "metadata": {},
   "outputs": [],
   "source": [
    "df_train = pd.read_csv('data.csv')"
   ]
  },
  {
   "cell_type": "markdown",
   "metadata": {},
   "source": [
    "**Question** Regarder les 5 premières lignes et afficher des statistiques descriptives,  tracer l'ensemble des points en mettant la variable à prédire `t` en ordonnée. Vous pouvez appeler `X` et `y` les objets contenant la description des données et la variable à prédire"
   ]
  },
  {
   "cell_type": "code",
   "execution_count": 3,
   "metadata": {},
   "outputs": [
    {
     "output_type": "execute_result",
     "data": {
      "text/plain": [
       "          x          t\n",
       "0  0.140280   9.880310\n",
       "1  0.903858  10.227492\n",
       "2  0.535815  10.163115\n",
       "3  0.358392   9.937107\n",
       "4  0.024342   9.881466\n",
       "5  0.024334   9.919412"
      ],
      "text/html": "<div>\n<style scoped>\n    .dataframe tbody tr th:only-of-type {\n        vertical-align: middle;\n    }\n\n    .dataframe tbody tr th {\n        vertical-align: top;\n    }\n\n    .dataframe thead th {\n        text-align: right;\n    }\n</style>\n<table border=\"1\" class=\"dataframe\">\n  <thead>\n    <tr style=\"text-align: right;\">\n      <th></th>\n      <th>x</th>\n      <th>t</th>\n    </tr>\n  </thead>\n  <tbody>\n    <tr>\n      <th>0</th>\n      <td>0.140280</td>\n      <td>9.880310</td>\n    </tr>\n    <tr>\n      <th>1</th>\n      <td>0.903858</td>\n      <td>10.227492</td>\n    </tr>\n    <tr>\n      <th>2</th>\n      <td>0.535815</td>\n      <td>10.163115</td>\n    </tr>\n    <tr>\n      <th>3</th>\n      <td>0.358392</td>\n      <td>9.937107</td>\n    </tr>\n    <tr>\n      <th>4</th>\n      <td>0.024342</td>\n      <td>9.881466</td>\n    </tr>\n    <tr>\n      <th>5</th>\n      <td>0.024334</td>\n      <td>9.919412</td>\n    </tr>\n  </tbody>\n</table>\n</div>"
     },
     "metadata": {},
     "execution_count": 3
    }
   ],
   "source": [
    "df_train[0:5+1]"
   ]
  },
  {
   "cell_type": "code",
   "execution_count": 4,
   "metadata": {},
   "outputs": [
    {
     "output_type": "execute_result",
     "data": {
      "text/plain": [
       "               x          t\n",
       "count  50.000000  50.000000\n",
       "mean    0.280633   9.994401\n",
       "std     0.291519   0.150313\n",
       "min     0.000424   9.739527\n",
       "25%     0.033771   9.884021\n",
       "50%     0.190155   9.962842\n",
       "75%     0.422793  10.033667\n",
       "max     0.940725  10.380997"
      ],
      "text/html": "<div>\n<style scoped>\n    .dataframe tbody tr th:only-of-type {\n        vertical-align: middle;\n    }\n\n    .dataframe tbody tr th {\n        vertical-align: top;\n    }\n\n    .dataframe thead th {\n        text-align: right;\n    }\n</style>\n<table border=\"1\" class=\"dataframe\">\n  <thead>\n    <tr style=\"text-align: right;\">\n      <th></th>\n      <th>x</th>\n      <th>t</th>\n    </tr>\n  </thead>\n  <tbody>\n    <tr>\n      <th>count</th>\n      <td>50.000000</td>\n      <td>50.000000</td>\n    </tr>\n    <tr>\n      <th>mean</th>\n      <td>0.280633</td>\n      <td>9.994401</td>\n    </tr>\n    <tr>\n      <th>std</th>\n      <td>0.291519</td>\n      <td>0.150313</td>\n    </tr>\n    <tr>\n      <th>min</th>\n      <td>0.000424</td>\n      <td>9.739527</td>\n    </tr>\n    <tr>\n      <th>25%</th>\n      <td>0.033771</td>\n      <td>9.884021</td>\n    </tr>\n    <tr>\n      <th>50%</th>\n      <td>0.190155</td>\n      <td>9.962842</td>\n    </tr>\n    <tr>\n      <th>75%</th>\n      <td>0.422793</td>\n      <td>10.033667</td>\n    </tr>\n    <tr>\n      <th>max</th>\n      <td>0.940725</td>\n      <td>10.380997</td>\n    </tr>\n  </tbody>\n</table>\n</div>"
     },
     "metadata": {},
     "execution_count": 4
    }
   ],
   "source": [
    "df_train.describe()"
   ]
  },
  {
   "cell_type": "code",
   "execution_count": 5,
   "metadata": {},
   "outputs": [
    {
     "output_type": "execute_result",
     "data": {
      "text/plain": [
       "<matplotlib.collections.PathCollection at 0x7f0885d3cc70>"
      ]
     },
     "metadata": {},
     "execution_count": 5
    },
    {
     "output_type": "display_data",
     "data": {
      "text/plain": "<Figure size 432x288 with 1 Axes>",
      "image/svg+xml": "<?xml version=\"1.0\" encoding=\"utf-8\" standalone=\"no\"?>\n<!DOCTYPE svg PUBLIC \"-//W3C//DTD SVG 1.1//EN\"\n  \"http://www.w3.org/Graphics/SVG/1.1/DTD/svg11.dtd\">\n<!-- Created with matplotlib (https://matplotlib.org/) -->\n<svg height=\"252.137279pt\" version=\"1.1\" viewBox=\"0 0 383.192187 252.137279\" width=\"383.192187pt\" xmlns=\"http://www.w3.org/2000/svg\" xmlns:xlink=\"http://www.w3.org/1999/xlink\">\n <metadata>\n  <rdf:RDF xmlns:cc=\"http://creativecommons.org/ns#\" xmlns:dc=\"http://purl.org/dc/elements/1.1/\" xmlns:rdf=\"http://www.w3.org/1999/02/22-rdf-syntax-ns#\">\n   <cc:Work>\n    <dc:type rdf:resource=\"http://purl.org/dc/dcmitype/StillImage\"/>\n    <dc:date>2020-11-03T22:47:22.039177</dc:date>\n    <dc:format>image/svg+xml</dc:format>\n    <dc:creator>\n     <cc:Agent>\n      <dc:title>Matplotlib v3.3.2, https://matplotlib.org/</dc:title>\n     </cc:Agent>\n    </dc:creator>\n   </cc:Work>\n  </rdf:RDF>\n </metadata>\n <defs>\n  <style type=\"text/css\">*{stroke-linecap:butt;stroke-linejoin:round;}</style>\n </defs>\n <g id=\"figure_1\">\n  <g id=\"patch_1\">\n   <path d=\"M 0 252.137279 \nL 383.192187 252.137279 \nL 383.192187 0 \nL 0 0 \nz\n\" style=\"fill:#ffffff;\"/>\n  </g>\n  <g id=\"axes_1\">\n   <g id=\"patch_2\">\n    <path d=\"M 41.192188 224.791342 \nL 375.992188 224.791342 \nL 375.992188 7.351342 \nL 41.192188 7.351342 \nz\n\" style=\"fill:#eaeaf2;\"/>\n   </g>\n   <g id=\"matplotlib.axis_1\">\n    <g id=\"xtick_1\">\n     <g id=\"line2d_1\">\n      <path clip-path=\"url(#p90450b50ae)\" d=\"M 56.273216 224.791342 \nL 56.273216 7.351342 \n\" style=\"fill:none;stroke:#ffffff;stroke-linecap:round;\"/>\n     </g>\n     <g id=\"text_1\">\n      <!-- 0.0 -->\n      <g style=\"fill:#262626;\" transform=\"translate(47.526497 242.649623)scale(0.11 -0.11)\">\n       <defs>\n        <path d=\"M 31.78125 66.40625 \nQ 24.171875 66.40625 20.328125 58.90625 \nQ 16.5 51.421875 16.5 36.375 \nQ 16.5 21.390625 20.328125 13.890625 \nQ 24.171875 6.390625 31.78125 6.390625 \nQ 39.453125 6.390625 43.28125 13.890625 \nQ 47.125 21.390625 47.125 36.375 \nQ 47.125 51.421875 43.28125 58.90625 \nQ 39.453125 66.40625 31.78125 66.40625 \nz\nM 31.78125 74.21875 \nQ 44.046875 74.21875 50.515625 64.515625 \nQ 56.984375 54.828125 56.984375 36.375 \nQ 56.984375 17.96875 50.515625 8.265625 \nQ 44.046875 -1.421875 31.78125 -1.421875 \nQ 19.53125 -1.421875 13.0625 8.265625 \nQ 6.59375 17.96875 6.59375 36.375 \nQ 6.59375 54.828125 13.0625 64.515625 \nQ 19.53125 74.21875 31.78125 74.21875 \nz\n\" id=\"DejaVuSans-48\"/>\n        <path d=\"M 10.6875 12.40625 \nL 21 12.40625 \nL 21 0 \nL 10.6875 0 \nz\n\" id=\"DejaVuSans-46\"/>\n       </defs>\n       <use xlink:href=\"#DejaVuSans-48\"/>\n       <use x=\"63.623047\" xlink:href=\"#DejaVuSans-46\"/>\n       <use x=\"95.410156\" xlink:href=\"#DejaVuSans-48\"/>\n      </g>\n     </g>\n    </g>\n    <g id=\"xtick_2\">\n     <g id=\"line2d_2\">\n      <path clip-path=\"url(#p90450b50ae)\" d=\"M 121.010679 224.791342 \nL 121.010679 7.351342 \n\" style=\"fill:none;stroke:#ffffff;stroke-linecap:round;\"/>\n     </g>\n     <g id=\"text_2\">\n      <!-- 0.2 -->\n      <g style=\"fill:#262626;\" transform=\"translate(112.263961 242.649623)scale(0.11 -0.11)\">\n       <defs>\n        <path d=\"M 19.1875 8.296875 \nL 53.609375 8.296875 \nL 53.609375 0 \nL 7.328125 0 \nL 7.328125 8.296875 \nQ 12.9375 14.109375 22.625 23.890625 \nQ 32.328125 33.6875 34.8125 36.53125 \nQ 39.546875 41.84375 41.421875 45.53125 \nQ 43.3125 49.21875 43.3125 52.78125 \nQ 43.3125 58.59375 39.234375 62.25 \nQ 35.15625 65.921875 28.609375 65.921875 \nQ 23.96875 65.921875 18.8125 64.3125 \nQ 13.671875 62.703125 7.8125 59.421875 \nL 7.8125 69.390625 \nQ 13.765625 71.78125 18.9375 73 \nQ 24.125 74.21875 28.421875 74.21875 \nQ 39.75 74.21875 46.484375 68.546875 \nQ 53.21875 62.890625 53.21875 53.421875 \nQ 53.21875 48.921875 51.53125 44.890625 \nQ 49.859375 40.875 45.40625 35.40625 \nQ 44.1875 33.984375 37.640625 27.21875 \nQ 31.109375 20.453125 19.1875 8.296875 \nz\n\" id=\"DejaVuSans-50\"/>\n       </defs>\n       <use xlink:href=\"#DejaVuSans-48\"/>\n       <use x=\"63.623047\" xlink:href=\"#DejaVuSans-46\"/>\n       <use x=\"95.410156\" xlink:href=\"#DejaVuSans-50\"/>\n      </g>\n     </g>\n    </g>\n    <g id=\"xtick_3\">\n     <g id=\"line2d_3\">\n      <path clip-path=\"url(#p90450b50ae)\" d=\"M 185.748142 224.791342 \nL 185.748142 7.351342 \n\" style=\"fill:none;stroke:#ffffff;stroke-linecap:round;\"/>\n     </g>\n     <g id=\"text_3\">\n      <!-- 0.4 -->\n      <g style=\"fill:#262626;\" transform=\"translate(177.001424 242.649623)scale(0.11 -0.11)\">\n       <defs>\n        <path d=\"M 37.796875 64.3125 \nL 12.890625 25.390625 \nL 37.796875 25.390625 \nz\nM 35.203125 72.90625 \nL 47.609375 72.90625 \nL 47.609375 25.390625 \nL 58.015625 25.390625 \nL 58.015625 17.1875 \nL 47.609375 17.1875 \nL 47.609375 0 \nL 37.796875 0 \nL 37.796875 17.1875 \nL 4.890625 17.1875 \nL 4.890625 26.703125 \nz\n\" id=\"DejaVuSans-52\"/>\n       </defs>\n       <use xlink:href=\"#DejaVuSans-48\"/>\n       <use x=\"63.623047\" xlink:href=\"#DejaVuSans-46\"/>\n       <use x=\"95.410156\" xlink:href=\"#DejaVuSans-52\"/>\n      </g>\n     </g>\n    </g>\n    <g id=\"xtick_4\">\n     <g id=\"line2d_4\">\n      <path clip-path=\"url(#p90450b50ae)\" d=\"M 250.485606 224.791342 \nL 250.485606 7.351342 \n\" style=\"fill:none;stroke:#ffffff;stroke-linecap:round;\"/>\n     </g>\n     <g id=\"text_4\">\n      <!-- 0.6 -->\n      <g style=\"fill:#262626;\" transform=\"translate(241.738887 242.649623)scale(0.11 -0.11)\">\n       <defs>\n        <path d=\"M 33.015625 40.375 \nQ 26.375 40.375 22.484375 35.828125 \nQ 18.609375 31.296875 18.609375 23.390625 \nQ 18.609375 15.53125 22.484375 10.953125 \nQ 26.375 6.390625 33.015625 6.390625 \nQ 39.65625 6.390625 43.53125 10.953125 \nQ 47.40625 15.53125 47.40625 23.390625 \nQ 47.40625 31.296875 43.53125 35.828125 \nQ 39.65625 40.375 33.015625 40.375 \nz\nM 52.59375 71.296875 \nL 52.59375 62.3125 \nQ 48.875 64.0625 45.09375 64.984375 \nQ 41.3125 65.921875 37.59375 65.921875 \nQ 27.828125 65.921875 22.671875 59.328125 \nQ 17.53125 52.734375 16.796875 39.40625 \nQ 19.671875 43.65625 24.015625 45.921875 \nQ 28.375 48.1875 33.59375 48.1875 \nQ 44.578125 48.1875 50.953125 41.515625 \nQ 57.328125 34.859375 57.328125 23.390625 \nQ 57.328125 12.15625 50.6875 5.359375 \nQ 44.046875 -1.421875 33.015625 -1.421875 \nQ 20.359375 -1.421875 13.671875 8.265625 \nQ 6.984375 17.96875 6.984375 36.375 \nQ 6.984375 53.65625 15.1875 63.9375 \nQ 23.390625 74.21875 37.203125 74.21875 \nQ 40.921875 74.21875 44.703125 73.484375 \nQ 48.484375 72.75 52.59375 71.296875 \nz\n\" id=\"DejaVuSans-54\"/>\n       </defs>\n       <use xlink:href=\"#DejaVuSans-48\"/>\n       <use x=\"63.623047\" xlink:href=\"#DejaVuSans-46\"/>\n       <use x=\"95.410156\" xlink:href=\"#DejaVuSans-54\"/>\n      </g>\n     </g>\n    </g>\n    <g id=\"xtick_5\">\n     <g id=\"line2d_5\">\n      <path clip-path=\"url(#p90450b50ae)\" d=\"M 315.223069 224.791342 \nL 315.223069 7.351342 \n\" style=\"fill:none;stroke:#ffffff;stroke-linecap:round;\"/>\n     </g>\n     <g id=\"text_5\">\n      <!-- 0.8 -->\n      <g style=\"fill:#262626;\" transform=\"translate(306.47635 242.649623)scale(0.11 -0.11)\">\n       <defs>\n        <path d=\"M 31.78125 34.625 \nQ 24.75 34.625 20.71875 30.859375 \nQ 16.703125 27.09375 16.703125 20.515625 \nQ 16.703125 13.921875 20.71875 10.15625 \nQ 24.75 6.390625 31.78125 6.390625 \nQ 38.8125 6.390625 42.859375 10.171875 \nQ 46.921875 13.96875 46.921875 20.515625 \nQ 46.921875 27.09375 42.890625 30.859375 \nQ 38.875 34.625 31.78125 34.625 \nz\nM 21.921875 38.8125 \nQ 15.578125 40.375 12.03125 44.71875 \nQ 8.5 49.078125 8.5 55.328125 \nQ 8.5 64.0625 14.71875 69.140625 \nQ 20.953125 74.21875 31.78125 74.21875 \nQ 42.671875 74.21875 48.875 69.140625 \nQ 55.078125 64.0625 55.078125 55.328125 \nQ 55.078125 49.078125 51.53125 44.71875 \nQ 48 40.375 41.703125 38.8125 \nQ 48.828125 37.15625 52.796875 32.3125 \nQ 56.78125 27.484375 56.78125 20.515625 \nQ 56.78125 9.90625 50.3125 4.234375 \nQ 43.84375 -1.421875 31.78125 -1.421875 \nQ 19.734375 -1.421875 13.25 4.234375 \nQ 6.78125 9.90625 6.78125 20.515625 \nQ 6.78125 27.484375 10.78125 32.3125 \nQ 14.796875 37.15625 21.921875 38.8125 \nz\nM 18.3125 54.390625 \nQ 18.3125 48.734375 21.84375 45.5625 \nQ 25.390625 42.390625 31.78125 42.390625 \nQ 38.140625 42.390625 41.71875 45.5625 \nQ 45.3125 48.734375 45.3125 54.390625 \nQ 45.3125 60.0625 41.71875 63.234375 \nQ 38.140625 66.40625 31.78125 66.40625 \nQ 25.390625 66.40625 21.84375 63.234375 \nQ 18.3125 60.0625 18.3125 54.390625 \nz\n\" id=\"DejaVuSans-56\"/>\n       </defs>\n       <use xlink:href=\"#DejaVuSans-48\"/>\n       <use x=\"63.623047\" xlink:href=\"#DejaVuSans-46\"/>\n       <use x=\"95.410156\" xlink:href=\"#DejaVuSans-56\"/>\n      </g>\n     </g>\n    </g>\n   </g>\n   <g id=\"matplotlib.axis_2\">\n    <g id=\"ytick_1\">\n     <g id=\"line2d_6\">\n      <path clip-path=\"url(#p90450b50ae)\" d=\"M 41.192188 196.272509 \nL 375.992188 196.272509 \n\" style=\"fill:none;stroke:#ffffff;stroke-linecap:round;\"/>\n     </g>\n     <g id=\"text_6\">\n      <!-- 9.8 -->\n      <g style=\"fill:#262626;\" transform=\"translate(14.19875 200.451649)scale(0.11 -0.11)\">\n       <defs>\n        <path d=\"M 10.984375 1.515625 \nL 10.984375 10.5 \nQ 14.703125 8.734375 18.5 7.8125 \nQ 22.3125 6.890625 25.984375 6.890625 \nQ 35.75 6.890625 40.890625 13.453125 \nQ 46.046875 20.015625 46.78125 33.40625 \nQ 43.953125 29.203125 39.59375 26.953125 \nQ 35.25 24.703125 29.984375 24.703125 \nQ 19.046875 24.703125 12.671875 31.3125 \nQ 6.296875 37.9375 6.296875 49.421875 \nQ 6.296875 60.640625 12.9375 67.421875 \nQ 19.578125 74.21875 30.609375 74.21875 \nQ 43.265625 74.21875 49.921875 64.515625 \nQ 56.59375 54.828125 56.59375 36.375 \nQ 56.59375 19.140625 48.40625 8.859375 \nQ 40.234375 -1.421875 26.421875 -1.421875 \nQ 22.703125 -1.421875 18.890625 -0.6875 \nQ 15.09375 0.046875 10.984375 1.515625 \nz\nM 30.609375 32.421875 \nQ 37.25 32.421875 41.125 36.953125 \nQ 45.015625 41.5 45.015625 49.421875 \nQ 45.015625 57.28125 41.125 61.84375 \nQ 37.25 66.40625 30.609375 66.40625 \nQ 23.96875 66.40625 20.09375 61.84375 \nQ 16.21875 57.28125 16.21875 49.421875 \nQ 16.21875 41.5 20.09375 36.953125 \nQ 23.96875 32.421875 30.609375 32.421875 \nz\n\" id=\"DejaVuSans-57\"/>\n       </defs>\n       <use xlink:href=\"#DejaVuSans-57\"/>\n       <use x=\"63.623047\" xlink:href=\"#DejaVuSans-46\"/>\n       <use x=\"95.410156\" xlink:href=\"#DejaVuSans-56\"/>\n      </g>\n     </g>\n    </g>\n    <g id=\"ytick_2\">\n     <g id=\"line2d_7\">\n      <path clip-path=\"url(#p90450b50ae)\" d=\"M 41.192188 165.456947 \nL 375.992188 165.456947 \n\" style=\"fill:none;stroke:#ffffff;stroke-linecap:round;\"/>\n     </g>\n     <g id=\"text_7\">\n      <!-- 9.9 -->\n      <g style=\"fill:#262626;\" transform=\"translate(14.19875 169.636088)scale(0.11 -0.11)\">\n       <use xlink:href=\"#DejaVuSans-57\"/>\n       <use x=\"63.623047\" xlink:href=\"#DejaVuSans-46\"/>\n       <use x=\"95.410156\" xlink:href=\"#DejaVuSans-57\"/>\n      </g>\n     </g>\n    </g>\n    <g id=\"ytick_3\">\n     <g id=\"line2d_8\">\n      <path clip-path=\"url(#p90450b50ae)\" d=\"M 41.192188 134.641386 \nL 375.992188 134.641386 \n\" style=\"fill:none;stroke:#ffffff;stroke-linecap:round;\"/>\n     </g>\n     <g id=\"text_8\">\n      <!-- 10.0 -->\n      <g style=\"fill:#262626;\" transform=\"translate(7.2 138.820527)scale(0.11 -0.11)\">\n       <defs>\n        <path d=\"M 12.40625 8.296875 \nL 28.515625 8.296875 \nL 28.515625 63.921875 \nL 10.984375 60.40625 \nL 10.984375 69.390625 \nL 28.421875 72.90625 \nL 38.28125 72.90625 \nL 38.28125 8.296875 \nL 54.390625 8.296875 \nL 54.390625 0 \nL 12.40625 0 \nz\n\" id=\"DejaVuSans-49\"/>\n       </defs>\n       <use xlink:href=\"#DejaVuSans-49\"/>\n       <use x=\"63.623047\" xlink:href=\"#DejaVuSans-48\"/>\n       <use x=\"127.246094\" xlink:href=\"#DejaVuSans-46\"/>\n       <use x=\"159.033203\" xlink:href=\"#DejaVuSans-48\"/>\n      </g>\n     </g>\n    </g>\n    <g id=\"ytick_4\">\n     <g id=\"line2d_9\">\n      <path clip-path=\"url(#p90450b50ae)\" d=\"M 41.192188 103.825825 \nL 375.992188 103.825825 \n\" style=\"fill:none;stroke:#ffffff;stroke-linecap:round;\"/>\n     </g>\n     <g id=\"text_9\">\n      <!-- 10.1 -->\n      <g style=\"fill:#262626;\" transform=\"translate(7.2 108.004965)scale(0.11 -0.11)\">\n       <use xlink:href=\"#DejaVuSans-49\"/>\n       <use x=\"63.623047\" xlink:href=\"#DejaVuSans-48\"/>\n       <use x=\"127.246094\" xlink:href=\"#DejaVuSans-46\"/>\n       <use x=\"159.033203\" xlink:href=\"#DejaVuSans-49\"/>\n      </g>\n     </g>\n    </g>\n    <g id=\"ytick_5\">\n     <g id=\"line2d_10\">\n      <path clip-path=\"url(#p90450b50ae)\" d=\"M 41.192188 73.010263 \nL 375.992188 73.010263 \n\" style=\"fill:none;stroke:#ffffff;stroke-linecap:round;\"/>\n     </g>\n     <g id=\"text_10\">\n      <!-- 10.2 -->\n      <g style=\"fill:#262626;\" transform=\"translate(7.2 77.189404)scale(0.11 -0.11)\">\n       <use xlink:href=\"#DejaVuSans-49\"/>\n       <use x=\"63.623047\" xlink:href=\"#DejaVuSans-48\"/>\n       <use x=\"127.246094\" xlink:href=\"#DejaVuSans-46\"/>\n       <use x=\"159.033203\" xlink:href=\"#DejaVuSans-50\"/>\n      </g>\n     </g>\n    </g>\n    <g id=\"ytick_6\">\n     <g id=\"line2d_11\">\n      <path clip-path=\"url(#p90450b50ae)\" d=\"M 41.192188 42.194702 \nL 375.992188 42.194702 \n\" style=\"fill:none;stroke:#ffffff;stroke-linecap:round;\"/>\n     </g>\n     <g id=\"text_11\">\n      <!-- 10.3 -->\n      <g style=\"fill:#262626;\" transform=\"translate(7.2 46.373843)scale(0.11 -0.11)\">\n       <defs>\n        <path d=\"M 40.578125 39.3125 \nQ 47.65625 37.796875 51.625 33 \nQ 55.609375 28.21875 55.609375 21.1875 \nQ 55.609375 10.40625 48.1875 4.484375 \nQ 40.765625 -1.421875 27.09375 -1.421875 \nQ 22.515625 -1.421875 17.65625 -0.515625 \nQ 12.796875 0.390625 7.625 2.203125 \nL 7.625 11.71875 \nQ 11.71875 9.328125 16.59375 8.109375 \nQ 21.484375 6.890625 26.8125 6.890625 \nQ 36.078125 6.890625 40.9375 10.546875 \nQ 45.796875 14.203125 45.796875 21.1875 \nQ 45.796875 27.640625 41.28125 31.265625 \nQ 36.765625 34.90625 28.71875 34.90625 \nL 20.21875 34.90625 \nL 20.21875 43.015625 \nL 29.109375 43.015625 \nQ 36.375 43.015625 40.234375 45.921875 \nQ 44.09375 48.828125 44.09375 54.296875 \nQ 44.09375 59.90625 40.109375 62.90625 \nQ 36.140625 65.921875 28.71875 65.921875 \nQ 24.65625 65.921875 20.015625 65.03125 \nQ 15.375 64.15625 9.8125 62.3125 \nL 9.8125 71.09375 \nQ 15.4375 72.65625 20.34375 73.4375 \nQ 25.25 74.21875 29.59375 74.21875 \nQ 40.828125 74.21875 47.359375 69.109375 \nQ 53.90625 64.015625 53.90625 55.328125 \nQ 53.90625 49.265625 50.4375 45.09375 \nQ 46.96875 40.921875 40.578125 39.3125 \nz\n\" id=\"DejaVuSans-51\"/>\n       </defs>\n       <use xlink:href=\"#DejaVuSans-49\"/>\n       <use x=\"63.623047\" xlink:href=\"#DejaVuSans-48\"/>\n       <use x=\"127.246094\" xlink:href=\"#DejaVuSans-46\"/>\n       <use x=\"159.033203\" xlink:href=\"#DejaVuSans-51\"/>\n      </g>\n     </g>\n    </g>\n    <g id=\"ytick_7\">\n     <g id=\"line2d_12\">\n      <path clip-path=\"url(#p90450b50ae)\" d=\"M 41.192188 11.379141 \nL 375.992188 11.379141 \n\" style=\"fill:none;stroke:#ffffff;stroke-linecap:round;\"/>\n     </g>\n     <g id=\"text_12\">\n      <!-- 10.4 -->\n      <g style=\"fill:#262626;\" transform=\"translate(7.2 15.558281)scale(0.11 -0.11)\">\n       <use xlink:href=\"#DejaVuSans-49\"/>\n       <use x=\"63.623047\" xlink:href=\"#DejaVuSans-48\"/>\n       <use x=\"127.246094\" xlink:href=\"#DejaVuSans-46\"/>\n       <use x=\"159.033203\" xlink:href=\"#DejaVuSans-52\"/>\n      </g>\n     </g>\n    </g>\n   </g>\n   <g id=\"PathCollection_1\">\n    <defs>\n     <path d=\"M 0 3 \nC 0.795609 3 1.55874 2.683901 2.12132 2.12132 \nC 2.683901 1.55874 3 0.795609 3 0 \nC 3 -0.795609 2.683901 -1.55874 2.12132 -2.12132 \nC 1.55874 -2.683901 0.795609 -3 0 -3 \nC -0.795609 -3 -1.55874 -2.683901 -2.12132 -2.12132 \nC -2.683901 -1.55874 -3 -0.795609 -3 0 \nC -3 0.795609 -2.683901 1.55874 -2.12132 2.12132 \nC -1.55874 2.683901 -0.795609 3 0 3 \nz\n\" id=\"m8953b0c6a9\" style=\"stroke:#4c72b0;\"/>\n    </defs>\n    <g clip-path=\"url(#p90450b50ae)\">\n     <use style=\"fill:#4c72b0;stroke:#4c72b0;\" x=\"101.68017\" xlink:href=\"#m8953b0c6a9\" y=\"171.524503\"/>\n     <use style=\"fill:#4c72b0;stroke:#4c72b0;\" x=\"348.840487\" xlink:href=\"#m8953b0c6a9\" y=\"64.538458\"/>\n     <use style=\"fill:#4c72b0;stroke:#4c72b0;\" x=\"229.709778\" xlink:href=\"#m8953b0c6a9\" y=\"84.37645\"/>\n     <use style=\"fill:#4c72b0;stroke:#4c72b0;\" x=\"172.280154\" xlink:href=\"#m8953b0c6a9\" y=\"154.022345\"/>\n     <use style=\"fill:#4c72b0;stroke:#4c72b0;\" x=\"64.152353\" xlink:href=\"#m8953b0c6a9\" y=\"171.168359\"/>\n     <use style=\"fill:#4c72b0;stroke:#4c72b0;\" x=\"64.149917\" xlink:href=\"#m8953b0c6a9\" y=\"159.474949\"/>\n     <use style=\"fill:#4c72b0;stroke:#4c72b0;\" x=\"57.365242\" xlink:href=\"#m8953b0c6a9\" y=\"143.793567\"/>\n     <use style=\"fill:#4c72b0;stroke:#4c72b0;\" x=\"299.123223\" xlink:href=\"#m8953b0c6a9\" y=\"17.234978\"/>\n     <use style=\"fill:#4c72b0;stroke:#4c72b0;\" x=\"173.23415\" xlink:href=\"#m8953b0c6a9\" y=\"143.093602\"/>\n     <use style=\"fill:#4c72b0;stroke:#4c72b0;\" x=\"218.559282\" xlink:href=\"#m8953b0c6a9\" y=\"122.760288\"/>\n     <use style=\"fill:#4c72b0;stroke:#4c72b0;\" x=\"56.410369\" xlink:href=\"#m8953b0c6a9\" y=\"129.908728\"/>\n     <use style=\"fill:#4c72b0;stroke:#4c72b0;\" x=\"360.774006\" xlink:href=\"#m8953b0c6a9\" y=\"94.117768\"/>\n     <use style=\"fill:#4c72b0;stroke:#4c72b0;\" x=\"280.575821\" xlink:href=\"#m8953b0c6a9\" y=\"49.031272\"/>\n     <use style=\"fill:#4c72b0;stroke:#4c72b0;\" x=\"70.867597\" xlink:href=\"#m8953b0c6a9\" y=\"148.761031\"/>\n     <use style=\"fill:#4c72b0;stroke:#4c72b0;\" x=\"66.974422\" xlink:href=\"#m8953b0c6a9\" y=\"136.829427\"/>\n     <use style=\"fill:#4c72b0;stroke:#4c72b0;\" x=\"67.161156\" xlink:href=\"#m8953b0c6a9\" y=\"138.641395\"/>\n     <use style=\"fill:#4c72b0;stroke:#4c72b0;\" x=\"86.234796\" xlink:href=\"#m8953b0c6a9\" y=\"187.359772\"/>\n     <use style=\"fill:#4c72b0;stroke:#4c72b0;\" x=\"145.40677\" xlink:href=\"#m8953b0c6a9\" y=\"177.723178\"/>\n     <use style=\"fill:#4c72b0;stroke:#4c72b0;\" x=\"116.665662\" xlink:href=\"#m8953b0c6a9\" y=\"179.443722\"/>\n     <use style=\"fill:#4c72b0;stroke:#4c72b0;\" x=\"83.726565\" xlink:href=\"#m8953b0c6a9\" y=\"157.305533\"/>\n     <use style=\"fill:#4c72b0;stroke:#4c72b0;\" x=\"177.450083\" xlink:href=\"#m8953b0c6a9\" y=\"151.275782\"/>\n     <use style=\"fill:#4c72b0;stroke:#4c72b0;\" x=\"62.571698\" xlink:href=\"#m8953b0c6a9\" y=\"148.689097\"/>\n     <use style=\"fill:#4c72b0;stroke:#4c72b0;\" x=\"83.899442\" xlink:href=\"#m8953b0c6a9\" y=\"189.533678\"/>\n     <use style=\"fill:#4c72b0;stroke:#4c72b0;\" x=\"99.718851\" xlink:href=\"#m8953b0c6a9\" y=\"200.659269\"/>\n     <use style=\"fill:#4c72b0;stroke:#4c72b0;\" x=\"123.600123\" xlink:href=\"#m8953b0c6a9\" y=\"170.85593\"/>\n     <use style=\"fill:#4c72b0;stroke:#4c72b0;\" x=\"255.826864\" xlink:href=\"#m8953b0c6a9\" y=\"34.877165\"/>\n     <use style=\"fill:#4c72b0;stroke:#4c72b0;\" x=\"69.178506\" xlink:href=\"#m8953b0c6a9\" y=\"156.991765\"/>\n     <use style=\"fill:#4c72b0;stroke:#4c72b0;\" x=\"141.868138\" xlink:href=\"#m8953b0c6a9\" y=\"159.806964\"/>\n     <use style=\"fill:#4c72b0;stroke:#4c72b0;\" x=\"169.872905\" xlink:href=\"#m8953b0c6a9\" y=\"146.282549\"/>\n     <use style=\"fill:#4c72b0;stroke:#4c72b0;\" x=\"56.971617\" xlink:href=\"#m8953b0c6a9\" y=\"145.901001\"/>\n     <use style=\"fill:#4c72b0;stroke:#4c72b0;\" x=\"175.749683\" xlink:href=\"#m8953b0c6a9\" y=\"140.156081\"/>\n     <use style=\"fill:#4c72b0;stroke:#4c72b0;\" x=\"65.68555\" xlink:href=\"#m8953b0c6a9\" y=\"127.078988\"/>\n     <use style=\"fill:#4c72b0;stroke:#4c72b0;\" x=\"57.642967\" xlink:href=\"#m8953b0c6a9\" y=\"137.762925\"/>\n     <use style=\"fill:#4c72b0;stroke:#4c72b0;\" x=\"347.71602\" xlink:href=\"#m8953b0c6a9\" y=\"41.382283\"/>\n     <use style=\"fill:#4c72b0;stroke:#4c72b0;\" x=\"358.093908\" xlink:href=\"#m8953b0c6a9\" y=\"123.329187\"/>\n     <use style=\"fill:#4c72b0;stroke:#4c72b0;\" x=\"267.804907\" xlink:href=\"#m8953b0c6a9\" y=\"33.53256\"/>\n     <use style=\"fill:#4c72b0;stroke:#4c72b0;\" x=\"86.308016\" xlink:href=\"#m8953b0c6a9\" y=\"173.146042\"/>\n     <use style=\"fill:#4c72b0;stroke:#4c72b0;\" x=\"59.361142\" xlink:href=\"#m8953b0c6a9\" y=\"144.932961\"/>\n     <use style=\"fill:#4c72b0;stroke:#4c72b0;\" x=\"207.815472\" xlink:href=\"#m8953b0c6a9\" y=\"107.073375\"/>\n     <use style=\"fill:#4c72b0;stroke:#4c72b0;\" x=\"118.982525\" xlink:href=\"#m8953b0c6a9\" y=\"214.907706\"/>\n     <use style=\"fill:#4c72b0;stroke:#4c72b0;\" x=\"61.093998\" xlink:href=\"#m8953b0c6a9\" y=\"146.731592\"/>\n     <use style=\"fill:#4c72b0;stroke:#4c72b0;\" x=\"135.641402\" xlink:href=\"#m8953b0c6a9\" y=\"173.282204\"/>\n     <use style=\"fill:#4c72b0;stroke:#4c72b0;\" x=\"56.655999\" xlink:href=\"#m8953b0c6a9\" y=\"112.596136\"/>\n     <use style=\"fill:#4c72b0;stroke:#4c72b0;\" x=\"323.918473\" xlink:href=\"#m8953b0c6a9\" y=\"48.470027\"/>\n     <use style=\"fill:#4c72b0;stroke:#4c72b0;\" x=\"77.94961\" xlink:href=\"#m8953b0c6a9\" y=\"179.160107\"/>\n     <use style=\"fill:#4c72b0;stroke:#4c72b0;\" x=\"198.35116\" xlink:href=\"#m8953b0c6a9\" y=\"127.598199\"/>\n     <use style=\"fill:#4c72b0;stroke:#4c72b0;\" x=\"87.723904\" xlink:href=\"#m8953b0c6a9\" y=\"161.468916\"/>\n     <use style=\"fill:#4c72b0;stroke:#4c72b0;\" x=\"143.821166\" xlink:href=\"#m8953b0c6a9\" y=\"168.95563\"/>\n     <use style=\"fill:#4c72b0;stroke:#4c72b0;\" x=\"153.020807\" xlink:href=\"#m8953b0c6a9\" y=\"175.449394\"/>\n     <use style=\"fill:#4c72b0;stroke:#4c72b0;\" x=\"67.33399\" xlink:href=\"#m8953b0c6a9\" y=\"145.335862\"/>\n    </g>\n   </g>\n   <g id=\"patch_3\">\n    <path d=\"M 41.192188 224.791342 \nL 41.192188 7.351342 \n\" style=\"fill:none;stroke:#ffffff;stroke-linecap:square;stroke-linejoin:miter;stroke-width:1.25;\"/>\n   </g>\n   <g id=\"patch_4\">\n    <path d=\"M 375.992188 224.791342 \nL 375.992188 7.351342 \n\" style=\"fill:none;stroke:#ffffff;stroke-linecap:square;stroke-linejoin:miter;stroke-width:1.25;\"/>\n   </g>\n   <g id=\"patch_5\">\n    <path d=\"M 41.192188 224.791342 \nL 375.992188 224.791342 \n\" style=\"fill:none;stroke:#ffffff;stroke-linecap:square;stroke-linejoin:miter;stroke-width:1.25;\"/>\n   </g>\n   <g id=\"patch_6\">\n    <path d=\"M 41.192188 7.351342 \nL 375.992188 7.351342 \n\" style=\"fill:none;stroke:#ffffff;stroke-linecap:square;stroke-linejoin:miter;stroke-width:1.25;\"/>\n   </g>\n  </g>\n </g>\n <defs>\n  <clipPath id=\"p90450b50ae\">\n   <rect height=\"217.44\" width=\"334.8\" x=\"41.192188\" y=\"7.351342\"/>\n  </clipPath>\n </defs>\n</svg>\n",
      "image/png": "[encoded data removed]"
     },
     "metadata": {}
    }
   ],
   "source": [
    "X = df_train['x']\n",
    "y = df_train['t']\n",
    "plt.scatter(X, y)"
   ]
  },
  {
   "cell_type": "markdown",
   "metadata": {},
   "source": [
    "**Question** Découpez `X` et `y` en 2/3 et 1/3 pour créer des ensembles d'entraînement et de validation"
   ]
  },
  {
   "cell_type": "code",
   "execution_count": 6,
   "metadata": {},
   "outputs": [],
   "source": [
    "from sklearn.model_selection import train_test_split"
   ]
  },
  {
   "cell_type": "code",
   "execution_count": 7,
   "metadata": {},
   "outputs": [],
   "source": [
    "X_train, X_test = train_test_split(X, random_state=42, train_size=2/3, test_size=1/3)\n",
    "y_train, y_test = train_test_split(y, random_state=42, train_size=2/3, test_size=1/3)"
   ]
  },
  {
   "cell_type": "markdown",
   "metadata": {},
   "source": [
    "**Question** Faire une régression lineaire sur ce jeu de données d'entraînement et estimer son score sur l'échantillon de validation. "
   ]
  },
  {
   "cell_type": "code",
   "execution_count": 8,
   "metadata": {},
   "outputs": [],
   "source": [
    "from sklearn.linear_model import LinearRegression"
   ]
  },
  {
   "cell_type": "code",
   "execution_count": 9,
   "metadata": {},
   "outputs": [
    {
     "output_type": "execute_result",
     "data": {
      "text/plain": [
       "LinearRegression()"
      ]
     },
     "metadata": {},
     "execution_count": 9
    }
   ],
   "source": [
    "lr = LinearRegression().fit(X_train[:, None], y_train[:, None])\n",
    "lr"
   ]
  },
  {
   "cell_type": "code",
   "execution_count": 10,
   "metadata": {},
   "outputs": [
    {
     "output_type": "execute_result",
     "data": {
      "text/plain": [
       "0.5503302278155948"
      ]
     },
     "metadata": {},
     "execution_count": 10
    }
   ],
   "source": [
    "lr.score(X_train[:, None], y_train[:, None])"
   ]
  },
  {
   "cell_type": "markdown",
   "metadata": {},
   "source": [
    "**Question** Tracer dans un diagamme, les points en bleu pour les données d'apprentissage, en rouge pour les données de validation et en noir la droite de régression qui vient d'être calculée."
   ]
  },
  {
   "cell_type": "code",
   "execution_count": 11,
   "metadata": {},
   "outputs": [
    {
     "output_type": "execute_result",
     "data": {
      "text/plain": [
       "[<matplotlib.lines.Line2D at 0x7f0880b2f2b0>]"
      ]
     },
     "metadata": {},
     "execution_count": 11
    },
    {
     "output_type": "display_data",
     "data": {
      "text/plain": "<Figure size 432x288 with 1 Axes>",
      "image/svg+xml": "<?xml version=\"1.0\" encoding=\"utf-8\" standalone=\"no\"?>\n<!DOCTYPE svg PUBLIC \"-//W3C//DTD SVG 1.1//EN\"\n  \"http://www.w3.org/Graphics/SVG/1.1/DTD/svg11.dtd\">\n<!-- Created with matplotlib (https://matplotlib.org/) -->\n<svg height=\"252.137279pt\" version=\"1.1\" viewBox=\"0 0 383.192187 252.137279\" width=\"383.192187pt\" xmlns=\"http://www.w3.org/2000/svg\" xmlns:xlink=\"http://www.w3.org/1999/xlink\">\n <metadata>\n  <rdf:RDF xmlns:cc=\"http://creativecommons.org/ns#\" xmlns:dc=\"http://purl.org/dc/elements/1.1/\" xmlns:rdf=\"http://www.w3.org/1999/02/22-rdf-syntax-ns#\">\n   <cc:Work>\n    <dc:type rdf:resource=\"http://purl.org/dc/dcmitype/StillImage\"/>\n    <dc:date>2020-11-03T22:47:23.013182</dc:date>\n    <dc:format>image/svg+xml</dc:format>\n    <dc:creator>\n     <cc:Agent>\n      <dc:title>Matplotlib v3.3.2, https://matplotlib.org/</dc:title>\n     </cc:Agent>\n    </dc:creator>\n   </cc:Work>\n  </rdf:RDF>\n </metadata>\n <defs>\n  <style type=\"text/css\">*{stroke-linecap:butt;stroke-linejoin:round;}</style>\n </defs>\n <g id=\"figure_1\">\n  <g id=\"patch_1\">\n   <path d=\"M 0 252.137279 \nL 383.192187 252.137279 \nL 383.192187 0 \nL 0 0 \nz\n\" style=\"fill:#ffffff;\"/>\n  </g>\n  <g id=\"axes_1\">\n   <g id=\"patch_2\">\n    <path d=\"M 41.192188 224.791342 \nL 375.992188 224.791342 \nL 375.992188 7.351342 \nL 41.192188 7.351342 \nz\n\" style=\"fill:#eaeaf2;\"/>\n   </g>\n   <g id=\"matplotlib.axis_1\">\n    <g id=\"xtick_1\">\n     <g id=\"line2d_1\">\n      <path clip-path=\"url(#p99381cb1ab)\" d=\"M 56.273216 224.791342 \nL 56.273216 7.351342 \n\" style=\"fill:none;stroke:#ffffff;stroke-linecap:round;\"/>\n     </g>\n     <g id=\"text_1\">\n      <!-- 0.0 -->\n      <g style=\"fill:#262626;\" transform=\"translate(47.526497 242.649623)scale(0.11 -0.11)\">\n       <defs>\n        <path d=\"M 31.78125 66.40625 \nQ 24.171875 66.40625 20.328125 58.90625 \nQ 16.5 51.421875 16.5 36.375 \nQ 16.5 21.390625 20.328125 13.890625 \nQ 24.171875 6.390625 31.78125 6.390625 \nQ 39.453125 6.390625 43.28125 13.890625 \nQ 47.125 21.390625 47.125 36.375 \nQ 47.125 51.421875 43.28125 58.90625 \nQ 39.453125 66.40625 31.78125 66.40625 \nz\nM 31.78125 74.21875 \nQ 44.046875 74.21875 50.515625 64.515625 \nQ 56.984375 54.828125 56.984375 36.375 \nQ 56.984375 17.96875 50.515625 8.265625 \nQ 44.046875 -1.421875 31.78125 -1.421875 \nQ 19.53125 -1.421875 13.0625 8.265625 \nQ 6.59375 17.96875 6.59375 36.375 \nQ 6.59375 54.828125 13.0625 64.515625 \nQ 19.53125 74.21875 31.78125 74.21875 \nz\n\" id=\"DejaVuSans-48\"/>\n        <path d=\"M 10.6875 12.40625 \nL 21 12.40625 \nL 21 0 \nL 10.6875 0 \nz\n\" id=\"DejaVuSans-46\"/>\n       </defs>\n       <use xlink:href=\"#DejaVuSans-48\"/>\n       <use x=\"63.623047\" xlink:href=\"#DejaVuSans-46\"/>\n       <use x=\"95.410156\" xlink:href=\"#DejaVuSans-48\"/>\n      </g>\n     </g>\n    </g>\n    <g id=\"xtick_2\">\n     <g id=\"line2d_2\">\n      <path clip-path=\"url(#p99381cb1ab)\" d=\"M 121.010679 224.791342 \nL 121.010679 7.351342 \n\" style=\"fill:none;stroke:#ffffff;stroke-linecap:round;\"/>\n     </g>\n     <g id=\"text_2\">\n      <!-- 0.2 -->\n      <g style=\"fill:#262626;\" transform=\"translate(112.263961 242.649623)scale(0.11 -0.11)\">\n       <defs>\n        <path d=\"M 19.1875 8.296875 \nL 53.609375 8.296875 \nL 53.609375 0 \nL 7.328125 0 \nL 7.328125 8.296875 \nQ 12.9375 14.109375 22.625 23.890625 \nQ 32.328125 33.6875 34.8125 36.53125 \nQ 39.546875 41.84375 41.421875 45.53125 \nQ 43.3125 49.21875 43.3125 52.78125 \nQ 43.3125 58.59375 39.234375 62.25 \nQ 35.15625 65.921875 28.609375 65.921875 \nQ 23.96875 65.921875 18.8125 64.3125 \nQ 13.671875 62.703125 7.8125 59.421875 \nL 7.8125 69.390625 \nQ 13.765625 71.78125 18.9375 73 \nQ 24.125 74.21875 28.421875 74.21875 \nQ 39.75 74.21875 46.484375 68.546875 \nQ 53.21875 62.890625 53.21875 53.421875 \nQ 53.21875 48.921875 51.53125 44.890625 \nQ 49.859375 40.875 45.40625 35.40625 \nQ 44.1875 33.984375 37.640625 27.21875 \nQ 31.109375 20.453125 19.1875 8.296875 \nz\n\" id=\"DejaVuSans-50\"/>\n       </defs>\n       <use xlink:href=\"#DejaVuSans-48\"/>\n       <use x=\"63.623047\" xlink:href=\"#DejaVuSans-46\"/>\n       <use x=\"95.410156\" xlink:href=\"#DejaVuSans-50\"/>\n      </g>\n     </g>\n    </g>\n    <g id=\"xtick_3\">\n     <g id=\"line2d_3\">\n      <path clip-path=\"url(#p99381cb1ab)\" d=\"M 185.748142 224.791342 \nL 185.748142 7.351342 \n\" style=\"fill:none;stroke:#ffffff;stroke-linecap:round;\"/>\n     </g>\n     <g id=\"text_3\">\n      <!-- 0.4 -->\n      <g style=\"fill:#262626;\" transform=\"translate(177.001424 242.649623)scale(0.11 -0.11)\">\n       <defs>\n        <path d=\"M 37.796875 64.3125 \nL 12.890625 25.390625 \nL 37.796875 25.390625 \nz\nM 35.203125 72.90625 \nL 47.609375 72.90625 \nL 47.609375 25.390625 \nL 58.015625 25.390625 \nL 58.015625 17.1875 \nL 47.609375 17.1875 \nL 47.609375 0 \nL 37.796875 0 \nL 37.796875 17.1875 \nL 4.890625 17.1875 \nL 4.890625 26.703125 \nz\n\" id=\"DejaVuSans-52\"/>\n       </defs>\n       <use xlink:href=\"#DejaVuSans-48\"/>\n       <use x=\"63.623047\" xlink:href=\"#DejaVuSans-46\"/>\n       <use x=\"95.410156\" xlink:href=\"#DejaVuSans-52\"/>\n      </g>\n     </g>\n    </g>\n    <g id=\"xtick_4\">\n     <g id=\"line2d_4\">\n      <path clip-path=\"url(#p99381cb1ab)\" d=\"M 250.485606 224.791342 \nL 250.485606 7.351342 \n\" style=\"fill:none;stroke:#ffffff;stroke-linecap:round;\"/>\n     </g>\n     <g id=\"text_4\">\n      <!-- 0.6 -->\n      <g style=\"fill:#262626;\" transform=\"translate(241.738887 242.649623)scale(0.11 -0.11)\">\n       <defs>\n        <path d=\"M 33.015625 40.375 \nQ 26.375 40.375 22.484375 35.828125 \nQ 18.609375 31.296875 18.609375 23.390625 \nQ 18.609375 15.53125 22.484375 10.953125 \nQ 26.375 6.390625 33.015625 6.390625 \nQ 39.65625 6.390625 43.53125 10.953125 \nQ 47.40625 15.53125 47.40625 23.390625 \nQ 47.40625 31.296875 43.53125 35.828125 \nQ 39.65625 40.375 33.015625 40.375 \nz\nM 52.59375 71.296875 \nL 52.59375 62.3125 \nQ 48.875 64.0625 45.09375 64.984375 \nQ 41.3125 65.921875 37.59375 65.921875 \nQ 27.828125 65.921875 22.671875 59.328125 \nQ 17.53125 52.734375 16.796875 39.40625 \nQ 19.671875 43.65625 24.015625 45.921875 \nQ 28.375 48.1875 33.59375 48.1875 \nQ 44.578125 48.1875 50.953125 41.515625 \nQ 57.328125 34.859375 57.328125 23.390625 \nQ 57.328125 12.15625 50.6875 5.359375 \nQ 44.046875 -1.421875 33.015625 -1.421875 \nQ 20.359375 -1.421875 13.671875 8.265625 \nQ 6.984375 17.96875 6.984375 36.375 \nQ 6.984375 53.65625 15.1875 63.9375 \nQ 23.390625 74.21875 37.203125 74.21875 \nQ 40.921875 74.21875 44.703125 73.484375 \nQ 48.484375 72.75 52.59375 71.296875 \nz\n\" id=\"DejaVuSans-54\"/>\n       </defs>\n       <use xlink:href=\"#DejaVuSans-48\"/>\n       <use x=\"63.623047\" xlink:href=\"#DejaVuSans-46\"/>\n       <use x=\"95.410156\" xlink:href=\"#DejaVuSans-54\"/>\n      </g>\n     </g>\n    </g>\n    <g id=\"xtick_5\">\n     <g id=\"line2d_5\">\n      <path clip-path=\"url(#p99381cb1ab)\" d=\"M 315.223069 224.791342 \nL 315.223069 7.351342 \n\" style=\"fill:none;stroke:#ffffff;stroke-linecap:round;\"/>\n     </g>\n     <g id=\"text_5\">\n      <!-- 0.8 -->\n      <g style=\"fill:#262626;\" transform=\"translate(306.47635 242.649623)scale(0.11 -0.11)\">\n       <defs>\n        <path d=\"M 31.78125 34.625 \nQ 24.75 34.625 20.71875 30.859375 \nQ 16.703125 27.09375 16.703125 20.515625 \nQ 16.703125 13.921875 20.71875 10.15625 \nQ 24.75 6.390625 31.78125 6.390625 \nQ 38.8125 6.390625 42.859375 10.171875 \nQ 46.921875 13.96875 46.921875 20.515625 \nQ 46.921875 27.09375 42.890625 30.859375 \nQ 38.875 34.625 31.78125 34.625 \nz\nM 21.921875 38.8125 \nQ 15.578125 40.375 12.03125 44.71875 \nQ 8.5 49.078125 8.5 55.328125 \nQ 8.5 64.0625 14.71875 69.140625 \nQ 20.953125 74.21875 31.78125 74.21875 \nQ 42.671875 74.21875 48.875 69.140625 \nQ 55.078125 64.0625 55.078125 55.328125 \nQ 55.078125 49.078125 51.53125 44.71875 \nQ 48 40.375 41.703125 38.8125 \nQ 48.828125 37.15625 52.796875 32.3125 \nQ 56.78125 27.484375 56.78125 20.515625 \nQ 56.78125 9.90625 50.3125 4.234375 \nQ 43.84375 -1.421875 31.78125 -1.421875 \nQ 19.734375 -1.421875 13.25 4.234375 \nQ 6.78125 9.90625 6.78125 20.515625 \nQ 6.78125 27.484375 10.78125 32.3125 \nQ 14.796875 37.15625 21.921875 38.8125 \nz\nM 18.3125 54.390625 \nQ 18.3125 48.734375 21.84375 45.5625 \nQ 25.390625 42.390625 31.78125 42.390625 \nQ 38.140625 42.390625 41.71875 45.5625 \nQ 45.3125 48.734375 45.3125 54.390625 \nQ 45.3125 60.0625 41.71875 63.234375 \nQ 38.140625 66.40625 31.78125 66.40625 \nQ 25.390625 66.40625 21.84375 63.234375 \nQ 18.3125 60.0625 18.3125 54.390625 \nz\n\" id=\"DejaVuSans-56\"/>\n       </defs>\n       <use xlink:href=\"#DejaVuSans-48\"/>\n       <use x=\"63.623047\" xlink:href=\"#DejaVuSans-46\"/>\n       <use x=\"95.410156\" xlink:href=\"#DejaVuSans-56\"/>\n      </g>\n     </g>\n    </g>\n   </g>\n   <g id=\"matplotlib.axis_2\">\n    <g id=\"ytick_1\">\n     <g id=\"line2d_6\">\n      <path clip-path=\"url(#p99381cb1ab)\" d=\"M 41.192188 196.272509 \nL 375.992188 196.272509 \n\" style=\"fill:none;stroke:#ffffff;stroke-linecap:round;\"/>\n     </g>\n     <g id=\"text_6\">\n      <!-- 9.8 -->\n      <g style=\"fill:#262626;\" transform=\"translate(14.19875 200.451649)scale(0.11 -0.11)\">\n       <defs>\n        <path d=\"M 10.984375 1.515625 \nL 10.984375 10.5 \nQ 14.703125 8.734375 18.5 7.8125 \nQ 22.3125 6.890625 25.984375 6.890625 \nQ 35.75 6.890625 40.890625 13.453125 \nQ 46.046875 20.015625 46.78125 33.40625 \nQ 43.953125 29.203125 39.59375 26.953125 \nQ 35.25 24.703125 29.984375 24.703125 \nQ 19.046875 24.703125 12.671875 31.3125 \nQ 6.296875 37.9375 6.296875 49.421875 \nQ 6.296875 60.640625 12.9375 67.421875 \nQ 19.578125 74.21875 30.609375 74.21875 \nQ 43.265625 74.21875 49.921875 64.515625 \nQ 56.59375 54.828125 56.59375 36.375 \nQ 56.59375 19.140625 48.40625 8.859375 \nQ 40.234375 -1.421875 26.421875 -1.421875 \nQ 22.703125 -1.421875 18.890625 -0.6875 \nQ 15.09375 0.046875 10.984375 1.515625 \nz\nM 30.609375 32.421875 \nQ 37.25 32.421875 41.125 36.953125 \nQ 45.015625 41.5 45.015625 49.421875 \nQ 45.015625 57.28125 41.125 61.84375 \nQ 37.25 66.40625 30.609375 66.40625 \nQ 23.96875 66.40625 20.09375 61.84375 \nQ 16.21875 57.28125 16.21875 49.421875 \nQ 16.21875 41.5 20.09375 36.953125 \nQ 23.96875 32.421875 30.609375 32.421875 \nz\n\" id=\"DejaVuSans-57\"/>\n       </defs>\n       <use xlink:href=\"#DejaVuSans-57\"/>\n       <use x=\"63.623047\" xlink:href=\"#DejaVuSans-46\"/>\n       <use x=\"95.410156\" xlink:href=\"#DejaVuSans-56\"/>\n      </g>\n     </g>\n    </g>\n    <g id=\"ytick_2\">\n     <g id=\"line2d_7\">\n      <path clip-path=\"url(#p99381cb1ab)\" d=\"M 41.192188 165.456947 \nL 375.992188 165.456947 \n\" style=\"fill:none;stroke:#ffffff;stroke-linecap:round;\"/>\n     </g>\n     <g id=\"text_7\">\n      <!-- 9.9 -->\n      <g style=\"fill:#262626;\" transform=\"translate(14.19875 169.636088)scale(0.11 -0.11)\">\n       <use xlink:href=\"#DejaVuSans-57\"/>\n       <use x=\"63.623047\" xlink:href=\"#DejaVuSans-46\"/>\n       <use x=\"95.410156\" xlink:href=\"#DejaVuSans-57\"/>\n      </g>\n     </g>\n    </g>\n    <g id=\"ytick_3\">\n     <g id=\"line2d_8\">\n      <path clip-path=\"url(#p99381cb1ab)\" d=\"M 41.192188 134.641386 \nL 375.992188 134.641386 \n\" style=\"fill:none;stroke:#ffffff;stroke-linecap:round;\"/>\n     </g>\n     <g id=\"text_8\">\n      <!-- 10.0 -->\n      <g style=\"fill:#262626;\" transform=\"translate(7.2 138.820527)scale(0.11 -0.11)\">\n       <defs>\n        <path d=\"M 12.40625 8.296875 \nL 28.515625 8.296875 \nL 28.515625 63.921875 \nL 10.984375 60.40625 \nL 10.984375 69.390625 \nL 28.421875 72.90625 \nL 38.28125 72.90625 \nL 38.28125 8.296875 \nL 54.390625 8.296875 \nL 54.390625 0 \nL 12.40625 0 \nz\n\" id=\"DejaVuSans-49\"/>\n       </defs>\n       <use xlink:href=\"#DejaVuSans-49\"/>\n       <use x=\"63.623047\" xlink:href=\"#DejaVuSans-48\"/>\n       <use x=\"127.246094\" xlink:href=\"#DejaVuSans-46\"/>\n       <use x=\"159.033203\" xlink:href=\"#DejaVuSans-48\"/>\n      </g>\n     </g>\n    </g>\n    <g id=\"ytick_4\">\n     <g id=\"line2d_9\">\n      <path clip-path=\"url(#p99381cb1ab)\" d=\"M 41.192188 103.825825 \nL 375.992188 103.825825 \n\" style=\"fill:none;stroke:#ffffff;stroke-linecap:round;\"/>\n     </g>\n     <g id=\"text_9\">\n      <!-- 10.1 -->\n      <g style=\"fill:#262626;\" transform=\"translate(7.2 108.004965)scale(0.11 -0.11)\">\n       <use xlink:href=\"#DejaVuSans-49\"/>\n       <use x=\"63.623047\" xlink:href=\"#DejaVuSans-48\"/>\n       <use x=\"127.246094\" xlink:href=\"#DejaVuSans-46\"/>\n       <use x=\"159.033203\" xlink:href=\"#DejaVuSans-49\"/>\n      </g>\n     </g>\n    </g>\n    <g id=\"ytick_5\">\n     <g id=\"line2d_10\">\n      <path clip-path=\"url(#p99381cb1ab)\" d=\"M 41.192188 73.010263 \nL 375.992188 73.010263 \n\" style=\"fill:none;stroke:#ffffff;stroke-linecap:round;\"/>\n     </g>\n     <g id=\"text_10\">\n      <!-- 10.2 -->\n      <g style=\"fill:#262626;\" transform=\"translate(7.2 77.189404)scale(0.11 -0.11)\">\n       <use xlink:href=\"#DejaVuSans-49\"/>\n       <use x=\"63.623047\" xlink:href=\"#DejaVuSans-48\"/>\n       <use x=\"127.246094\" xlink:href=\"#DejaVuSans-46\"/>\n       <use x=\"159.033203\" xlink:href=\"#DejaVuSans-50\"/>\n      </g>\n     </g>\n    </g>\n    <g id=\"ytick_6\">\n     <g id=\"line2d_11\">\n      <path clip-path=\"url(#p99381cb1ab)\" d=\"M 41.192188 42.194702 \nL 375.992188 42.194702 \n\" style=\"fill:none;stroke:#ffffff;stroke-linecap:round;\"/>\n     </g>\n     <g id=\"text_11\">\n      <!-- 10.3 -->\n      <g style=\"fill:#262626;\" transform=\"translate(7.2 46.373843)scale(0.11 -0.11)\">\n       <defs>\n        <path d=\"M 40.578125 39.3125 \nQ 47.65625 37.796875 51.625 33 \nQ 55.609375 28.21875 55.609375 21.1875 \nQ 55.609375 10.40625 48.1875 4.484375 \nQ 40.765625 -1.421875 27.09375 -1.421875 \nQ 22.515625 -1.421875 17.65625 -0.515625 \nQ 12.796875 0.390625 7.625 2.203125 \nL 7.625 11.71875 \nQ 11.71875 9.328125 16.59375 8.109375 \nQ 21.484375 6.890625 26.8125 6.890625 \nQ 36.078125 6.890625 40.9375 10.546875 \nQ 45.796875 14.203125 45.796875 21.1875 \nQ 45.796875 27.640625 41.28125 31.265625 \nQ 36.765625 34.90625 28.71875 34.90625 \nL 20.21875 34.90625 \nL 20.21875 43.015625 \nL 29.109375 43.015625 \nQ 36.375 43.015625 40.234375 45.921875 \nQ 44.09375 48.828125 44.09375 54.296875 \nQ 44.09375 59.90625 40.109375 62.90625 \nQ 36.140625 65.921875 28.71875 65.921875 \nQ 24.65625 65.921875 20.015625 65.03125 \nQ 15.375 64.15625 9.8125 62.3125 \nL 9.8125 71.09375 \nQ 15.4375 72.65625 20.34375 73.4375 \nQ 25.25 74.21875 29.59375 74.21875 \nQ 40.828125 74.21875 47.359375 69.109375 \nQ 53.90625 64.015625 53.90625 55.328125 \nQ 53.90625 49.265625 50.4375 45.09375 \nQ 46.96875 40.921875 40.578125 39.3125 \nz\n\" id=\"DejaVuSans-51\"/>\n       </defs>\n       <use xlink:href=\"#DejaVuSans-49\"/>\n       <use x=\"63.623047\" xlink:href=\"#DejaVuSans-48\"/>\n       <use x=\"127.246094\" xlink:href=\"#DejaVuSans-46\"/>\n       <use x=\"159.033203\" xlink:href=\"#DejaVuSans-51\"/>\n      </g>\n     </g>\n    </g>\n    <g id=\"ytick_7\">\n     <g id=\"line2d_12\">\n      <path clip-path=\"url(#p99381cb1ab)\" d=\"M 41.192188 11.379141 \nL 375.992188 11.379141 \n\" style=\"fill:none;stroke:#ffffff;stroke-linecap:round;\"/>\n     </g>\n     <g id=\"text_12\">\n      <!-- 10.4 -->\n      <g style=\"fill:#262626;\" transform=\"translate(7.2 15.558281)scale(0.11 -0.11)\">\n       <use xlink:href=\"#DejaVuSans-49\"/>\n       <use x=\"63.623047\" xlink:href=\"#DejaVuSans-48\"/>\n       <use x=\"127.246094\" xlink:href=\"#DejaVuSans-46\"/>\n       <use x=\"159.033203\" xlink:href=\"#DejaVuSans-52\"/>\n      </g>\n     </g>\n    </g>\n   </g>\n   <g id=\"PathCollection_1\">\n    <defs>\n     <path d=\"M 0 3 \nC 0.795609 3 1.55874 2.683901 2.12132 2.12132 \nC 2.683901 1.55874 3 0.795609 3 0 \nC 3 -0.795609 2.683901 -1.55874 2.12132 -2.12132 \nC 1.55874 -2.683901 0.795609 -3 0 -3 \nC -0.795609 -3 -1.55874 -2.683901 -2.12132 -2.12132 \nC -2.683901 -1.55874 -3 -0.795609 -3 0 \nC -3 0.795609 -2.683901 1.55874 -2.12132 2.12132 \nC -1.55874 2.683901 -0.795609 3 0 3 \nz\n\" id=\"m4da6630d57\" style=\"stroke:#0000ff;\"/>\n    </defs>\n    <g clip-path=\"url(#p99381cb1ab)\">\n     <use style=\"fill:#0000ff;stroke:#0000ff;\" x=\"87.723904\" xlink:href=\"#m4da6630d57\" y=\"161.468916\"/>\n     <use style=\"fill:#0000ff;stroke:#0000ff;\" x=\"143.821166\" xlink:href=\"#m4da6630d57\" y=\"168.95563\"/>\n     <use style=\"fill:#0000ff;stroke:#0000ff;\" x=\"67.161156\" xlink:href=\"#m4da6630d57\" y=\"138.641395\"/>\n     <use style=\"fill:#0000ff;stroke:#0000ff;\" x=\"218.559282\" xlink:href=\"#m4da6630d57\" y=\"122.760288\"/>\n     <use style=\"fill:#0000ff;stroke:#0000ff;\" x=\"86.234796\" xlink:href=\"#m4da6630d57\" y=\"187.359772\"/>\n     <use style=\"fill:#0000ff;stroke:#0000ff;\" x=\"123.600123\" xlink:href=\"#m4da6630d57\" y=\"170.85593\"/>\n     <use style=\"fill:#0000ff;stroke:#0000ff;\" x=\"358.093908\" xlink:href=\"#m4da6630d57\" y=\"123.329187\"/>\n     <use style=\"fill:#0000ff;stroke:#0000ff;\" x=\"65.68555\" xlink:href=\"#m4da6630d57\" y=\"127.078988\"/>\n     <use style=\"fill:#0000ff;stroke:#0000ff;\" x=\"101.68017\" xlink:href=\"#m4da6630d57\" y=\"171.524503\"/>\n     <use style=\"fill:#0000ff;stroke:#0000ff;\" x=\"77.94961\" xlink:href=\"#m4da6630d57\" y=\"179.160107\"/>\n     <use style=\"fill:#0000ff;stroke:#0000ff;\" x=\"141.868138\" xlink:href=\"#m4da6630d57\" y=\"159.806964\"/>\n     <use style=\"fill:#0000ff;stroke:#0000ff;\" x=\"347.71602\" xlink:href=\"#m4da6630d57\" y=\"41.382283\"/>\n     <use style=\"fill:#0000ff;stroke:#0000ff;\" x=\"64.149917\" xlink:href=\"#m4da6630d57\" y=\"159.474949\"/>\n     <use style=\"fill:#0000ff;stroke:#0000ff;\" x=\"56.971617\" xlink:href=\"#m4da6630d57\" y=\"145.901001\"/>\n     <use style=\"fill:#0000ff;stroke:#0000ff;\" x=\"360.774006\" xlink:href=\"#m4da6630d57\" y=\"94.117768\"/>\n     <use style=\"fill:#0000ff;stroke:#0000ff;\" x=\"86.308016\" xlink:href=\"#m4da6630d57\" y=\"173.146042\"/>\n     <use style=\"fill:#0000ff;stroke:#0000ff;\" x=\"348.840487\" xlink:href=\"#m4da6630d57\" y=\"64.538458\"/>\n     <use style=\"fill:#0000ff;stroke:#0000ff;\" x=\"62.571698\" xlink:href=\"#m4da6630d57\" y=\"148.689097\"/>\n     <use style=\"fill:#0000ff;stroke:#0000ff;\" x=\"229.709778\" xlink:href=\"#m4da6630d57\" y=\"84.37645\"/>\n     <use style=\"fill:#0000ff;stroke:#0000ff;\" x=\"323.918473\" xlink:href=\"#m4da6630d57\" y=\"48.470027\"/>\n     <use style=\"fill:#0000ff;stroke:#0000ff;\" x=\"267.804907\" xlink:href=\"#m4da6630d57\" y=\"33.53256\"/>\n     <use style=\"fill:#0000ff;stroke:#0000ff;\" x=\"99.718851\" xlink:href=\"#m4da6630d57\" y=\"200.659269\"/>\n     <use style=\"fill:#0000ff;stroke:#0000ff;\" x=\"61.093998\" xlink:href=\"#m4da6630d57\" y=\"146.731592\"/>\n     <use style=\"fill:#0000ff;stroke:#0000ff;\" x=\"56.410369\" xlink:href=\"#m4da6630d57\" y=\"129.908728\"/>\n     <use style=\"fill:#0000ff;stroke:#0000ff;\" x=\"83.899442\" xlink:href=\"#m4da6630d57\" y=\"189.533678\"/>\n     <use style=\"fill:#0000ff;stroke:#0000ff;\" x=\"116.665662\" xlink:href=\"#m4da6630d57\" y=\"179.443722\"/>\n     <use style=\"fill:#0000ff;stroke:#0000ff;\" x=\"67.33399\" xlink:href=\"#m4da6630d57\" y=\"145.335862\"/>\n     <use style=\"fill:#0000ff;stroke:#0000ff;\" x=\"177.450083\" xlink:href=\"#m4da6630d57\" y=\"151.275782\"/>\n     <use style=\"fill:#0000ff;stroke:#0000ff;\" x=\"299.123223\" xlink:href=\"#m4da6630d57\" y=\"17.234978\"/>\n     <use style=\"fill:#0000ff;stroke:#0000ff;\" x=\"56.655999\" xlink:href=\"#m4da6630d57\" y=\"112.596136\"/>\n     <use style=\"fill:#0000ff;stroke:#0000ff;\" x=\"66.974422\" xlink:href=\"#m4da6630d57\" y=\"136.829427\"/>\n     <use style=\"fill:#0000ff;stroke:#0000ff;\" x=\"169.872905\" xlink:href=\"#m4da6630d57\" y=\"146.282549\"/>\n     <use style=\"fill:#0000ff;stroke:#0000ff;\" x=\"207.815472\" xlink:href=\"#m4da6630d57\" y=\"107.073375\"/>\n    </g>\n   </g>\n   <g id=\"PathCollection_2\">\n    <defs>\n     <path d=\"M 0 3 \nC 0.795609 3 1.55874 2.683901 2.12132 2.12132 \nC 2.683901 1.55874 3 0.795609 3 0 \nC 3 -0.795609 2.683901 -1.55874 2.12132 -2.12132 \nC 1.55874 -2.683901 0.795609 -3 0 -3 \nC -0.795609 -3 -1.55874 -2.683901 -2.12132 -2.12132 \nC -2.683901 -1.55874 -3 -0.795609 -3 0 \nC -3 0.795609 -2.683901 1.55874 -2.12132 2.12132 \nC -1.55874 2.683901 -0.795609 3 0 3 \nz\n\" id=\"mbb2f6ed0d2\" style=\"stroke:#ff0000;\"/>\n    </defs>\n    <g clip-path=\"url(#p99381cb1ab)\">\n     <use style=\"fill:#ff0000;stroke:#ff0000;\" x=\"70.867597\" xlink:href=\"#mbb2f6ed0d2\" y=\"148.761031\"/>\n     <use style=\"fill:#ff0000;stroke:#ff0000;\" x=\"118.982525\" xlink:href=\"#mbb2f6ed0d2\" y=\"214.907706\"/>\n     <use style=\"fill:#ff0000;stroke:#ff0000;\" x=\"175.749683\" xlink:href=\"#mbb2f6ed0d2\" y=\"140.156081\"/>\n     <use style=\"fill:#ff0000;stroke:#ff0000;\" x=\"198.35116\" xlink:href=\"#mbb2f6ed0d2\" y=\"127.598199\"/>\n     <use style=\"fill:#ff0000;stroke:#ff0000;\" x=\"145.40677\" xlink:href=\"#mbb2f6ed0d2\" y=\"177.723178\"/>\n     <use style=\"fill:#ff0000;stroke:#ff0000;\" x=\"153.020807\" xlink:href=\"#mbb2f6ed0d2\" y=\"175.449394\"/>\n     <use style=\"fill:#ff0000;stroke:#ff0000;\" x=\"69.178506\" xlink:href=\"#mbb2f6ed0d2\" y=\"156.991765\"/>\n     <use style=\"fill:#ff0000;stroke:#ff0000;\" x=\"255.826864\" xlink:href=\"#mbb2f6ed0d2\" y=\"34.877165\"/>\n     <use style=\"fill:#ff0000;stroke:#ff0000;\" x=\"57.642967\" xlink:href=\"#mbb2f6ed0d2\" y=\"137.762925\"/>\n     <use style=\"fill:#ff0000;stroke:#ff0000;\" x=\"83.726565\" xlink:href=\"#mbb2f6ed0d2\" y=\"157.305533\"/>\n     <use style=\"fill:#ff0000;stroke:#ff0000;\" x=\"280.575821\" xlink:href=\"#mbb2f6ed0d2\" y=\"49.031272\"/>\n     <use style=\"fill:#ff0000;stroke:#ff0000;\" x=\"64.152353\" xlink:href=\"#mbb2f6ed0d2\" y=\"171.168359\"/>\n     <use style=\"fill:#ff0000;stroke:#ff0000;\" x=\"59.361142\" xlink:href=\"#mbb2f6ed0d2\" y=\"144.932961\"/>\n     <use style=\"fill:#ff0000;stroke:#ff0000;\" x=\"173.23415\" xlink:href=\"#mbb2f6ed0d2\" y=\"143.093602\"/>\n     <use style=\"fill:#ff0000;stroke:#ff0000;\" x=\"172.280154\" xlink:href=\"#mbb2f6ed0d2\" y=\"154.022345\"/>\n     <use style=\"fill:#ff0000;stroke:#ff0000;\" x=\"57.365242\" xlink:href=\"#mbb2f6ed0d2\" y=\"143.793567\"/>\n     <use style=\"fill:#ff0000;stroke:#ff0000;\" x=\"135.641402\" xlink:href=\"#mbb2f6ed0d2\" y=\"173.282204\"/>\n    </g>\n   </g>\n   <g id=\"line2d_13\">\n    <path clip-path=\"url(#p99381cb1ab)\" d=\"M 87.723904 154.748949 \nL 143.821166 135.806851 \nL 67.161156 161.692275 \nL 218.559282 110.570384 \nL 86.234796 155.251769 \nL 123.600123 142.634795 \nL 358.093908 63.454386 \nL 65.68555 162.190535 \nL 101.68017 150.036402 \nL 77.94961 158.049388 \nL 141.868138 136.466321 \nL 347.71602 66.958639 \nL 64.149917 162.709065 \nL 56.971617 165.132928 \nL 360.774006 62.54941 \nL 86.308016 155.227045 \nL 348.840487 66.578945 \nL 62.571698 163.241975 \nL 229.709778 106.805249 \nL 323.918473 74.994244 \nL 267.804907 93.941847 \nL 99.718851 150.698671 \nL 61.093998 163.740943 \nL 56.410369 165.322442 \nL 83.899442 156.040337 \nL 116.665662 144.976322 \nL 67.33399 161.633914 \nL 177.450083 124.451533 \nL 299.123223 83.366739 \nL 56.655999 165.239501 \nL 66.974422 161.755328 \nL 169.872905 127.010083 \nL 207.815472 114.198196 \n\" style=\"fill:none;stroke:#000000;stroke-linecap:round;stroke-width:1.5;\"/>\n   </g>\n   <g id=\"patch_3\">\n    <path d=\"M 41.192188 224.791342 \nL 41.192188 7.351342 \n\" style=\"fill:none;stroke:#ffffff;stroke-linecap:square;stroke-linejoin:miter;stroke-width:1.25;\"/>\n   </g>\n   <g id=\"patch_4\">\n    <path d=\"M 375.992188 224.791342 \nL 375.992188 7.351342 \n\" style=\"fill:none;stroke:#ffffff;stroke-linecap:square;stroke-linejoin:miter;stroke-width:1.25;\"/>\n   </g>\n   <g id=\"patch_5\">\n    <path d=\"M 41.192188 224.791342 \nL 375.992188 224.791342 \n\" style=\"fill:none;stroke:#ffffff;stroke-linecap:square;stroke-linejoin:miter;stroke-width:1.25;\"/>\n   </g>\n   <g id=\"patch_6\">\n    <path d=\"M 41.192188 7.351342 \nL 375.992188 7.351342 \n\" style=\"fill:none;stroke:#ffffff;stroke-linecap:square;stroke-linejoin:miter;stroke-width:1.25;\"/>\n   </g>\n  </g>\n </g>\n <defs>\n  <clipPath id=\"p99381cb1ab\">\n   <rect height=\"217.44\" width=\"334.8\" x=\"41.192188\" y=\"7.351342\"/>\n  </clipPath>\n </defs>\n</svg>\n",
      "image/png": "[encoded data removed]"
     },
     "metadata": {}
    }
   ],
   "source": [
    "plt.scatter(X_train, y_train, color='blue')\n",
    "plt.scatter(X_test, y_test, color='red')\n",
    "plt.plot(X_train, lr.predict(X_train[:, None]), color='black') # j'ai eu pas mal de difficultés à obtenir cette courbe somehow, je ne sais pas si elle est bonne vu que le jeu de données semble évoluer en forme de sinusoïde mais c'est celle qui me paraît la plus réaliste parmi toutes celles que j'ai obtenu"
   ]
  },
  {
   "cell_type": "markdown",
   "metadata": {},
   "source": [
    "## Ajouter des attributs, régression polynomiale"
   ]
  },
  {
   "cell_type": "markdown",
   "metadata": {},
   "source": [
    "**Question** Dans les attributs décrivant les données, ajouter le carré de `X`. On doit avoir après cette manipulation `X2_train` et  `X2_valid` de dimensions (50,2)"
   ]
  },
  {
   "cell_type": "code",
   "execution_count": 12,
   "metadata": {},
   "outputs": [
    {
     "output_type": "execute_result",
     "data": {
      "text/plain": [
       "(50, 2)"
      ]
     },
     "metadata": {},
     "execution_count": 12
    }
   ],
   "source": [
    "X2_valid = np.c_[X, X**2]\n",
    "X2_valid.shape"
   ]
  },
  {
   "cell_type": "code",
   "execution_count": 13,
   "metadata": {},
   "outputs": [],
   "source": [
    "X2_train, X2_test = train_test_split(X2_valid, random_state=42, train_size=2/3, test_size=1/3)"
   ]
  },
  {
   "cell_type": "markdown",
   "metadata": {},
   "source": [
    "**Question** Réentraîner le classifieur linéaire avec cette nouvelle description des données (donc les attributs $x$ et $x^2$)."
   ]
  },
  {
   "cell_type": "code",
   "execution_count": 14,
   "metadata": {},
   "outputs": [
    {
     "output_type": "execute_result",
     "data": {
      "text/plain": [
       "LinearRegression()"
      ]
     },
     "metadata": {},
     "execution_count": 14
    }
   ],
   "source": [
    "lr2 = LinearRegression().fit(X_train[:, None], X2_train[:,1])\n",
    "lr2"
   ]
  },
  {
   "cell_type": "markdown",
   "metadata": {},
   "source": [
    "**Question** Tracer maintenant dans un diagamme, les points en bleu pour les données d'apprentissage, en rouge pour les données de test et en noir la courbe de régression qui vient d'être calculée."
   ]
  },
  {
   "cell_type": "code",
   "execution_count": 15,
   "metadata": {},
   "outputs": [
    {
     "output_type": "execute_result",
     "data": {
      "text/plain": [
       "[<matplotlib.lines.Line2D at 0x7f0880a8d8b0>]"
      ]
     },
     "metadata": {},
     "execution_count": 15
    },
    {
     "output_type": "display_data",
     "data": {
      "text/plain": "<Figure size 432x288 with 1 Axes>",
      "image/svg+xml": "<?xml version=\"1.0\" encoding=\"utf-8\" standalone=\"no\"?>\n<!DOCTYPE svg PUBLIC \"-//W3C//DTD SVG 1.1//EN\"\n  \"http://www.w3.org/Graphics/SVG/1.1/DTD/svg11.dtd\">\n<!-- Created with matplotlib (https://matplotlib.org/) -->\n<svg height=\"251.985938pt\" version=\"1.1\" viewBox=\"0 0 376.193437 251.985938\" width=\"376.193437pt\" xmlns=\"http://www.w3.org/2000/svg\" xmlns:xlink=\"http://www.w3.org/1999/xlink\">\n <metadata>\n  <rdf:RDF xmlns:cc=\"http://creativecommons.org/ns#\" xmlns:dc=\"http://purl.org/dc/elements/1.1/\" xmlns:rdf=\"http://www.w3.org/1999/02/22-rdf-syntax-ns#\">\n   <cc:Work>\n    <dc:type rdf:resource=\"http://purl.org/dc/dcmitype/StillImage\"/>\n    <dc:date>2020-11-03T22:47:23.872761</dc:date>\n    <dc:format>image/svg+xml</dc:format>\n    <dc:creator>\n     <cc:Agent>\n      <dc:title>Matplotlib v3.3.2, https://matplotlib.org/</dc:title>\n     </cc:Agent>\n    </dc:creator>\n   </cc:Work>\n  </rdf:RDF>\n </metadata>\n <defs>\n  <style type=\"text/css\">*{stroke-linecap:butt;stroke-linejoin:round;}</style>\n </defs>\n <g id=\"figure_1\">\n  <g id=\"patch_1\">\n   <path d=\"M 0 251.985938 \nL 376.193437 251.985938 \nL 376.193437 0 \nL 0 0 \nz\n\" style=\"fill:#ffffff;\"/>\n  </g>\n  <g id=\"axes_1\">\n   <g id=\"patch_2\">\n    <path d=\"M 34.193438 224.64 \nL 368.993438 224.64 \nL 368.993438 7.2 \nL 34.193438 7.2 \nz\n\" style=\"fill:#eaeaf2;\"/>\n   </g>\n   <g id=\"matplotlib.axis_1\">\n    <g id=\"xtick_1\">\n     <g id=\"line2d_1\">\n      <path clip-path=\"url(#pfe0479d863)\" d=\"M 49.274466 224.64 \nL 49.274466 7.2 \n\" style=\"fill:none;stroke:#ffffff;stroke-linecap:round;\"/>\n     </g>\n     <g id=\"text_1\">\n      <!-- 0.0 -->\n      <g style=\"fill:#262626;\" transform=\"translate(40.527747 242.498281)scale(0.11 -0.11)\">\n       <defs>\n        <path d=\"M 31.78125 66.40625 \nQ 24.171875 66.40625 20.328125 58.90625 \nQ 16.5 51.421875 16.5 36.375 \nQ 16.5 21.390625 20.328125 13.890625 \nQ 24.171875 6.390625 31.78125 6.390625 \nQ 39.453125 6.390625 43.28125 13.890625 \nQ 47.125 21.390625 47.125 36.375 \nQ 47.125 51.421875 43.28125 58.90625 \nQ 39.453125 66.40625 31.78125 66.40625 \nz\nM 31.78125 74.21875 \nQ 44.046875 74.21875 50.515625 64.515625 \nQ 56.984375 54.828125 56.984375 36.375 \nQ 56.984375 17.96875 50.515625 8.265625 \nQ 44.046875 -1.421875 31.78125 -1.421875 \nQ 19.53125 -1.421875 13.0625 8.265625 \nQ 6.59375 17.96875 6.59375 36.375 \nQ 6.59375 54.828125 13.0625 64.515625 \nQ 19.53125 74.21875 31.78125 74.21875 \nz\n\" id=\"DejaVuSans-48\"/>\n        <path d=\"M 10.6875 12.40625 \nL 21 12.40625 \nL 21 0 \nL 10.6875 0 \nz\n\" id=\"DejaVuSans-46\"/>\n       </defs>\n       <use xlink:href=\"#DejaVuSans-48\"/>\n       <use x=\"63.623047\" xlink:href=\"#DejaVuSans-46\"/>\n       <use x=\"95.410156\" xlink:href=\"#DejaVuSans-48\"/>\n      </g>\n     </g>\n    </g>\n    <g id=\"xtick_2\">\n     <g id=\"line2d_2\">\n      <path clip-path=\"url(#pfe0479d863)\" d=\"M 114.011929 224.64 \nL 114.011929 7.2 \n\" style=\"fill:none;stroke:#ffffff;stroke-linecap:round;\"/>\n     </g>\n     <g id=\"text_2\">\n      <!-- 0.2 -->\n      <g style=\"fill:#262626;\" transform=\"translate(105.265211 242.498281)scale(0.11 -0.11)\">\n       <defs>\n        <path d=\"M 19.1875 8.296875 \nL 53.609375 8.296875 \nL 53.609375 0 \nL 7.328125 0 \nL 7.328125 8.296875 \nQ 12.9375 14.109375 22.625 23.890625 \nQ 32.328125 33.6875 34.8125 36.53125 \nQ 39.546875 41.84375 41.421875 45.53125 \nQ 43.3125 49.21875 43.3125 52.78125 \nQ 43.3125 58.59375 39.234375 62.25 \nQ 35.15625 65.921875 28.609375 65.921875 \nQ 23.96875 65.921875 18.8125 64.3125 \nQ 13.671875 62.703125 7.8125 59.421875 \nL 7.8125 69.390625 \nQ 13.765625 71.78125 18.9375 73 \nQ 24.125 74.21875 28.421875 74.21875 \nQ 39.75 74.21875 46.484375 68.546875 \nQ 53.21875 62.890625 53.21875 53.421875 \nQ 53.21875 48.921875 51.53125 44.890625 \nQ 49.859375 40.875 45.40625 35.40625 \nQ 44.1875 33.984375 37.640625 27.21875 \nQ 31.109375 20.453125 19.1875 8.296875 \nz\n\" id=\"DejaVuSans-50\"/>\n       </defs>\n       <use xlink:href=\"#DejaVuSans-48\"/>\n       <use x=\"63.623047\" xlink:href=\"#DejaVuSans-46\"/>\n       <use x=\"95.410156\" xlink:href=\"#DejaVuSans-50\"/>\n      </g>\n     </g>\n    </g>\n    <g id=\"xtick_3\">\n     <g id=\"line2d_3\">\n      <path clip-path=\"url(#pfe0479d863)\" d=\"M 178.749392 224.64 \nL 178.749392 7.2 \n\" style=\"fill:none;stroke:#ffffff;stroke-linecap:round;\"/>\n     </g>\n     <g id=\"text_3\">\n      <!-- 0.4 -->\n      <g style=\"fill:#262626;\" transform=\"translate(170.002674 242.498281)scale(0.11 -0.11)\">\n       <defs>\n        <path d=\"M 37.796875 64.3125 \nL 12.890625 25.390625 \nL 37.796875 25.390625 \nz\nM 35.203125 72.90625 \nL 47.609375 72.90625 \nL 47.609375 25.390625 \nL 58.015625 25.390625 \nL 58.015625 17.1875 \nL 47.609375 17.1875 \nL 47.609375 0 \nL 37.796875 0 \nL 37.796875 17.1875 \nL 4.890625 17.1875 \nL 4.890625 26.703125 \nz\n\" id=\"DejaVuSans-52\"/>\n       </defs>\n       <use xlink:href=\"#DejaVuSans-48\"/>\n       <use x=\"63.623047\" xlink:href=\"#DejaVuSans-46\"/>\n       <use x=\"95.410156\" xlink:href=\"#DejaVuSans-52\"/>\n      </g>\n     </g>\n    </g>\n    <g id=\"xtick_4\">\n     <g id=\"line2d_4\">\n      <path clip-path=\"url(#pfe0479d863)\" d=\"M 243.486856 224.64 \nL 243.486856 7.2 \n\" style=\"fill:none;stroke:#ffffff;stroke-linecap:round;\"/>\n     </g>\n     <g id=\"text_4\">\n      <!-- 0.6 -->\n      <g style=\"fill:#262626;\" transform=\"translate(234.740137 242.498281)scale(0.11 -0.11)\">\n       <defs>\n        <path d=\"M 33.015625 40.375 \nQ 26.375 40.375 22.484375 35.828125 \nQ 18.609375 31.296875 18.609375 23.390625 \nQ 18.609375 15.53125 22.484375 10.953125 \nQ 26.375 6.390625 33.015625 6.390625 \nQ 39.65625 6.390625 43.53125 10.953125 \nQ 47.40625 15.53125 47.40625 23.390625 \nQ 47.40625 31.296875 43.53125 35.828125 \nQ 39.65625 40.375 33.015625 40.375 \nz\nM 52.59375 71.296875 \nL 52.59375 62.3125 \nQ 48.875 64.0625 45.09375 64.984375 \nQ 41.3125 65.921875 37.59375 65.921875 \nQ 27.828125 65.921875 22.671875 59.328125 \nQ 17.53125 52.734375 16.796875 39.40625 \nQ 19.671875 43.65625 24.015625 45.921875 \nQ 28.375 48.1875 33.59375 48.1875 \nQ 44.578125 48.1875 50.953125 41.515625 \nQ 57.328125 34.859375 57.328125 23.390625 \nQ 57.328125 12.15625 50.6875 5.359375 \nQ 44.046875 -1.421875 33.015625 -1.421875 \nQ 20.359375 -1.421875 13.671875 8.265625 \nQ 6.984375 17.96875 6.984375 36.375 \nQ 6.984375 53.65625 15.1875 63.9375 \nQ 23.390625 74.21875 37.203125 74.21875 \nQ 40.921875 74.21875 44.703125 73.484375 \nQ 48.484375 72.75 52.59375 71.296875 \nz\n\" id=\"DejaVuSans-54\"/>\n       </defs>\n       <use xlink:href=\"#DejaVuSans-48\"/>\n       <use x=\"63.623047\" xlink:href=\"#DejaVuSans-46\"/>\n       <use x=\"95.410156\" xlink:href=\"#DejaVuSans-54\"/>\n      </g>\n     </g>\n    </g>\n    <g id=\"xtick_5\">\n     <g id=\"line2d_5\">\n      <path clip-path=\"url(#pfe0479d863)\" d=\"M 308.224319 224.64 \nL 308.224319 7.2 \n\" style=\"fill:none;stroke:#ffffff;stroke-linecap:round;\"/>\n     </g>\n     <g id=\"text_5\">\n      <!-- 0.8 -->\n      <g style=\"fill:#262626;\" transform=\"translate(299.4776 242.498281)scale(0.11 -0.11)\">\n       <defs>\n        <path d=\"M 31.78125 34.625 \nQ 24.75 34.625 20.71875 30.859375 \nQ 16.703125 27.09375 16.703125 20.515625 \nQ 16.703125 13.921875 20.71875 10.15625 \nQ 24.75 6.390625 31.78125 6.390625 \nQ 38.8125 6.390625 42.859375 10.171875 \nQ 46.921875 13.96875 46.921875 20.515625 \nQ 46.921875 27.09375 42.890625 30.859375 \nQ 38.875 34.625 31.78125 34.625 \nz\nM 21.921875 38.8125 \nQ 15.578125 40.375 12.03125 44.71875 \nQ 8.5 49.078125 8.5 55.328125 \nQ 8.5 64.0625 14.71875 69.140625 \nQ 20.953125 74.21875 31.78125 74.21875 \nQ 42.671875 74.21875 48.875 69.140625 \nQ 55.078125 64.0625 55.078125 55.328125 \nQ 55.078125 49.078125 51.53125 44.71875 \nQ 48 40.375 41.703125 38.8125 \nQ 48.828125 37.15625 52.796875 32.3125 \nQ 56.78125 27.484375 56.78125 20.515625 \nQ 56.78125 9.90625 50.3125 4.234375 \nQ 43.84375 -1.421875 31.78125 -1.421875 \nQ 19.734375 -1.421875 13.25 4.234375 \nQ 6.78125 9.90625 6.78125 20.515625 \nQ 6.78125 27.484375 10.78125 32.3125 \nQ 14.796875 37.15625 21.921875 38.8125 \nz\nM 18.3125 54.390625 \nQ 18.3125 48.734375 21.84375 45.5625 \nQ 25.390625 42.390625 31.78125 42.390625 \nQ 38.140625 42.390625 41.71875 45.5625 \nQ 45.3125 48.734375 45.3125 54.390625 \nQ 45.3125 60.0625 41.71875 63.234375 \nQ 38.140625 66.40625 31.78125 66.40625 \nQ 25.390625 66.40625 21.84375 63.234375 \nQ 18.3125 60.0625 18.3125 54.390625 \nz\n\" id=\"DejaVuSans-56\"/>\n       </defs>\n       <use xlink:href=\"#DejaVuSans-48\"/>\n       <use x=\"63.623047\" xlink:href=\"#DejaVuSans-46\"/>\n       <use x=\"95.410156\" xlink:href=\"#DejaVuSans-56\"/>\n      </g>\n     </g>\n    </g>\n   </g>\n   <g id=\"matplotlib.axis_2\">\n    <g id=\"ytick_1\">\n     <g id=\"line2d_6\">\n      <path clip-path=\"url(#pfe0479d863)\" d=\"M 34.193438 199.363743 \nL 368.993438 199.363743 \n\" style=\"fill:none;stroke:#ffffff;stroke-linecap:round;\"/>\n     </g>\n     <g id=\"text_6\">\n      <!-- 0.0 -->\n      <g style=\"fill:#262626;\" transform=\"translate(7.2 203.542883)scale(0.11 -0.11)\">\n       <use xlink:href=\"#DejaVuSans-48\"/>\n       <use x=\"63.623047\" xlink:href=\"#DejaVuSans-46\"/>\n       <use x=\"95.410156\" xlink:href=\"#DejaVuSans-48\"/>\n      </g>\n     </g>\n    </g>\n    <g id=\"ytick_2\">\n     <g id=\"line2d_7\">\n      <path clip-path=\"url(#pfe0479d863)\" d=\"M 34.193438 158.168811 \nL 368.993438 158.168811 \n\" style=\"fill:none;stroke:#ffffff;stroke-linecap:round;\"/>\n     </g>\n     <g id=\"text_7\">\n      <!-- 0.2 -->\n      <g style=\"fill:#262626;\" transform=\"translate(7.2 162.347952)scale(0.11 -0.11)\">\n       <use xlink:href=\"#DejaVuSans-48\"/>\n       <use x=\"63.623047\" xlink:href=\"#DejaVuSans-46\"/>\n       <use x=\"95.410156\" xlink:href=\"#DejaVuSans-50\"/>\n      </g>\n     </g>\n    </g>\n    <g id=\"ytick_3\">\n     <g id=\"line2d_8\">\n      <path clip-path=\"url(#pfe0479d863)\" d=\"M 34.193438 116.97388 \nL 368.993438 116.97388 \n\" style=\"fill:none;stroke:#ffffff;stroke-linecap:round;\"/>\n     </g>\n     <g id=\"text_8\">\n      <!-- 0.4 -->\n      <g style=\"fill:#262626;\" transform=\"translate(7.2 121.15302)scale(0.11 -0.11)\">\n       <use xlink:href=\"#DejaVuSans-48\"/>\n       <use x=\"63.623047\" xlink:href=\"#DejaVuSans-46\"/>\n       <use x=\"95.410156\" xlink:href=\"#DejaVuSans-52\"/>\n      </g>\n     </g>\n    </g>\n    <g id=\"ytick_4\">\n     <g id=\"line2d_9\">\n      <path clip-path=\"url(#pfe0479d863)\" d=\"M 34.193438 75.778948 \nL 368.993438 75.778948 \n\" style=\"fill:none;stroke:#ffffff;stroke-linecap:round;\"/>\n     </g>\n     <g id=\"text_9\">\n      <!-- 0.6 -->\n      <g style=\"fill:#262626;\" transform=\"translate(7.2 79.958089)scale(0.11 -0.11)\">\n       <use xlink:href=\"#DejaVuSans-48\"/>\n       <use x=\"63.623047\" xlink:href=\"#DejaVuSans-46\"/>\n       <use x=\"95.410156\" xlink:href=\"#DejaVuSans-54\"/>\n      </g>\n     </g>\n    </g>\n    <g id=\"ytick_5\">\n     <g id=\"line2d_10\">\n      <path clip-path=\"url(#pfe0479d863)\" d=\"M 34.193438 34.584016 \nL 368.993438 34.584016 \n\" style=\"fill:none;stroke:#ffffff;stroke-linecap:round;\"/>\n     </g>\n     <g id=\"text_10\">\n      <!-- 0.8 -->\n      <g style=\"fill:#262626;\" transform=\"translate(7.2 38.763157)scale(0.11 -0.11)\">\n       <use xlink:href=\"#DejaVuSans-48\"/>\n       <use x=\"63.623047\" xlink:href=\"#DejaVuSans-46\"/>\n       <use x=\"95.410156\" xlink:href=\"#DejaVuSans-56\"/>\n      </g>\n     </g>\n    </g>\n   </g>\n   <g id=\"PathCollection_1\">\n    <defs>\n     <path d=\"M 0 3 \nC 0.795609 3 1.55874 2.683901 2.12132 2.12132 \nC 2.683901 1.55874 3 0.795609 3 0 \nC 3 -0.795609 2.683901 -1.55874 2.12132 -2.12132 \nC 1.55874 -2.683901 0.795609 -3 0 -3 \nC -0.795609 -3 -1.55874 -2.683901 -2.12132 -2.12132 \nC -2.683901 -1.55874 -3 -0.795609 -3 0 \nC -3 0.795609 -2.683901 1.55874 -2.12132 2.12132 \nC -1.55874 2.683901 -0.795609 3 0 3 \nz\n\" id=\"mf1b61cfaaa\" style=\"stroke:#0000ff;\"/>\n    </defs>\n    <g clip-path=\"url(#pfe0479d863)\">\n     <use style=\"fill:#0000ff;stroke:#0000ff;\" x=\"80.725154\" xlink:href=\"#mf1b61cfaaa\" y=\"197.419177\"/>\n     <use style=\"fill:#0000ff;stroke:#0000ff;\" x=\"136.822416\" xlink:href=\"#mf1b61cfaaa\" y=\"184.295785\"/>\n     <use style=\"fill:#0000ff;stroke:#0000ff;\" x=\"60.162406\" xlink:href=\"#mf1b61cfaaa\" y=\"199.13069\"/>\n     <use style=\"fill:#0000ff;stroke:#0000ff;\" x=\"211.560532\" xlink:href=\"#mf1b61cfaaa\" y=\"147.588172\"/>\n     <use style=\"fill:#0000ff;stroke:#0000ff;\" x=\"79.236046\" xlink:href=\"#mf1b61cfaaa\" y=\"197.598958\"/>\n     <use style=\"fill:#0000ff;stroke:#0000ff;\" x=\"116.601373\" xlink:href=\"#mf1b61cfaaa\" y=\"190.45247\"/>\n     <use style=\"fill:#0000ff;stroke:#0000ff;\" x=\"351.095158\" xlink:href=\"#mf1b61cfaaa\" y=\"20.278233\"/>\n     <use style=\"fill:#0000ff;stroke:#0000ff;\" x=\"58.6868\" xlink:href=\"#mf1b61cfaaa\" y=\"199.189579\"/>\n     <use style=\"fill:#0000ff;stroke:#0000ff;\" x=\"94.68142\" xlink:href=\"#mf1b61cfaaa\" y=\"195.310457\"/>\n     <use style=\"fill:#0000ff;stroke:#0000ff;\" x=\"70.95086\" xlink:href=\"#mf1b61cfaaa\" y=\"198.440031\"/>\n     <use style=\"fill:#0000ff;stroke:#0000ff;\" x=\"134.869388\" xlink:href=\"#mf1b61cfaaa\" y=\"184.960562\"/>\n     <use style=\"fill:#0000ff;stroke:#0000ff;\" x=\"340.71727\" xlink:href=\"#mf1b61cfaaa\" y=\"32.381958\"/>\n     <use style=\"fill:#0000ff;stroke:#0000ff;\" x=\"57.151167\" xlink:href=\"#mf1b61cfaaa\" y=\"199.241773\"/>\n     <use style=\"fill:#0000ff;stroke:#0000ff;\" x=\"49.972867\" xlink:href=\"#mf1b61cfaaa\" y=\"199.362784\"/>\n     <use style=\"fill:#0000ff;stroke:#0000ff;\" x=\"353.775256\" xlink:href=\"#mf1b61cfaaa\" y=\"17.083636\"/>\n     <use style=\"fill:#0000ff;stroke:#0000ff;\" x=\"79.309266\" xlink:href=\"#mf1b61cfaaa\" y=\"197.590321\"/>\n     <use style=\"fill:#0000ff;stroke:#0000ff;\" x=\"341.841737\" xlink:href=\"#mf1b61cfaaa\" y=\"31.090948\"/>\n     <use style=\"fill:#0000ff;stroke:#0000ff;\" x=\"55.572948\" xlink:href=\"#mf1b61cfaaa\" y=\"199.285754\"/>\n     <use style=\"fill:#0000ff;stroke:#0000ff;\" x=\"222.711028\" xlink:href=\"#mf1b61cfaaa\" y=\"140.22886\"/>\n     <use style=\"fill:#0000ff;stroke:#0000ff;\" x=\"316.919723\" xlink:href=\"#mf1b61cfaaa\" y=\"58.538168\"/>\n     <use style=\"fill:#0000ff;stroke:#0000ff;\" x=\"260.806157\" xlink:href=\"#mf1b61cfaaa\" y=\"111.398053\"/>\n     <use style=\"fill:#0000ff;stroke:#0000ff;\" x=\"92.720101\" xlink:href=\"#mf1b61cfaaa\" y=\"195.653052\"/>\n     <use style=\"fill:#0000ff;stroke:#0000ff;\" x=\"54.095248\" xlink:href=\"#mf1b61cfaaa\" y=\"199.318055\"/>\n     <use style=\"fill:#0000ff;stroke:#0000ff;\" x=\"49.411619\" xlink:href=\"#mf1b61cfaaa\" y=\"199.363706\"/>\n     <use style=\"fill:#0000ff;stroke:#0000ff;\" x=\"76.900692\" xlink:href=\"#mf1b61cfaaa\" y=\"197.863348\"/>\n     <use style=\"fill:#0000ff;stroke:#0000ff;\" x=\"109.666912\" xlink:href=\"#mf1b61cfaaa\" y=\"192.193602\"/>\n     <use style=\"fill:#0000ff;stroke:#0000ff;\" x=\"60.33524\" xlink:href=\"#mf1b61cfaaa\" y=\"199.123233\"/>\n     <use style=\"fill:#0000ff;stroke:#0000ff;\" x=\"170.451333\" xlink:href=\"#mf1b61cfaaa\" y=\"170.496728\"/>\n     <use style=\"fill:#0000ff;stroke:#0000ff;\" x=\"292.124473\" xlink:href=\"#mf1b61cfaaa\" y=\"83.422309\"/>\n     <use style=\"fill:#0000ff;stroke:#0000ff;\" x=\"49.657249\" xlink:href=\"#mf1b61cfaaa\" y=\"199.363455\"/>\n     <use style=\"fill:#0000ff;stroke:#0000ff;\" x=\"59.975672\" xlink:href=\"#mf1b61cfaaa\" y=\"199.138616\"/>\n     <use style=\"fill:#0000ff;stroke:#0000ff;\" x=\"162.874155\" xlink:href=\"#mf1b61cfaaa\" y=\"173.993962\"/>\n     <use style=\"fill:#0000ff;stroke:#0000ff;\" x=\"200.816722\" xlink:href=\"#mf1b61cfaaa\" y=\"154.216636\"/>\n    </g>\n   </g>\n   <g id=\"PathCollection_2\">\n    <defs>\n     <path d=\"M 0 3 \nC 0.795609 3 1.55874 2.683901 2.12132 2.12132 \nC 2.683901 1.55874 3 0.795609 3 0 \nC 3 -0.795609 2.683901 -1.55874 2.12132 -2.12132 \nC 1.55874 -2.683901 0.795609 -3 0 -3 \nC -0.795609 -3 -1.55874 -2.683901 -2.12132 -2.12132 \nC -2.683901 -1.55874 -3 -0.795609 -3 0 \nC -3 0.795609 -2.683901 1.55874 -2.12132 2.12132 \nC -1.55874 2.683901 -0.795609 3 0 3 \nz\n\" id=\"m4d0c80a04b\" style=\"stroke:#ff0000;\"/>\n    </defs>\n    <g clip-path=\"url(#pfe0479d863)\">\n     <use style=\"fill:#ff0000;stroke:#ff0000;\" x=\"63.868847\" xlink:href=\"#m4d0c80a04b\" y=\"198.945013\"/>\n     <use style=\"fill:#ff0000;stroke:#ff0000;\" x=\"111.983775\" xlink:href=\"#m4d0c80a04b\" y=\"191.632907\"/>\n     <use style=\"fill:#ff0000;stroke:#ff0000;\" x=\"168.750933\" xlink:href=\"#m4d0c80a04b\" y=\"171.30119\"/>\n     <use style=\"fill:#ff0000;stroke:#ff0000;\" x=\"191.35241\" xlink:href=\"#m4d0c80a04b\" y=\"159.679714\"/>\n     <use style=\"fill:#ff0000;stroke:#ff0000;\" x=\"138.40802\" xlink:href=\"#m4d0c80a04b\" y=\"183.745043\"/>\n     <use style=\"fill:#ff0000;stroke:#ff0000;\" x=\"146.022057\" xlink:href=\"#m4d0c80a04b\" y=\"180.962687\"/>\n     <use style=\"fill:#ff0000;stroke:#ff0000;\" x=\"62.179756\" xlink:href=\"#m4d0c80a04b\" y=\"199.036328\"/>\n     <use style=\"fill:#ff0000;stroke:#ff0000;\" x=\"248.828114\" xlink:href=\"#m4d0c80a04b\" y=\"121.078163\"/>\n     <use style=\"fill:#ff0000;stroke:#ff0000;\" x=\"50.644217\" xlink:href=\"#m4d0c80a04b\" y=\"199.360054\"/>\n     <use style=\"fill:#ff0000;stroke:#ff0000;\" x=\"76.727815\" xlink:href=\"#m4d0c80a04b\" y=\"197.882067\"/>\n     <use style=\"fill:#ff0000;stroke:#ff0000;\" x=\"273.577071\" xlink:href=\"#m4d0c80a04b\" y=\"100.455824\"/>\n     <use style=\"fill:#ff0000;stroke:#ff0000;\" x=\"57.153603\" xlink:href=\"#m4d0c80a04b\" y=\"199.241698\"/>\n     <use style=\"fill:#ff0000;stroke:#ff0000;\" x=\"52.362392\" xlink:href=\"#m4d0c80a04b\" y=\"199.344997\"/>\n     <use style=\"fill:#ff0000;stroke:#ff0000;\" x=\"166.2354\" xlink:href=\"#m4d0c80a04b\" y=\"172.470443\"/>\n     <use style=\"fill:#ff0000;stroke:#ff0000;\" x=\"165.281404\" xlink:href=\"#m4d0c80a04b\" y=\"172.907367\"/>\n     <use style=\"fill:#ff0000;stroke:#ff0000;\" x=\"50.366492\" xlink:href=\"#m4d0c80a04b\" y=\"199.361398\"/>\n     <use style=\"fill:#ff0000;stroke:#ff0000;\" x=\"128.642652\" xlink:href=\"#m4d0c80a04b\" y=\"186.979903\"/>\n    </g>\n   </g>\n   <g id=\"line2d_11\">\n    <path clip-path=\"url(#pfe0479d863)\" d=\"M 80.725154 197.052853 \nL 136.822416 165.337542 \nL 60.162406 208.678268 \nL 211.560532 123.083384 \nL 79.236046 197.894739 \nL 116.601373 176.76977 \nL 351.095158 44.195684 \nL 58.6868 209.512521 \nL 94.68142 189.162498 \nL 70.95086 202.578876 \nL 134.869388 166.441712 \nL 340.71727 50.062957 \nL 57.151167 210.38071 \nL 49.972867 214.439055 \nL 353.775256 42.680456 \nL 79.309266 197.853343 \nL 341.841737 49.427225 \nL 55.572948 211.272977 \nL 222.711028 116.779308 \nL 316.919723 63.517207 \nL 260.806157 95.241735 \nL 92.720101 190.271355 \nL 54.095248 212.108414 \nL 49.411619 214.756364 \nL 76.900692 199.215062 \nL 109.666912 180.690257 \nL 60.33524 208.580554 \nL 170.451333 146.325 \nL 292.124473 77.535521 \nL 49.657249 214.617494 \nL 59.975672 208.78384 \nL 162.874155 150.608856 \nL 200.816722 129.157536 \n\" style=\"fill:none;stroke:#000000;stroke-linecap:round;stroke-width:1.5;\"/>\n   </g>\n   <g id=\"patch_3\">\n    <path d=\"M 34.193438 224.64 \nL 34.193438 7.2 \n\" style=\"fill:none;stroke:#ffffff;stroke-linecap:square;stroke-linejoin:miter;stroke-width:1.25;\"/>\n   </g>\n   <g id=\"patch_4\">\n    <path d=\"M 368.993438 224.64 \nL 368.993438 7.2 \n\" style=\"fill:none;stroke:#ffffff;stroke-linecap:square;stroke-linejoin:miter;stroke-width:1.25;\"/>\n   </g>\n   <g id=\"patch_5\">\n    <path d=\"M 34.193438 224.64 \nL 368.993437 224.64 \n\" style=\"fill:none;stroke:#ffffff;stroke-linecap:square;stroke-linejoin:miter;stroke-width:1.25;\"/>\n   </g>\n   <g id=\"patch_6\">\n    <path d=\"M 34.193438 7.2 \nL 368.993437 7.2 \n\" style=\"fill:none;stroke:#ffffff;stroke-linecap:square;stroke-linejoin:miter;stroke-width:1.25;\"/>\n   </g>\n  </g>\n </g>\n <defs>\n  <clipPath id=\"pfe0479d863\">\n   <rect height=\"217.44\" width=\"334.8\" x=\"34.193438\" y=\"7.2\"/>\n  </clipPath>\n </defs>\n</svg>\n",
      "image/png": "[encoded data removed]"
     },
     "metadata": {}
    }
   ],
   "source": [
    "plt.scatter(X_train, X2_train[:,1], color='blue')\n",
    "plt.scatter(X_test, X2_test[:,1], color='red')\n",
    "plt.plot(X_train, lr2.predict(X_train[:, None]), color='black')"
   ]
  },
  {
   "cell_type": "markdown",
   "metadata": {},
   "source": [
    "**Question** Écrire maintenant une fonction `poly` qui prend en argument un jeu de données `X` et un degré `d` et qui calcule une nouvelle représentation avec tous les monômes entre 1 et `d`.\n",
    "\n",
    "    # Exemple : \n",
    "    poly(X, 3)\n",
    "    array([[1.40280301e-01, 1.96785627e-02, 2.76051470e-03],\n",
    "       [9.03857692e-01, 8.16958728e-01, 7.38414431e-01],\n",
    "       [5.35815131e-01, 2.87097854e-01, 1.53831374e-01],\n",
    "       [3.58391981e-01, 1.28444812e-01, 4.60335905e-02],\n",
    "       [2.43418162e-02, 5.92524014e-04, 1.44231106e-05],\n",
    "       [2.43342904e-02, 5.92157688e-04, 1.44097371e-05], ..."
   ]
  },
  {
   "cell_type": "code",
   "execution_count": 16,
   "metadata": {},
   "outputs": [],
   "source": [
    "def poly(X, d):\n",
    "    newX = np.copy(X)\n",
    "    if d > 1:\n",
    "        i = 2\n",
    "        while i <= d:\n",
    "            newX = np.c_[newX, X**i]\n",
    "            i += 1\n",
    "    return newX"
   ]
  },
  {
   "cell_type": "code",
   "execution_count": 17,
   "metadata": {},
   "outputs": [
    {
     "output_type": "execute_result",
     "data": {
      "text/plain": [
       "array([[1.40280301e-01, 1.96785627e-02, 2.76051470e-03],\n",
       "       [9.03857692e-01, 8.16958728e-01, 7.38414431e-01],\n",
       "       [5.35815131e-01, 2.87097854e-01, 1.53831374e-01],\n",
       "       [3.58391981e-01, 1.28444812e-01, 4.60335905e-02],\n",
       "       [2.43418162e-02, 5.92524014e-04, 1.44231106e-05],\n",
       "       [2.43342904e-02, 5.92157688e-04, 1.44097371e-05],\n",
       "       [3.37370600e-03, 1.13818922e-05, 3.83991580e-08],\n",
       "       [7.50261116e-01, 5.62891741e-01, 4.22315786e-01],\n",
       "       [3.61339257e-01, 1.30566059e-01, 4.71786428e-02],\n",
       "       [5.01366775e-01, 2.51368644e-01, 1.26027886e-01],\n",
       "       [4.23721405e-04, 1.79539829e-07, 7.60748688e-11],\n",
       "       [9.40725121e-01, 8.84963754e-01, 8.32507635e-01],\n",
       "       [6.92960750e-01, 4.80194601e-01, 3.32756011e-01],\n",
       "       [4.50878979e-02, 2.03291854e-03, 9.16600236e-05],\n",
       "       [3.30603187e-02, 1.09298467e-03, 3.61344216e-05],\n",
       "       [3.36372142e-02, 1.13146218e-03, 3.80592358e-05],\n",
       "       [9.25633424e-02, 8.56797236e-03, 7.93080159e-04],\n",
       "       [2.75369313e-01, 7.58282583e-02, 2.08807754e-02],\n",
       "       [1.86576499e-01, 3.48107900e-02, 6.49487534e-03],\n",
       "       [8.48144121e-02, 7.19348450e-03, 6.10111159e-04],\n",
       "       [3.74363965e-01, 1.40148378e-01, 5.24665025e-02],\n",
       "       [1.94585372e-02, 3.78634668e-04, 7.36767676e-06],\n",
       "       [8.53484957e-02, 7.28436571e-03, 6.21709655e-04],\n",
       "       [1.34221000e-01, 1.80152769e-02, 2.41802848e-03],\n",
       "       [2.07999831e-01, 4.32639295e-02, 8.99889000e-03],\n",
       "       [6.16501290e-01, 3.80073841e-01, 2.34316013e-01],\n",
       "       [3.98696193e-02, 1.58958654e-03, 6.33762102e-05],\n",
       "       [2.64437058e-01, 6.99269575e-02, 1.84912789e-02],\n",
       "       [3.50955021e-01, 1.23169427e-01, 4.32269289e-02],\n",
       "       [2.15764084e-03, 4.65541400e-06, 1.00447114e-08],\n",
       "       [3.69110747e-01, 1.36242744e-01, 5.02886609e-02],\n",
       "       [2.90784768e-02, 8.45557811e-04, 2.45875331e-05],\n",
       "       [4.23170975e-03, 1.79073674e-05, 7.57787813e-08],\n",
       "       [9.00383763e-01, 8.10690920e-01, 7.29932941e-01],\n",
       "       [9.32445223e-01, 8.69454094e-01, 8.10718317e-01],\n",
       "       [6.53506272e-01, 4.27070448e-01, 2.79093217e-01],\n",
       "       [9.27895484e-02, 8.60990029e-03, 7.98908759e-04],\n",
       "       [9.53984185e-03, 9.10085826e-05, 8.68207485e-07],\n",
       "       [4.68174835e-01, 2.19187676e-01, 1.02618154e-01],\n",
       "       [1.93734218e-01, 3.75329471e-02, 7.27141615e-03],\n",
       "       [1.48933308e-02, 2.21811301e-04, 3.30350908e-06],\n",
       "       [2.45200172e-01, 6.01231245e-02, 1.47422005e-02],\n",
       "       [1.18257038e-03, 1.39847271e-06, 1.65379242e-09],\n",
       "       [8.26863594e-01, 6.83703402e-01, 5.65329452e-01],\n",
       "       [6.69670789e-02, 4.48458965e-03, 3.00319869e-04],\n",
       "       [4.38935777e-01, 1.92664617e-01, 8.45673932e-02],\n",
       "       [9.71637950e-02, 9.44080305e-03, 9.17304252e-04],\n",
       "       [2.70470747e-01, 7.31544248e-02, 1.97861319e-02],\n",
       "       [2.98892130e-01, 8.93365051e-02, 2.67019783e-02],\n",
       "       [3.41711697e-02, 1.16766884e-03, 3.99006101e-05]])"
      ]
     },
     "metadata": {},
     "execution_count": 17
    }
   ],
   "source": [
    "poly(X, 3) # renvoie X pour d=0 (c'est voulu puisque d >= 1 anyway)"
   ]
  },
  {
   "cell_type": "markdown",
   "metadata": {},
   "source": [
    "**Question** Construire une liste avec tous les scores de la régression pour 20 représentations des données comprenant tous les monômes de 1 à 20 : (le $i^e$ résultat contient tous les monômes de 1 à $i$)."
   ]
  },
  {
   "cell_type": "code",
   "execution_count": 18,
   "metadata": {},
   "outputs": [
    {
     "output_type": "execute_result",
     "data": {
      "text/plain": [
       "[1.0,\n",
       " 0.9435173299101411,\n",
       " 0.8501767633704094,\n",
       " 0.7621598783946377,\n",
       " 0.6867041644901961,\n",
       " 0.6233246057242166,\n",
       " 0.570092095876551,\n",
       " 0.525096664271417,\n",
       " 0.4867484236681021,\n",
       " 0.4537868233554093]"
      ]
     },
     "metadata": {},
     "execution_count": 18
    }
   ],
   "source": [
    "donnees = np.arange(1, 20+1)\n",
    "scores = []\n",
    "\n",
    "i = 1\n",
    "while i <= 10:\n",
    "    donnees_a_obtenir = donnees**i\n",
    "    lr = LinearRegression().fit(donnees[:, None], donnees_a_obtenir[:, None])\n",
    "    new_score = lr.score(donnees[:, None], donnees_a_obtenir[:, None])\n",
    "    scores.append(new_score)\n",
    "    i += 1\n",
    "\n",
    "scores"
   ]
  },
  {
   "cell_type": "markdown",
   "metadata": {},
   "source": [
    "**Question** Que constatez-vous. Pouvez-vous expliquer ce qui se produit ? Pourquoi les résultats se dégradent-ils quand la représentation des données est de plus en plus riche ?  "
   ]
  },
  {
   "cell_type": "markdown",
   "metadata": {},
   "source": [
    "***Ma réponse :*** Je ne suis pas sûr d'avoir bien compris la question précédente. Cependant, je dirais tout de même car plus une réprésentation de données est riche, plus il devient difficile pour le modèle de régression de satisfaire toutes les contraintes"
   ]
  },
  {
   "cell_type": "markdown",
   "metadata": {},
   "source": [
    "On va refaire cela avec les outils de scikit-learn.\n",
    "\n",
    "**Question** importez `PolynomialFeatures` de `sklearn.preprocessing`. Utilisez cela pour créer une représentation de X avec le degré 3. Cela donne quelque chose comme : \n",
    "\n",
    "     array([[1.00000000e+00, 1.73907352e-01, 3.02437672e-02, 5.25961348e-03],\n",
    "       [1.00000000e+00, 5.18867376e-01, 2.69223354e-01, 1.39691215e-01],\n",
    "       [1.00000000e+00, 1.30815988e-08, 1.71128228e-16, 2.23863083e-24],\n",
    "       [1.00000000e+00, 9.14049845e-02, 8.35487119e-03, 7.63676871e-04],\n",
    "       [1.00000000e+00, 2.15372915e-02, 4.63854925e-04, 9.99017872e-06], ..."
   ]
  },
  {
   "cell_type": "code",
   "execution_count": 19,
   "metadata": {},
   "outputs": [
    {
     "output_type": "execute_result",
     "data": {
      "text/plain": [
       "array([[1.00000000e+00, 1.40280301e-01, 1.96785627e-02, 2.76051470e-03],\n",
       "       [1.00000000e+00, 9.03857692e-01, 8.16958728e-01, 7.38414431e-01],\n",
       "       [1.00000000e+00, 5.35815131e-01, 2.87097854e-01, 1.53831374e-01],\n",
       "       [1.00000000e+00, 3.58391981e-01, 1.28444812e-01, 4.60335905e-02],\n",
       "       [1.00000000e+00, 2.43418162e-02, 5.92524014e-04, 1.44231106e-05],\n",
       "       [1.00000000e+00, 2.43342904e-02, 5.92157688e-04, 1.44097371e-05],\n",
       "       [1.00000000e+00, 3.37370600e-03, 1.13818922e-05, 3.83991580e-08],\n",
       "       [1.00000000e+00, 7.50261116e-01, 5.62891741e-01, 4.22315786e-01],\n",
       "       [1.00000000e+00, 3.61339257e-01, 1.30566059e-01, 4.71786428e-02],\n",
       "       [1.00000000e+00, 5.01366775e-01, 2.51368644e-01, 1.26027886e-01],\n",
       "       [1.00000000e+00, 4.23721405e-04, 1.79539829e-07, 7.60748688e-11],\n",
       "       [1.00000000e+00, 9.40725121e-01, 8.84963754e-01, 8.32507635e-01],\n",
       "       [1.00000000e+00, 6.92960750e-01, 4.80194601e-01, 3.32756011e-01],\n",
       "       [1.00000000e+00, 4.50878979e-02, 2.03291854e-03, 9.16600236e-05],\n",
       "       [1.00000000e+00, 3.30603187e-02, 1.09298467e-03, 3.61344216e-05],\n",
       "       [1.00000000e+00, 3.36372142e-02, 1.13146218e-03, 3.80592358e-05],\n",
       "       [1.00000000e+00, 9.25633424e-02, 8.56797236e-03, 7.93080159e-04],\n",
       "       [1.00000000e+00, 2.75369313e-01, 7.58282583e-02, 2.08807754e-02],\n",
       "       [1.00000000e+00, 1.86576499e-01, 3.48107900e-02, 6.49487534e-03],\n",
       "       [1.00000000e+00, 8.48144121e-02, 7.19348450e-03, 6.10111159e-04],\n",
       "       [1.00000000e+00, 3.74363965e-01, 1.40148378e-01, 5.24665025e-02],\n",
       "       [1.00000000e+00, 1.94585372e-02, 3.78634668e-04, 7.36767676e-06],\n",
       "       [1.00000000e+00, 8.53484957e-02, 7.28436571e-03, 6.21709655e-04],\n",
       "       [1.00000000e+00, 1.34221000e-01, 1.80152769e-02, 2.41802848e-03],\n",
       "       [1.00000000e+00, 2.07999831e-01, 4.32639295e-02, 8.99889000e-03],\n",
       "       [1.00000000e+00, 6.16501290e-01, 3.80073841e-01, 2.34316013e-01],\n",
       "       [1.00000000e+00, 3.98696193e-02, 1.58958654e-03, 6.33762102e-05],\n",
       "       [1.00000000e+00, 2.64437058e-01, 6.99269575e-02, 1.84912789e-02],\n",
       "       [1.00000000e+00, 3.50955021e-01, 1.23169427e-01, 4.32269289e-02],\n",
       "       [1.00000000e+00, 2.15764084e-03, 4.65541400e-06, 1.00447114e-08],\n",
       "       [1.00000000e+00, 3.69110747e-01, 1.36242744e-01, 5.02886609e-02],\n",
       "       [1.00000000e+00, 2.90784768e-02, 8.45557811e-04, 2.45875331e-05],\n",
       "       [1.00000000e+00, 4.23170975e-03, 1.79073674e-05, 7.57787813e-08],\n",
       "       [1.00000000e+00, 9.00383763e-01, 8.10690920e-01, 7.29932941e-01],\n",
       "       [1.00000000e+00, 9.32445223e-01, 8.69454094e-01, 8.10718317e-01],\n",
       "       [1.00000000e+00, 6.53506272e-01, 4.27070448e-01, 2.79093217e-01],\n",
       "       [1.00000000e+00, 9.27895484e-02, 8.60990029e-03, 7.98908759e-04],\n",
       "       [1.00000000e+00, 9.53984185e-03, 9.10085826e-05, 8.68207485e-07],\n",
       "       [1.00000000e+00, 4.68174835e-01, 2.19187676e-01, 1.02618154e-01],\n",
       "       [1.00000000e+00, 1.93734218e-01, 3.75329471e-02, 7.27141615e-03],\n",
       "       [1.00000000e+00, 1.48933308e-02, 2.21811301e-04, 3.30350908e-06],\n",
       "       [1.00000000e+00, 2.45200172e-01, 6.01231245e-02, 1.47422005e-02],\n",
       "       [1.00000000e+00, 1.18257038e-03, 1.39847271e-06, 1.65379242e-09],\n",
       "       [1.00000000e+00, 8.26863594e-01, 6.83703402e-01, 5.65329452e-01],\n",
       "       [1.00000000e+00, 6.69670789e-02, 4.48458965e-03, 3.00319869e-04],\n",
       "       [1.00000000e+00, 4.38935777e-01, 1.92664617e-01, 8.45673932e-02],\n",
       "       [1.00000000e+00, 9.71637950e-02, 9.44080305e-03, 9.17304252e-04],\n",
       "       [1.00000000e+00, 2.70470747e-01, 7.31544248e-02, 1.97861319e-02],\n",
       "       [1.00000000e+00, 2.98892130e-01, 8.93365051e-02, 2.67019783e-02],\n",
       "       [1.00000000e+00, 3.41711697e-02, 1.16766884e-03, 3.99006101e-05]])"
      ]
     },
     "metadata": {},
     "execution_count": 19
    }
   ],
   "source": [
    "from sklearn.preprocessing import PolynomialFeatures\n",
    "popol = PolynomialFeatures(3).fit_transform(X[:, None])\n",
    "popol"
   ]
  },
  {
   "cell_type": "markdown",
   "metadata": {},
   "source": [
    "*Aide* En python, on peut donner en argument un dictionnaire de paramètres "
   ]
  },
  {
   "cell_type": "code",
   "execution_count": 20,
   "metadata": {},
   "outputs": [
    {
     "output_type": "stream",
     "name": "stdout",
     "text": [
      "[5.99342831 4.7234714  6.29537708 8.04605971 4.53169325]\n[False, True, True, False, True, False, False, True, False, False]\n[True, True, True, True, True, True, True, True, True, True]\n[True, False, True, False, False, False, True, True, False, True]\n[True, True, True, True, True, True, True, True, True, True]\n"
     ]
    }
   ],
   "source": [
    "dic = {'loc':5, 'scale':2}\n",
    "print(np.random.normal(size=5, **dic))\n",
    "\n",
    "def f(x, **kwargs):\n",
    "    return [i>0 for i in np.random.normal(size=x, **kwargs)]\n",
    "\n",
    "print(f(10))\n",
    "print(f(10, loc=20))\n",
    "print(f(10, loc=20, scale=100))\n",
    "dic = {'loc':5, 'scale':2}\n",
    "print(f(10,**dic))"
   ]
  },
  {
   "cell_type": "markdown",
   "metadata": {},
   "source": [
    "**Question** Il existe une fonction `make_pipeline` dans `sklearn` qui permet d'enchaîner des opérations très simplement. Définissez une nouvelle fonction `ma_regression` qui prend en argument un degré et une liste d'autres arguments destinés à la fonction `LinearRegression` et compose un changement de représentation polynomial et une régression."
   ]
  },
  {
   "cell_type": "code",
   "execution_count": 21,
   "metadata": {},
   "outputs": [],
   "source": [
    "from sklearn.pipeline import make_pipeline\n",
    "\n",
    "def ma_regression(d, **kwargs):\n",
    "    X_poly = PolynomialFeatures(d).fit_transform(X_train[:, None])\n",
    "    lrx = LinearRegression().fit(X_train[:, None], X_poly)\n",
    "    return X[:, None]"
   ]
  },
  {
   "cell_type": "markdown",
   "metadata": {},
   "source": [
    "**Question**  Utilisez cette fonction pour estimer l'erreur d'une regression linéaire avec transformations polynomiales jusqu'au degré 3."
   ]
  },
  {
   "cell_type": "code",
   "execution_count": 22,
   "metadata": {},
   "outputs": [
    {
     "output_type": "error",
     "ename": "ValueError",
     "evalue": "y_true and y_pred have different number of output (4!=1)",
     "traceback": [
      "\u001b[0;31m---------------------------------------------------------------------------\u001b[0m",
      "\u001b[0;31mValueError\u001b[0m                                Traceback (most recent call last)",
      "\u001b[0;32m<ipython-input-22-abf7a81f738c>\u001b[0m in \u001b[0;36m<module>\u001b[0;34m\u001b[0m\n\u001b[1;32m      2\u001b[0m \u001b[0;34m\u001b[0m\u001b[0m\n\u001b[1;32m      3\u001b[0m \u001b[0mdic\u001b[0m \u001b[0;34m=\u001b[0m \u001b[0;34m{\u001b[0m\u001b[0;34m'X'\u001b[0m\u001b[0;34m:\u001b[0m\u001b[0mX_train\u001b[0m\u001b[0;34m,\u001b[0m \u001b[0;34m'y'\u001b[0m\u001b[0;34m:\u001b[0m\u001b[0my_train\u001b[0m\u001b[0;34m}\u001b[0m\u001b[0;34m\u001b[0m\u001b[0;34m\u001b[0m\u001b[0m\n\u001b[0;32m----> 4\u001b[0;31m \u001b[0mmean_squared_error\u001b[0m\u001b[0;34m(\u001b[0m\u001b[0mPolynomialFeatures\u001b[0m\u001b[0;34m(\u001b[0m\u001b[0;36m3\u001b[0m\u001b[0;34m)\u001b[0m\u001b[0;34m.\u001b[0m\u001b[0mfit_transform\u001b[0m\u001b[0;34m(\u001b[0m\u001b[0mX\u001b[0m\u001b[0;34m[\u001b[0m\u001b[0;34m:\u001b[0m\u001b[0;34m,\u001b[0m \u001b[0;32mNone\u001b[0m\u001b[0;34m]\u001b[0m\u001b[0;34m)\u001b[0m\u001b[0;34m,\u001b[0m \u001b[0mma_regression\u001b[0m\u001b[0;34m(\u001b[0m\u001b[0;36m3\u001b[0m\u001b[0;34m,\u001b[0m \u001b[0;34m**\u001b[0m\u001b[0mdic\u001b[0m\u001b[0;34m)\u001b[0m\u001b[0;34m)\u001b[0m \u001b[0;31m# quelques soucis à ce niveau-là, ou bien alors dans mon implem au-dessus (je soupçonne que c'est plus ma_regression() pour le coup)\u001b[0m\u001b[0;34m\u001b[0m\u001b[0;34m\u001b[0m\u001b[0m\n\u001b[0m",
      "\u001b[0;32m~/.local/lib/python3.8/site-packages/sklearn/utils/validation.py\u001b[0m in \u001b[0;36minner_f\u001b[0;34m(*args, **kwargs)\u001b[0m\n\u001b[1;32m     70\u001b[0m                           FutureWarning)\n\u001b[1;32m     71\u001b[0m         \u001b[0mkwargs\u001b[0m\u001b[0;34m.\u001b[0m\u001b[0mupdate\u001b[0m\u001b[0;34m(\u001b[0m\u001b[0;34m{\u001b[0m\u001b[0mk\u001b[0m\u001b[0;34m:\u001b[0m \u001b[0marg\u001b[0m \u001b[0;32mfor\u001b[0m \u001b[0mk\u001b[0m\u001b[0;34m,\u001b[0m \u001b[0marg\u001b[0m \u001b[0;32min\u001b[0m \u001b[0mzip\u001b[0m\u001b[0;34m(\u001b[0m\u001b[0msig\u001b[0m\u001b[0;34m.\u001b[0m\u001b[0mparameters\u001b[0m\u001b[0;34m,\u001b[0m \u001b[0margs\u001b[0m\u001b[0;34m)\u001b[0m\u001b[0;34m}\u001b[0m\u001b[0;34m)\u001b[0m\u001b[0;34m\u001b[0m\u001b[0;34m\u001b[0m\u001b[0m\n\u001b[0;32m---> 72\u001b[0;31m         \u001b[0;32mreturn\u001b[0m \u001b[0mf\u001b[0m\u001b[0;34m(\u001b[0m\u001b[0;34m**\u001b[0m\u001b[0mkwargs\u001b[0m\u001b[0;34m)\u001b[0m\u001b[0;34m\u001b[0m\u001b[0;34m\u001b[0m\u001b[0m\n\u001b[0m\u001b[1;32m     73\u001b[0m     \u001b[0;32mreturn\u001b[0m \u001b[0minner_f\u001b[0m\u001b[0;34m\u001b[0m\u001b[0;34m\u001b[0m\u001b[0m\n\u001b[1;32m     74\u001b[0m \u001b[0;34m\u001b[0m\u001b[0m\n",
      "\u001b[0;32m~/.local/lib/python3.8/site-packages/sklearn/metrics/_regression.py\u001b[0m in \u001b[0;36mmean_squared_error\u001b[0;34m(y_true, y_pred, sample_weight, multioutput, squared)\u001b[0m\n\u001b[1;32m    253\u001b[0m \u001b[0;34m\u001b[0m\u001b[0m\n\u001b[1;32m    254\u001b[0m     \"\"\"\n\u001b[0;32m--> 255\u001b[0;31m     y_type, y_true, y_pred, multioutput = _check_reg_targets(\n\u001b[0m\u001b[1;32m    256\u001b[0m         y_true, y_pred, multioutput)\n\u001b[1;32m    257\u001b[0m     \u001b[0mcheck_consistent_length\u001b[0m\u001b[0;34m(\u001b[0m\u001b[0my_true\u001b[0m\u001b[0;34m,\u001b[0m \u001b[0my_pred\u001b[0m\u001b[0;34m,\u001b[0m \u001b[0msample_weight\u001b[0m\u001b[0;34m)\u001b[0m\u001b[0;34m\u001b[0m\u001b[0;34m\u001b[0m\u001b[0m\n",
      "\u001b[0;32m~/.local/lib/python3.8/site-packages/sklearn/metrics/_regression.py\u001b[0m in \u001b[0;36m_check_reg_targets\u001b[0;34m(y_true, y_pred, multioutput, dtype)\u001b[0m\n\u001b[1;32m     93\u001b[0m \u001b[0;34m\u001b[0m\u001b[0m\n\u001b[1;32m     94\u001b[0m     \u001b[0;32mif\u001b[0m \u001b[0my_true\u001b[0m\u001b[0;34m.\u001b[0m\u001b[0mshape\u001b[0m\u001b[0;34m[\u001b[0m\u001b[0;36m1\u001b[0m\u001b[0;34m]\u001b[0m \u001b[0;34m!=\u001b[0m \u001b[0my_pred\u001b[0m\u001b[0;34m.\u001b[0m\u001b[0mshape\u001b[0m\u001b[0;34m[\u001b[0m\u001b[0;36m1\u001b[0m\u001b[0;34m]\u001b[0m\u001b[0;34m:\u001b[0m\u001b[0;34m\u001b[0m\u001b[0;34m\u001b[0m\u001b[0m\n\u001b[0;32m---> 95\u001b[0;31m         raise ValueError(\"y_true and y_pred have different number of output \"\n\u001b[0m\u001b[1;32m     96\u001b[0m                          \"({0}!={1})\".format(y_true.shape[1], y_pred.shape[1]))\n\u001b[1;32m     97\u001b[0m \u001b[0;34m\u001b[0m\u001b[0m\n",
      "\u001b[0;31mValueError\u001b[0m: y_true and y_pred have different number of output (4!=1)"
     ]
    }
   ],
   "source": [
    "from sklearn.metrics import mean_squared_error\n",
    "\n",
    "dic = {'X':X_train, 'y':y_train}\n",
    "mean_squared_error(PolynomialFeatures(3).fit_transform(X[:, None]), ma_regression(3, **dic)) # quelques soucis à ce niveau-là, ou bien alors dans mon implem au-dessus (je soupçonne que c'est plus ma_regression() pour le coup)"
   ]
  },
  {
   "cell_type": "markdown",
   "metadata": {},
   "source": [
    "## Courbe d'apprentissage en fonction du degré"
   ]
  },
  {
   "cell_type": "markdown",
   "metadata": {},
   "source": [
    "**Question** En utilisant `validation_curve`, réaliser une validation croisée 5 fois sur `X_train` en appliquant tous les changements de représentation avec un degré entre 1 et `max_degree` que nous fixons à 15. Pour cela, regardez l'aide de `validation_curve` dans `sklearn.model_selection`. Utilisez bien-sûr `ma_regression`. Cela donne des scores de validation comme cela :\n",
    "\n",
    "     [[ 0.49293082  0.66030384  0.65039394  0.69193837  0.6167657 ]\n",
    "      [ 0.57202662  0.66235604  0.60475979  0.73104306  0.61910942]\n",
    "      ...\n",
    "      [ 0.87350381  0.93056784 -0.56590723  0.87945086  0.87330041]]\n",
    "\n",
    "*Aide* : Dans les pipelines, on accède aux paramètres des éléments du pipeline avec la syntaxe `element__parametre`. Par défaut le nom de l'élément est le nom de la classe en minuscules."
   ]
  },
  {
   "cell_type": "code",
   "execution_count": 119,
   "metadata": {},
   "outputs": [],
   "source": [
    "from sklearn.model_selection import validation_curve"
   ]
  },
  {
   "cell_type": "code",
   "execution_count": 153,
   "metadata": {},
   "outputs": [
    {
     "output_type": "error",
     "ename": "ValueError",
     "evalue": "Invalid parameter X_train for estimator LinearRegression(). Check the list of available parameters with `estimator.get_params().keys()`.",
     "traceback": [
      "\u001b[0;31m---------------------------------------------------------------------------\u001b[0m",
      "\u001b[0;31mValueError\u001b[0m                                Traceback (most recent call last)",
      "\u001b[0;32m<ipython-input-153-995f33a1bd6e>\u001b[0m in \u001b[0;36m<module>\u001b[0;34m\u001b[0m\n\u001b[1;32m      1\u001b[0m \u001b[0mmax_degree\u001b[0m \u001b[0;34m=\u001b[0m \u001b[0;36m15\u001b[0m\u001b[0;34m\u001b[0m\u001b[0;34m\u001b[0m\u001b[0m\n\u001b[0;32m----> 2\u001b[0;31m \u001b[0mtrain_scores\u001b[0m\u001b[0;34m,\u001b[0m \u001b[0mvalid_scores\u001b[0m \u001b[0;34m=\u001b[0m \u001b[0mvalidation_curve\u001b[0m\u001b[0;34m(\u001b[0m\u001b[0mLinearRegression\u001b[0m\u001b[0;34m(\u001b[0m\u001b[0;34m)\u001b[0m\u001b[0;34m,\u001b[0m \u001b[0mX_train\u001b[0m\u001b[0;34m,\u001b[0m \u001b[0my_train\u001b[0m\u001b[0;34m,\u001b[0m \u001b[0;34m'X_train'\u001b[0m\u001b[0;34m,\u001b[0m \u001b[0mnp\u001b[0m\u001b[0;34m.\u001b[0m\u001b[0mlogspace\u001b[0m\u001b[0;34m(\u001b[0m\u001b[0;36m1\u001b[0m\u001b[0;34m,\u001b[0m \u001b[0mmax_degree\u001b[0m\u001b[0;34m+\u001b[0m\u001b[0;36m1\u001b[0m\u001b[0;34m,\u001b[0m \u001b[0;36m11\u001b[0m\u001b[0;34m)\u001b[0m\u001b[0;34m,\u001b[0m \u001b[0mcv\u001b[0m\u001b[0;34m=\u001b[0m\u001b[0;36m5\u001b[0m\u001b[0;34m)\u001b[0m \u001b[0;31m# X_train n'est pas un paramètre valide somehow\u001b[0m\u001b[0;34m\u001b[0m\u001b[0;34m\u001b[0m\u001b[0m\n\u001b[0m\u001b[1;32m      3\u001b[0m \u001b[0;31m# validation_curve(ma_regression(), X_train, y_train, 'd', np.logspace(1, max_degree+1, 11), cv=5)\u001b[0m\u001b[0;34m\u001b[0m\u001b[0;34m\u001b[0m\u001b[0;34m\u001b[0m\u001b[0m\n",
      "\u001b[0;32m~/.local/lib/python3.8/site-packages/sklearn/utils/validation.py\u001b[0m in \u001b[0;36minner_f\u001b[0;34m(*args, **kwargs)\u001b[0m\n\u001b[1;32m     70\u001b[0m                           FutureWarning)\n\u001b[1;32m     71\u001b[0m         \u001b[0mkwargs\u001b[0m\u001b[0;34m.\u001b[0m\u001b[0mupdate\u001b[0m\u001b[0;34m(\u001b[0m\u001b[0;34m{\u001b[0m\u001b[0mk\u001b[0m\u001b[0;34m:\u001b[0m \u001b[0marg\u001b[0m \u001b[0;32mfor\u001b[0m \u001b[0mk\u001b[0m\u001b[0;34m,\u001b[0m \u001b[0marg\u001b[0m \u001b[0;32min\u001b[0m \u001b[0mzip\u001b[0m\u001b[0;34m(\u001b[0m\u001b[0msig\u001b[0m\u001b[0;34m.\u001b[0m\u001b[0mparameters\u001b[0m\u001b[0;34m,\u001b[0m \u001b[0margs\u001b[0m\u001b[0;34m)\u001b[0m\u001b[0;34m}\u001b[0m\u001b[0;34m)\u001b[0m\u001b[0;34m\u001b[0m\u001b[0;34m\u001b[0m\u001b[0m\n\u001b[0;32m---> 72\u001b[0;31m         \u001b[0;32mreturn\u001b[0m \u001b[0mf\u001b[0m\u001b[0;34m(\u001b[0m\u001b[0;34m**\u001b[0m\u001b[0mkwargs\u001b[0m\u001b[0;34m)\u001b[0m\u001b[0;34m\u001b[0m\u001b[0;34m\u001b[0m\u001b[0m\n\u001b[0m\u001b[1;32m     73\u001b[0m     \u001b[0;32mreturn\u001b[0m \u001b[0minner_f\u001b[0m\u001b[0;34m\u001b[0m\u001b[0;34m\u001b[0m\u001b[0m\n\u001b[1;32m     74\u001b[0m \u001b[0;34m\u001b[0m\u001b[0m\n",
      "\u001b[0;32m~/.local/lib/python3.8/site-packages/sklearn/model_selection/_validation.py\u001b[0m in \u001b[0;36mvalidation_curve\u001b[0;34m(estimator, X, y, param_name, param_range, groups, cv, scoring, n_jobs, pre_dispatch, verbose, error_score)\u001b[0m\n\u001b[1;32m   1495\u001b[0m     parallel = Parallel(n_jobs=n_jobs, pre_dispatch=pre_dispatch,\n\u001b[1;32m   1496\u001b[0m                         verbose=verbose)\n\u001b[0;32m-> 1497\u001b[0;31m     out = parallel(delayed(_fit_and_score)(\n\u001b[0m\u001b[1;32m   1498\u001b[0m         \u001b[0mclone\u001b[0m\u001b[0;34m(\u001b[0m\u001b[0mestimator\u001b[0m\u001b[0;34m)\u001b[0m\u001b[0;34m,\u001b[0m \u001b[0mX\u001b[0m\u001b[0;34m,\u001b[0m \u001b[0my\u001b[0m\u001b[0;34m,\u001b[0m \u001b[0mscorer\u001b[0m\u001b[0;34m,\u001b[0m \u001b[0mtrain\u001b[0m\u001b[0;34m,\u001b[0m \u001b[0mtest\u001b[0m\u001b[0;34m,\u001b[0m \u001b[0mverbose\u001b[0m\u001b[0;34m,\u001b[0m\u001b[0;34m\u001b[0m\u001b[0;34m\u001b[0m\u001b[0m\n\u001b[1;32m   1499\u001b[0m         \u001b[0mparameters\u001b[0m\u001b[0;34m=\u001b[0m\u001b[0;34m{\u001b[0m\u001b[0mparam_name\u001b[0m\u001b[0;34m:\u001b[0m \u001b[0mv\u001b[0m\u001b[0;34m}\u001b[0m\u001b[0;34m,\u001b[0m \u001b[0mfit_params\u001b[0m\u001b[0;34m=\u001b[0m\u001b[0;32mNone\u001b[0m\u001b[0;34m,\u001b[0m \u001b[0mreturn_train_score\u001b[0m\u001b[0;34m=\u001b[0m\u001b[0;32mTrue\u001b[0m\u001b[0;34m,\u001b[0m\u001b[0;34m\u001b[0m\u001b[0;34m\u001b[0m\u001b[0m\n",
      "\u001b[0;32m~/.local/lib/python3.8/site-packages/joblib/parallel.py\u001b[0m in \u001b[0;36m__call__\u001b[0;34m(self, iterable)\u001b[0m\n\u001b[1;32m   1027\u001b[0m             \u001b[0;31m# remaining jobs.\u001b[0m\u001b[0;34m\u001b[0m\u001b[0;34m\u001b[0m\u001b[0;34m\u001b[0m\u001b[0m\n\u001b[1;32m   1028\u001b[0m             \u001b[0mself\u001b[0m\u001b[0;34m.\u001b[0m\u001b[0m_iterating\u001b[0m \u001b[0;34m=\u001b[0m \u001b[0;32mFalse\u001b[0m\u001b[0;34m\u001b[0m\u001b[0;34m\u001b[0m\u001b[0m\n\u001b[0;32m-> 1029\u001b[0;31m             \u001b[0;32mif\u001b[0m \u001b[0mself\u001b[0m\u001b[0;34m.\u001b[0m\u001b[0mdispatch_one_batch\u001b[0m\u001b[0;34m(\u001b[0m\u001b[0miterator\u001b[0m\u001b[0;34m)\u001b[0m\u001b[0;34m:\u001b[0m\u001b[0;34m\u001b[0m\u001b[0;34m\u001b[0m\u001b[0m\n\u001b[0m\u001b[1;32m   1030\u001b[0m                 \u001b[0mself\u001b[0m\u001b[0;34m.\u001b[0m\u001b[0m_iterating\u001b[0m \u001b[0;34m=\u001b[0m \u001b[0mself\u001b[0m\u001b[0;34m.\u001b[0m\u001b[0m_original_iterator\u001b[0m \u001b[0;32mis\u001b[0m \u001b[0;32mnot\u001b[0m \u001b[0;32mNone\u001b[0m\u001b[0;34m\u001b[0m\u001b[0;34m\u001b[0m\u001b[0m\n\u001b[1;32m   1031\u001b[0m \u001b[0;34m\u001b[0m\u001b[0m\n",
      "\u001b[0;32m~/.local/lib/python3.8/site-packages/joblib/parallel.py\u001b[0m in \u001b[0;36mdispatch_one_batch\u001b[0;34m(self, iterator)\u001b[0m\n\u001b[1;32m    845\u001b[0m                 \u001b[0;32mreturn\u001b[0m \u001b[0;32mFalse\u001b[0m\u001b[0;34m\u001b[0m\u001b[0;34m\u001b[0m\u001b[0m\n\u001b[1;32m    846\u001b[0m             \u001b[0;32melse\u001b[0m\u001b[0;34m:\u001b[0m\u001b[0;34m\u001b[0m\u001b[0;34m\u001b[0m\u001b[0m\n\u001b[0;32m--> 847\u001b[0;31m                 \u001b[0mself\u001b[0m\u001b[0;34m.\u001b[0m\u001b[0m_dispatch\u001b[0m\u001b[0;34m(\u001b[0m\u001b[0mtasks\u001b[0m\u001b[0;34m)\u001b[0m\u001b[0;34m\u001b[0m\u001b[0;34m\u001b[0m\u001b[0m\n\u001b[0m\u001b[1;32m    848\u001b[0m                 \u001b[0;32mreturn\u001b[0m \u001b[0;32mTrue\u001b[0m\u001b[0;34m\u001b[0m\u001b[0;34m\u001b[0m\u001b[0m\n\u001b[1;32m    849\u001b[0m \u001b[0;34m\u001b[0m\u001b[0m\n",
      "\u001b[0;32m~/.local/lib/python3.8/site-packages/joblib/parallel.py\u001b[0m in \u001b[0;36m_dispatch\u001b[0;34m(self, batch)\u001b[0m\n\u001b[1;32m    763\u001b[0m         \u001b[0;32mwith\u001b[0m \u001b[0mself\u001b[0m\u001b[0;34m.\u001b[0m\u001b[0m_lock\u001b[0m\u001b[0;34m:\u001b[0m\u001b[0;34m\u001b[0m\u001b[0;34m\u001b[0m\u001b[0m\n\u001b[1;32m    764\u001b[0m             \u001b[0mjob_idx\u001b[0m \u001b[0;34m=\u001b[0m \u001b[0mlen\u001b[0m\u001b[0;34m(\u001b[0m\u001b[0mself\u001b[0m\u001b[0;34m.\u001b[0m\u001b[0m_jobs\u001b[0m\u001b[0;34m)\u001b[0m\u001b[0;34m\u001b[0m\u001b[0;34m\u001b[0m\u001b[0m\n\u001b[0;32m--> 765\u001b[0;31m             \u001b[0mjob\u001b[0m \u001b[0;34m=\u001b[0m \u001b[0mself\u001b[0m\u001b[0;34m.\u001b[0m\u001b[0m_backend\u001b[0m\u001b[0;34m.\u001b[0m\u001b[0mapply_async\u001b[0m\u001b[0;34m(\u001b[0m\u001b[0mbatch\u001b[0m\u001b[0;34m,\u001b[0m \u001b[0mcallback\u001b[0m\u001b[0;34m=\u001b[0m\u001b[0mcb\u001b[0m\u001b[0;34m)\u001b[0m\u001b[0;34m\u001b[0m\u001b[0;34m\u001b[0m\u001b[0m\n\u001b[0m\u001b[1;32m    766\u001b[0m             \u001b[0;31m# A job can complete so quickly than its callback is\u001b[0m\u001b[0;34m\u001b[0m\u001b[0;34m\u001b[0m\u001b[0;34m\u001b[0m\u001b[0m\n\u001b[1;32m    767\u001b[0m             \u001b[0;31m# called before we get here, causing self._jobs to\u001b[0m\u001b[0;34m\u001b[0m\u001b[0;34m\u001b[0m\u001b[0;34m\u001b[0m\u001b[0m\n",
      "\u001b[0;32m~/.local/lib/python3.8/site-packages/joblib/_parallel_backends.py\u001b[0m in \u001b[0;36mapply_async\u001b[0;34m(self, func, callback)\u001b[0m\n\u001b[1;32m    206\u001b[0m     \u001b[0;32mdef\u001b[0m \u001b[0mapply_async\u001b[0m\u001b[0;34m(\u001b[0m\u001b[0mself\u001b[0m\u001b[0;34m,\u001b[0m \u001b[0mfunc\u001b[0m\u001b[0;34m,\u001b[0m \u001b[0mcallback\u001b[0m\u001b[0;34m=\u001b[0m\u001b[0;32mNone\u001b[0m\u001b[0;34m)\u001b[0m\u001b[0;34m:\u001b[0m\u001b[0;34m\u001b[0m\u001b[0;34m\u001b[0m\u001b[0m\n\u001b[1;32m    207\u001b[0m         \u001b[0;34m\"\"\"Schedule a func to be run\"\"\"\u001b[0m\u001b[0;34m\u001b[0m\u001b[0;34m\u001b[0m\u001b[0m\n\u001b[0;32m--> 208\u001b[0;31m         \u001b[0mresult\u001b[0m \u001b[0;34m=\u001b[0m \u001b[0mImmediateResult\u001b[0m\u001b[0;34m(\u001b[0m\u001b[0mfunc\u001b[0m\u001b[0;34m)\u001b[0m\u001b[0;34m\u001b[0m\u001b[0;34m\u001b[0m\u001b[0m\n\u001b[0m\u001b[1;32m    209\u001b[0m         \u001b[0;32mif\u001b[0m \u001b[0mcallback\u001b[0m\u001b[0;34m:\u001b[0m\u001b[0;34m\u001b[0m\u001b[0;34m\u001b[0m\u001b[0m\n\u001b[1;32m    210\u001b[0m             \u001b[0mcallback\u001b[0m\u001b[0;34m(\u001b[0m\u001b[0mresult\u001b[0m\u001b[0;34m)\u001b[0m\u001b[0;34m\u001b[0m\u001b[0;34m\u001b[0m\u001b[0m\n",
      "\u001b[0;32m~/.local/lib/python3.8/site-packages/joblib/_parallel_backends.py\u001b[0m in \u001b[0;36m__init__\u001b[0;34m(self, batch)\u001b[0m\n\u001b[1;32m    570\u001b[0m         \u001b[0;31m# Don't delay the application, to avoid keeping the input\u001b[0m\u001b[0;34m\u001b[0m\u001b[0;34m\u001b[0m\u001b[0;34m\u001b[0m\u001b[0m\n\u001b[1;32m    571\u001b[0m         \u001b[0;31m# arguments in memory\u001b[0m\u001b[0;34m\u001b[0m\u001b[0;34m\u001b[0m\u001b[0;34m\u001b[0m\u001b[0m\n\u001b[0;32m--> 572\u001b[0;31m         \u001b[0mself\u001b[0m\u001b[0;34m.\u001b[0m\u001b[0mresults\u001b[0m \u001b[0;34m=\u001b[0m \u001b[0mbatch\u001b[0m\u001b[0;34m(\u001b[0m\u001b[0;34m)\u001b[0m\u001b[0;34m\u001b[0m\u001b[0;34m\u001b[0m\u001b[0m\n\u001b[0m\u001b[1;32m    573\u001b[0m \u001b[0;34m\u001b[0m\u001b[0m\n\u001b[1;32m    574\u001b[0m     \u001b[0;32mdef\u001b[0m \u001b[0mget\u001b[0m\u001b[0;34m(\u001b[0m\u001b[0mself\u001b[0m\u001b[0;34m)\u001b[0m\u001b[0;34m:\u001b[0m\u001b[0;34m\u001b[0m\u001b[0;34m\u001b[0m\u001b[0m\n",
      "\u001b[0;32m~/.local/lib/python3.8/site-packages/joblib/parallel.py\u001b[0m in \u001b[0;36m__call__\u001b[0;34m(self)\u001b[0m\n\u001b[1;32m    250\u001b[0m         \u001b[0;31m# change the default number of processes to -1\u001b[0m\u001b[0;34m\u001b[0m\u001b[0;34m\u001b[0m\u001b[0;34m\u001b[0m\u001b[0m\n\u001b[1;32m    251\u001b[0m         \u001b[0;32mwith\u001b[0m \u001b[0mparallel_backend\u001b[0m\u001b[0;34m(\u001b[0m\u001b[0mself\u001b[0m\u001b[0;34m.\u001b[0m\u001b[0m_backend\u001b[0m\u001b[0;34m,\u001b[0m \u001b[0mn_jobs\u001b[0m\u001b[0;34m=\u001b[0m\u001b[0mself\u001b[0m\u001b[0;34m.\u001b[0m\u001b[0m_n_jobs\u001b[0m\u001b[0;34m)\u001b[0m\u001b[0;34m:\u001b[0m\u001b[0;34m\u001b[0m\u001b[0;34m\u001b[0m\u001b[0m\n\u001b[0;32m--> 252\u001b[0;31m             return [func(*args, **kwargs)\n\u001b[0m\u001b[1;32m    253\u001b[0m                     for func, args, kwargs in self.items]\n\u001b[1;32m    254\u001b[0m \u001b[0;34m\u001b[0m\u001b[0m\n",
      "\u001b[0;32m~/.local/lib/python3.8/site-packages/joblib/parallel.py\u001b[0m in \u001b[0;36m<listcomp>\u001b[0;34m(.0)\u001b[0m\n\u001b[1;32m    250\u001b[0m         \u001b[0;31m# change the default number of processes to -1\u001b[0m\u001b[0;34m\u001b[0m\u001b[0;34m\u001b[0m\u001b[0;34m\u001b[0m\u001b[0m\n\u001b[1;32m    251\u001b[0m         \u001b[0;32mwith\u001b[0m \u001b[0mparallel_backend\u001b[0m\u001b[0;34m(\u001b[0m\u001b[0mself\u001b[0m\u001b[0;34m.\u001b[0m\u001b[0m_backend\u001b[0m\u001b[0;34m,\u001b[0m \u001b[0mn_jobs\u001b[0m\u001b[0;34m=\u001b[0m\u001b[0mself\u001b[0m\u001b[0;34m.\u001b[0m\u001b[0m_n_jobs\u001b[0m\u001b[0;34m)\u001b[0m\u001b[0;34m:\u001b[0m\u001b[0;34m\u001b[0m\u001b[0;34m\u001b[0m\u001b[0m\n\u001b[0;32m--> 252\u001b[0;31m             return [func(*args, **kwargs)\n\u001b[0m\u001b[1;32m    253\u001b[0m                     for func, args, kwargs in self.items]\n\u001b[1;32m    254\u001b[0m \u001b[0;34m\u001b[0m\u001b[0m\n",
      "\u001b[0;32m~/.local/lib/python3.8/site-packages/sklearn/model_selection/_validation.py\u001b[0m in \u001b[0;36m_fit_and_score\u001b[0;34m(estimator, X, y, scorer, train, test, verbose, parameters, fit_params, return_train_score, return_parameters, return_n_test_samples, return_times, return_estimator, error_score)\u001b[0m\n\u001b[1;32m    518\u001b[0m             \u001b[0mcloned_parameters\u001b[0m\u001b[0;34m[\u001b[0m\u001b[0mk\u001b[0m\u001b[0;34m]\u001b[0m \u001b[0;34m=\u001b[0m \u001b[0mclone\u001b[0m\u001b[0;34m(\u001b[0m\u001b[0mv\u001b[0m\u001b[0;34m,\u001b[0m \u001b[0msafe\u001b[0m\u001b[0;34m=\u001b[0m\u001b[0;32mFalse\u001b[0m\u001b[0;34m)\u001b[0m\u001b[0;34m\u001b[0m\u001b[0;34m\u001b[0m\u001b[0m\n\u001b[1;32m    519\u001b[0m \u001b[0;34m\u001b[0m\u001b[0m\n\u001b[0;32m--> 520\u001b[0;31m         \u001b[0mestimator\u001b[0m \u001b[0;34m=\u001b[0m \u001b[0mestimator\u001b[0m\u001b[0;34m.\u001b[0m\u001b[0mset_params\u001b[0m\u001b[0;34m(\u001b[0m\u001b[0;34m**\u001b[0m\u001b[0mcloned_parameters\u001b[0m\u001b[0;34m)\u001b[0m\u001b[0;34m\u001b[0m\u001b[0;34m\u001b[0m\u001b[0m\n\u001b[0m\u001b[1;32m    521\u001b[0m \u001b[0;34m\u001b[0m\u001b[0m\n\u001b[1;32m    522\u001b[0m     \u001b[0mstart_time\u001b[0m \u001b[0;34m=\u001b[0m \u001b[0mtime\u001b[0m\u001b[0;34m.\u001b[0m\u001b[0mtime\u001b[0m\u001b[0;34m(\u001b[0m\u001b[0;34m)\u001b[0m\u001b[0;34m\u001b[0m\u001b[0;34m\u001b[0m\u001b[0m\n",
      "\u001b[0;32m~/.local/lib/python3.8/site-packages/sklearn/base.py\u001b[0m in \u001b[0;36mset_params\u001b[0;34m(self, **params)\u001b[0m\n\u001b[1;32m    247\u001b[0m             \u001b[0mkey\u001b[0m\u001b[0;34m,\u001b[0m \u001b[0mdelim\u001b[0m\u001b[0;34m,\u001b[0m \u001b[0msub_key\u001b[0m \u001b[0;34m=\u001b[0m \u001b[0mkey\u001b[0m\u001b[0;34m.\u001b[0m\u001b[0mpartition\u001b[0m\u001b[0;34m(\u001b[0m\u001b[0;34m'__'\u001b[0m\u001b[0;34m)\u001b[0m\u001b[0;34m\u001b[0m\u001b[0;34m\u001b[0m\u001b[0m\n\u001b[1;32m    248\u001b[0m             \u001b[0;32mif\u001b[0m \u001b[0mkey\u001b[0m \u001b[0;32mnot\u001b[0m \u001b[0;32min\u001b[0m \u001b[0mvalid_params\u001b[0m\u001b[0;34m:\u001b[0m\u001b[0;34m\u001b[0m\u001b[0;34m\u001b[0m\u001b[0m\n\u001b[0;32m--> 249\u001b[0;31m                 raise ValueError('Invalid parameter %s for estimator %s. '\n\u001b[0m\u001b[1;32m    250\u001b[0m                                  \u001b[0;34m'Check the list of available parameters '\u001b[0m\u001b[0;34m\u001b[0m\u001b[0;34m\u001b[0m\u001b[0m\n\u001b[1;32m    251\u001b[0m                                  \u001b[0;34m'with `estimator.get_params().keys()`.'\u001b[0m \u001b[0;34m%\u001b[0m\u001b[0;34m\u001b[0m\u001b[0;34m\u001b[0m\u001b[0m\n",
      "\u001b[0;31mValueError\u001b[0m: Invalid parameter X_train for estimator LinearRegression(). Check the list of available parameters with `estimator.get_params().keys()`."
     ]
    }
   ],
   "source": [
    "max_degree = 15\n",
    "train_scores, valid_scores = validation_curve(LinearRegression(), X_train, y_train, 'X_train', np.logspace(1, max_degree+1, 11), cv=5) # X_train n'est pas un paramètre valide somehow\n",
    "# validation_curve(ma_regression(), X_train, y_train, 'd', np.logspace(1, max_degree+1, 11), cv=5)"
   ]
  },
  {
   "cell_type": "code",
   "execution_count": null,
   "metadata": {},
   "outputs": [],
   "source": []
  },
  {
   "cell_type": "markdown",
   "metadata": {},
   "source": [
    "**Question** On peut donc ensuite tracer les courbes d'erreur d'entraînement et de validation. Puisqu'on a de la validation sur 5 parties, on obtient 5 résultats par degré. Pour la courbe on trace la valeur mediane (la moyenne sur 5 valeurs pouvant être plus fortement affectée par un très bon ou très mauvais résultat. Cela doit ressembler à cela. \n",
    "\n",
    "![validation et train](./validtrain.png)"
   ]
  },
  {
   "cell_type": "code",
   "execution_count": null,
   "metadata": {},
   "outputs": [],
   "source": [
    "# deux plots à faire ici"
   ]
  },
  {
   "cell_type": "markdown",
   "metadata": {},
   "source": [
    "**Question** Quelle est votre interprétation des résultats observés?"
   ]
  },
  {
   "cell_type": "markdown",
   "metadata": {},
   "source": [
    "***Ma réponse :*** Je soupçonne de l'overfitting en voyant l'allure de la courbe"
   ]
  },
  {
   "cell_type": "markdown",
   "metadata": {},
   "source": [
    "**Question** tracer maintenant la figure montrant la courbe estimée et les points dans l'échantillon de valid et de train. Pour cela, j'ai utilisé `linspace` pour obtenir 100 points espacés régulièrement de l'intervalle $[min(X),max(X)]$, j'ai calculé leur prédiction et utilisé `plot` pour tracer la courbe et `scatter` avec l'option `s` pour changer la taille des points. Par exemple pour le degré 3 cela donne cela, mais regardez pour plusieurs valeurs des degrés\n",
    "\n",
    "![courbe finale](courbefinale.png)"
   ]
  },
  {
   "cell_type": "code",
   "execution_count": 139,
   "metadata": {},
   "outputs": [],
   "source": [
    "# deux scatter et un plot à faire ici"
   ]
  },
  {
   "cell_type": "code",
   "execution_count": null,
   "metadata": {},
   "outputs": [],
   "source": []
  },
  {
   "cell_type": "markdown",
   "metadata": {},
   "source": [
    "## Courbe d'apprentissage en fonction de la taille de l'échantillon"
   ]
  },
  {
   "cell_type": "markdown",
   "metadata": {},
   "source": [
    "Regardons maintenant la courbe d'apprentissage en fonction de la taille de l'échantillon. \n",
    "\n",
    "**Question** Lire le fichier `dataGrand.csv` et construire les matrices `X_g` (nd-array) et `y_g` (1d-array)."
   ]
  },
  {
   "cell_type": "code",
   "execution_count": 83,
   "metadata": {},
   "outputs": [],
   "source": [
    "df = pd.read_csv('dataGrand.csv')"
   ]
  },
  {
   "cell_type": "markdown",
   "metadata": {},
   "source": [
    "**Question** Utiliser maintenant `learning_curve` de la librairie `sklearn.model_selection`. En vous inspirant de l'exemple donné dans la [documentation](https://scikit-learn.org/stable/modules/learning_curve.html#validation-curve), calculez les résultats de l'apprentissage avec `ma_regression` pour les degrés $3, 5, 10, 15$ en prenant 10 tailles d'ensemble d'apprentissage entre 1% et 100% (avec `np.linspace(0.01, 1, 10)`)"
   ]
  },
  {
   "cell_type": "code",
   "execution_count": 84,
   "metadata": {},
   "outputs": [],
   "source": [
    "from sklearn.model_selection import learning_curve"
   ]
  },
  {
   "cell_type": "code",
   "execution_count": null,
   "metadata": {},
   "outputs": [],
   "source": [
    "# je me suis battu avec ma_regression() pour le faire fonctionner, j'ai perdu et n'ait pas pu continuer :("
   ]
  },
  {
   "cell_type": "markdown",
   "metadata": {},
   "source": [
    "**Question** Tracer les 4 courbes qui doivent ressemble à ce qui est ci-dessous et analysez les résultats. Qu'en concluez-vous ? \n",
    "\n",
    "![learning curve](learningCurve.png)"
   ]
  },
  {
   "cell_type": "code",
   "execution_count": null,
   "metadata": {},
   "outputs": [],
   "source": []
  },
  {
   "cell_type": "markdown",
   "metadata": {},
   "source": []
  },
  {
   "cell_type": "markdown",
   "metadata": {},
   "source": [
    "## Grid search"
   ]
  },
  {
   "cell_type": "markdown",
   "metadata": {},
   "source": [
    "Ici, on va faire de la recherche d'hyperparamètres en examinant de nombreuses valeurs pour plusieurs paramètres : on construit une grille de plusieurs valeurs possible. On fait ce qu'on appelle du *grid search* qui est en général assez coûteux..."
   ]
  },
  {
   "cell_type": "markdown",
   "metadata": {},
   "source": [
    "**Question** Charger les données de `dataPlusGrand.csv` dans `X_pg` et `y_pg`"
   ]
  },
  {
   "cell_type": "code",
   "execution_count": 82,
   "metadata": {},
   "outputs": [],
   "source": [
    "df = pd.read_csv('dataPlusGrand.csv')"
   ]
  },
  {
   "cell_type": "markdown",
   "metadata": {},
   "source": [
    "**Question** faire un pipeline avec une transformation polynomiale des attributs et un estimateur de la classe `Ridge`"
   ]
  },
  {
   "cell_type": "code",
   "execution_count": null,
   "metadata": {},
   "outputs": [],
   "source": [
    "# je me suis battu avec ma_regression() pour le faire fonctionner, j'ai perdu et n'ait pas pu continuer :("
   ]
  },
  {
   "cell_type": "code",
   "execution_count": null,
   "metadata": {},
   "outputs": [],
   "source": []
  },
  {
   "cell_type": "markdown",
   "metadata": {},
   "source": [
    "**Question** Regarder l'aide sur `GridSearchCV`. Composer une grille de recherche en examinant tous les degres entre 1 et 15 et pour les valeurs de alpha dans l'ensemble `[1e-3, 1e-2, 1e-1, 1]`"
   ]
  },
  {
   "cell_type": "code",
   "execution_count": null,
   "metadata": {},
   "outputs": [],
   "source": []
  },
  {
   "cell_type": "code",
   "execution_count": null,
   "metadata": {},
   "outputs": [],
   "source": []
  },
  {
   "cell_type": "code",
   "execution_count": null,
   "metadata": {},
   "outputs": [],
   "source": []
  },
  {
   "cell_type": "code",
   "execution_count": null,
   "metadata": {},
   "outputs": [],
   "source": []
  },
  {
   "cell_type": "markdown",
   "metadata": {},
   "source": [
    "**Question** Quels sont les meilleurs paramètres ? Quel est le score du meilleur modèle sur `X_pg`, `y_pg` ?"
   ]
  },
  {
   "cell_type": "code",
   "execution_count": null,
   "metadata": {},
   "outputs": [],
   "source": []
  },
  {
   "cell_type": "code",
   "execution_count": null,
   "metadata": {},
   "outputs": [],
   "source": []
  },
  {
   "cell_type": "code",
   "execution_count": null,
   "metadata": {},
   "outputs": [],
   "source": []
  }
 ],
 "metadata": {
  "kernelspec": {
   "display_name": "Python 3",
   "language": "python",
   "name": "python3"
  },
  "language_info": {
   "codemirror_mode": {
    "name": "ipython",
    "version": 3
   },
   "file_extension": ".py",
   "mimetype": "text/x-python",
   "name": "python",
   "nbconvert_exporter": "python",
   "pygments_lexer": "ipython3",
   "version": "3.8.5-final"
  }
 },
 "nbformat": 4,
 "nbformat_minor": 4
}